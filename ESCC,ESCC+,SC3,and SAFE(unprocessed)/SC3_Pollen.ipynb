{
 "cells": [
  {
   "cell_type": "code",
   "execution_count": null,
   "metadata": {},
   "outputs": [
    {
     "name": "stdout",
     "output_type": "stream",
     "text": [
      "class: SingleCellExperiment \n",
      "dim: 23730 301 \n",
      "metadata(0):\n",
      "assays(2): normcounts logcounts\n",
      "rownames(23730): A1BG A1BG-AS1 ... ZZEF1 ZZZ3\n",
      "rowData names(1): feature_symbol\n",
      "colnames(301): Hi_2338_1 Hi_2338_2 ... Hi_GW16_25 Hi_GW16_26\n",
      "colData names(2): cell_type1 cell_type2\n",
      "reducedDimNames(0):\n",
      "spikeNames(1): ERCC\n",
      "altExpNames(0):\n"
     ]
    },
    {
     "name": "stderr",
     "output_type": "stream",
     "text": [
      "Setting SC3 parameters...\n",
      "Warning message:\n",
      "“'isSpike' is deprecated.\n",
      "See help(\"Deprecated\")”Calculating distances between the cells...\n",
      "Performing transformations and calculating eigenvectors...\n",
      "Performing k-means clustering...\n"
     ]
    },
    {
     "name": "stdout",
     "output_type": "stream",
     "text": [
      "\n"
     ]
    },
    {
     "name": "stderr",
     "output_type": "stream",
     "text": [
      "Calculating consensus matrix...\n"
     ]
    },
    {
     "name": "stdout",
     "output_type": "stream",
     "text": [
      "class: SingleCellExperiment \n",
      "dim: 23730 301 \n",
      "metadata(0):\n",
      "assays(2): normcounts logcounts\n",
      "rownames(23730): A1BG A1BG-AS1 ... ZZEF1 ZZZ3\n",
      "rowData names(1): feature_symbol\n",
      "colnames(301): Hi_2338_1 Hi_2338_2 ... Hi_GW16_25 Hi_GW16_26\n",
      "colData names(2): cell_type1 cell_type2\n",
      "reducedDimNames(0):\n",
      "spikeNames(1): ERCC\n",
      "altExpNames(0):\n"
     ]
    },
    {
     "name": "stderr",
     "output_type": "stream",
     "text": [
      "Setting SC3 parameters...\n",
      "Warning message:\n",
      "“'isSpike' is deprecated.\n",
      "See help(\"Deprecated\")”Calculating distances between the cells...\n",
      "Performing transformations and calculating eigenvectors...\n",
      "Performing k-means clustering...\n"
     ]
    },
    {
     "name": "stdout",
     "output_type": "stream",
     "text": [
      "\n"
     ]
    },
    {
     "name": "stderr",
     "output_type": "stream",
     "text": [
      "Calculating consensus matrix...\n"
     ]
    },
    {
     "name": "stdout",
     "output_type": "stream",
     "text": [
      "class: SingleCellExperiment \n",
      "dim: 23730 301 \n",
      "metadata(0):\n",
      "assays(2): normcounts logcounts\n",
      "rownames(23730): A1BG A1BG-AS1 ... ZZEF1 ZZZ3\n",
      "rowData names(1): feature_symbol\n",
      "colnames(301): Hi_2338_1 Hi_2338_2 ... Hi_GW16_25 Hi_GW16_26\n",
      "colData names(2): cell_type1 cell_type2\n",
      "reducedDimNames(0):\n",
      "spikeNames(1): ERCC\n",
      "altExpNames(0):\n"
     ]
    },
    {
     "name": "stderr",
     "output_type": "stream",
     "text": [
      "Setting SC3 parameters...\n",
      "Warning message:\n",
      "“'isSpike' is deprecated.\n",
      "See help(\"Deprecated\")”Calculating distances between the cells...\n",
      "Performing transformations and calculating eigenvectors...\n",
      "Performing k-means clustering...\n"
     ]
    },
    {
     "name": "stdout",
     "output_type": "stream",
     "text": [
      "\n"
     ]
    },
    {
     "name": "stderr",
     "output_type": "stream",
     "text": [
      "Calculating consensus matrix...\n"
     ]
    },
    {
     "name": "stdout",
     "output_type": "stream",
     "text": [
      "class: SingleCellExperiment \n",
      "dim: 23730 301 \n",
      "metadata(0):\n",
      "assays(2): normcounts logcounts\n",
      "rownames(23730): A1BG A1BG-AS1 ... ZZEF1 ZZZ3\n",
      "rowData names(1): feature_symbol\n",
      "colnames(301): Hi_2338_1 Hi_2338_2 ... Hi_GW16_25 Hi_GW16_26\n",
      "colData names(2): cell_type1 cell_type2\n",
      "reducedDimNames(0):\n",
      "spikeNames(1): ERCC\n",
      "altExpNames(0):\n"
     ]
    },
    {
     "name": "stderr",
     "output_type": "stream",
     "text": [
      "Setting SC3 parameters...\n",
      "Warning message:\n",
      "“'isSpike' is deprecated.\n",
      "See help(\"Deprecated\")”Calculating distances between the cells...\n",
      "Performing transformations and calculating eigenvectors...\n",
      "Performing k-means clustering...\n"
     ]
    },
    {
     "name": "stdout",
     "output_type": "stream",
     "text": [
      "\n"
     ]
    },
    {
     "name": "stderr",
     "output_type": "stream",
     "text": [
      "Calculating consensus matrix...\n"
     ]
    },
    {
     "name": "stdout",
     "output_type": "stream",
     "text": [
      "class: SingleCellExperiment \n",
      "dim: 23730 301 \n",
      "metadata(0):\n",
      "assays(2): normcounts logcounts\n",
      "rownames(23730): A1BG A1BG-AS1 ... ZZEF1 ZZZ3\n",
      "rowData names(1): feature_symbol\n",
      "colnames(301): Hi_2338_1 Hi_2338_2 ... Hi_GW16_25 Hi_GW16_26\n",
      "colData names(2): cell_type1 cell_type2\n",
      "reducedDimNames(0):\n",
      "spikeNames(1): ERCC\n",
      "altExpNames(0):\n"
     ]
    },
    {
     "name": "stderr",
     "output_type": "stream",
     "text": [
      "Setting SC3 parameters...\n",
      "Warning message:\n",
      "“'isSpike' is deprecated.\n",
      "See help(\"Deprecated\")”Calculating distances between the cells...\n",
      "Performing transformations and calculating eigenvectors...\n",
      "Performing k-means clustering...\n"
     ]
    },
    {
     "name": "stdout",
     "output_type": "stream",
     "text": [
      "\n"
     ]
    },
    {
     "name": "stderr",
     "output_type": "stream",
     "text": [
      "Calculating consensus matrix...\n"
     ]
    },
    {
     "name": "stdout",
     "output_type": "stream",
     "text": [
      "class: SingleCellExperiment \n",
      "dim: 23730 301 \n",
      "metadata(0):\n",
      "assays(2): normcounts logcounts\n",
      "rownames(23730): A1BG A1BG-AS1 ... ZZEF1 ZZZ3\n",
      "rowData names(1): feature_symbol\n",
      "colnames(301): Hi_2338_1 Hi_2338_2 ... Hi_GW16_25 Hi_GW16_26\n",
      "colData names(2): cell_type1 cell_type2\n",
      "reducedDimNames(0):\n",
      "spikeNames(1): ERCC\n",
      "altExpNames(0):\n"
     ]
    },
    {
     "name": "stderr",
     "output_type": "stream",
     "text": [
      "Setting SC3 parameters...\n",
      "Warning message:\n",
      "“'isSpike' is deprecated.\n",
      "See help(\"Deprecated\")”Calculating distances between the cells...\n",
      "Performing transformations and calculating eigenvectors...\n",
      "Performing k-means clustering...\n"
     ]
    },
    {
     "name": "stdout",
     "output_type": "stream",
     "text": [
      "\n"
     ]
    },
    {
     "name": "stderr",
     "output_type": "stream",
     "text": [
      "Calculating consensus matrix...\n"
     ]
    },
    {
     "name": "stdout",
     "output_type": "stream",
     "text": [
      "class: SingleCellExperiment \n",
      "dim: 23730 301 \n",
      "metadata(0):\n",
      "assays(2): normcounts logcounts\n",
      "rownames(23730): A1BG A1BG-AS1 ... ZZEF1 ZZZ3\n",
      "rowData names(1): feature_symbol\n",
      "colnames(301): Hi_2338_1 Hi_2338_2 ... Hi_GW16_25 Hi_GW16_26\n",
      "colData names(2): cell_type1 cell_type2\n",
      "reducedDimNames(0):\n",
      "spikeNames(1): ERCC\n",
      "altExpNames(0):\n"
     ]
    },
    {
     "name": "stderr",
     "output_type": "stream",
     "text": [
      "Setting SC3 parameters...\n",
      "Warning message:\n",
      "“'isSpike' is deprecated.\n",
      "See help(\"Deprecated\")”Calculating distances between the cells...\n",
      "Performing transformations and calculating eigenvectors...\n",
      "Performing k-means clustering...\n"
     ]
    },
    {
     "name": "stdout",
     "output_type": "stream",
     "text": [
      "\n"
     ]
    },
    {
     "name": "stderr",
     "output_type": "stream",
     "text": [
      "Calculating consensus matrix...\n"
     ]
    },
    {
     "name": "stdout",
     "output_type": "stream",
     "text": [
      "class: SingleCellExperiment \n",
      "dim: 23730 301 \n",
      "metadata(0):\n",
      "assays(2): normcounts logcounts\n",
      "rownames(23730): A1BG A1BG-AS1 ... ZZEF1 ZZZ3\n",
      "rowData names(1): feature_symbol\n",
      "colnames(301): Hi_2338_1 Hi_2338_2 ... Hi_GW16_25 Hi_GW16_26\n",
      "colData names(2): cell_type1 cell_type2\n",
      "reducedDimNames(0):\n",
      "spikeNames(1): ERCC\n",
      "altExpNames(0):\n"
     ]
    },
    {
     "name": "stderr",
     "output_type": "stream",
     "text": [
      "Setting SC3 parameters...\n",
      "Warning message:\n",
      "“'isSpike' is deprecated.\n",
      "See help(\"Deprecated\")”Calculating distances between the cells...\n",
      "Performing transformations and calculating eigenvectors...\n",
      "Performing k-means clustering...\n"
     ]
    }
   ],
   "source": [
    "for(tot in 1:100)\n",
    "{\n",
    "    library('tidyverse')\n",
    "    a<-read_rds('pollen.rds')\n",
    "    print(a)\n",
    "    tryCatch({\n",
    "            counts(a) <-assay(a, \"normcounts\")\n",
    "    }, warning = function(w) {\n",
    "    }, error = function(e) {\n",
    "    }, finally = {\n",
    "    })\n",
    "    logcounts(a)<-log2(counts(a)+1)\n",
    "    library(SingleCellExperiment)\n",
    "    library(SC3)\n",
    "    sce <- SingleCellExperiment(assays = list(counts = counts(a),logcounts= log2(counts(a)+1)))\n",
    "    rowData(sce)$feature_symbol=1:23730\n",
    "    t <- sc3_prepare(sce)\n",
    "    t<-sc3_calc_dists(t)\n",
    "    t<-sc3_calc_transfs(t)\n",
    "    t <- sc3_kmeans(t,ks=11:11)\n",
    "    t <- sc3_calc_consens(t)\n",
    "    scc<-colData(t)$sc3_11_clusters\n",
    "    cat(scc,file=\"SC3_Pollen.txt\",append=TRUE)\n",
    "    cat(\"\\n\",file=\"SC3_Pollen.txt\",append=TRUE)\n",
    "}"
   ]
  },
  {
   "cell_type": "code",
   "execution_count": null,
   "metadata": {},
   "outputs": [],
   "source": []
  }
 ],
 "metadata": {
  "kernelspec": {
   "display_name": "R",
   "language": "R",
   "name": "ir"
  }
 },
 "nbformat": 4,
 "nbformat_minor": 4
}
