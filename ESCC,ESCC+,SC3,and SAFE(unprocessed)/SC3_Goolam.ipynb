{
 "cells": [
  {
   "cell_type": "code",
   "execution_count": 53,
   "metadata": {},
   "outputs": [
    {
     "name": "stdout",
     "output_type": "stream",
     "text": [
      "class: SingleCellExperiment \n",
      "dim: 41428 124 \n",
      "metadata(0):\n",
      "assays(2): counts logcounts\n",
      "rownames(41428): ENSMUSG00000000001 ENSMUSG00000000003 ... ERCC-00170\n",
      "  ERCC-00171\n",
      "rowData names(19): is_feature_control is_feature_control_ERCC ...\n",
      "  feature_symbol feature_id\n",
      "colnames(124): X2cell_1_A X2cell_1_B ... ME_4cell_6_C ME_4cell_6_D\n",
      "colData names(31): cell_type1 total_features ...\n",
      "  pct_counts_top_50_features_ERCC is_cell_control\n",
      "reducedDimNames(0):\n",
      "spikeNames(1): ERCC\n",
      "altExpNames(0):\n"
     ]
    },
    {
     "name": "stderr",
     "output_type": "stream",
     "text": [
      "Setting SC3 parameters...\n",
      "Warning message:\n",
      "“'isSpike' is deprecated.\n",
      "See help(\"Deprecated\")”Calculating distances between the cells...\n",
      "Performing transformations and calculating eigenvectors...\n",
      "Performing k-means clustering...\n"
     ]
    },
    {
     "name": "stdout",
     "output_type": "stream",
     "text": [
      "\n"
     ]
    },
    {
     "name": "stderr",
     "output_type": "stream",
     "text": [
      "Calculating consensus matrix...\n"
     ]
    },
    {
     "name": "stdout",
     "output_type": "stream",
     "text": [
      "class: SingleCellExperiment \n",
      "dim: 41428 124 \n",
      "metadata(0):\n",
      "assays(2): counts logcounts\n",
      "rownames(41428): ENSMUSG00000000001 ENSMUSG00000000003 ... ERCC-00170\n",
      "  ERCC-00171\n",
      "rowData names(19): is_feature_control is_feature_control_ERCC ...\n",
      "  feature_symbol feature_id\n",
      "colnames(124): X2cell_1_A X2cell_1_B ... ME_4cell_6_C ME_4cell_6_D\n",
      "colData names(31): cell_type1 total_features ...\n",
      "  pct_counts_top_50_features_ERCC is_cell_control\n",
      "reducedDimNames(0):\n",
      "spikeNames(1): ERCC\n",
      "altExpNames(0):\n"
     ]
    },
    {
     "name": "stderr",
     "output_type": "stream",
     "text": [
      "Setting SC3 parameters...\n",
      "Warning message:\n",
      "“'isSpike' is deprecated.\n",
      "See help(\"Deprecated\")”Calculating distances between the cells...\n",
      "Performing transformations and calculating eigenvectors...\n",
      "Performing k-means clustering...\n"
     ]
    },
    {
     "name": "stdout",
     "output_type": "stream",
     "text": [
      "\n"
     ]
    },
    {
     "name": "stderr",
     "output_type": "stream",
     "text": [
      "Calculating consensus matrix...\n"
     ]
    },
    {
     "name": "stdout",
     "output_type": "stream",
     "text": [
      "class: SingleCellExperiment \n",
      "dim: 41428 124 \n",
      "metadata(0):\n",
      "assays(2): counts logcounts\n",
      "rownames(41428): ENSMUSG00000000001 ENSMUSG00000000003 ... ERCC-00170\n",
      "  ERCC-00171\n",
      "rowData names(19): is_feature_control is_feature_control_ERCC ...\n",
      "  feature_symbol feature_id\n",
      "colnames(124): X2cell_1_A X2cell_1_B ... ME_4cell_6_C ME_4cell_6_D\n",
      "colData names(31): cell_type1 total_features ...\n",
      "  pct_counts_top_50_features_ERCC is_cell_control\n",
      "reducedDimNames(0):\n",
      "spikeNames(1): ERCC\n",
      "altExpNames(0):\n"
     ]
    },
    {
     "name": "stderr",
     "output_type": "stream",
     "text": [
      "Setting SC3 parameters...\n",
      "Warning message:\n",
      "“'isSpike' is deprecated.\n",
      "See help(\"Deprecated\")”Calculating distances between the cells...\n",
      "Performing transformations and calculating eigenvectors...\n",
      "Performing k-means clustering...\n"
     ]
    },
    {
     "name": "stdout",
     "output_type": "stream",
     "text": [
      "\n"
     ]
    },
    {
     "name": "stderr",
     "output_type": "stream",
     "text": [
      "Calculating consensus matrix...\n"
     ]
    },
    {
     "name": "stdout",
     "output_type": "stream",
     "text": [
      "class: SingleCellExperiment \n",
      "dim: 41428 124 \n",
      "metadata(0):\n",
      "assays(2): counts logcounts\n",
      "rownames(41428): ENSMUSG00000000001 ENSMUSG00000000003 ... ERCC-00170\n",
      "  ERCC-00171\n",
      "rowData names(19): is_feature_control is_feature_control_ERCC ...\n",
      "  feature_symbol feature_id\n",
      "colnames(124): X2cell_1_A X2cell_1_B ... ME_4cell_6_C ME_4cell_6_D\n",
      "colData names(31): cell_type1 total_features ...\n",
      "  pct_counts_top_50_features_ERCC is_cell_control\n",
      "reducedDimNames(0):\n",
      "spikeNames(1): ERCC\n",
      "altExpNames(0):\n"
     ]
    },
    {
     "name": "stderr",
     "output_type": "stream",
     "text": [
      "Setting SC3 parameters...\n",
      "Warning message:\n",
      "“'isSpike' is deprecated.\n",
      "See help(\"Deprecated\")”Calculating distances between the cells...\n",
      "Performing transformations and calculating eigenvectors...\n",
      "Performing k-means clustering...\n"
     ]
    },
    {
     "name": "stdout",
     "output_type": "stream",
     "text": [
      "\n"
     ]
    },
    {
     "name": "stderr",
     "output_type": "stream",
     "text": [
      "Calculating consensus matrix...\n"
     ]
    },
    {
     "name": "stdout",
     "output_type": "stream",
     "text": [
      "class: SingleCellExperiment \n",
      "dim: 41428 124 \n",
      "metadata(0):\n",
      "assays(2): counts logcounts\n",
      "rownames(41428): ENSMUSG00000000001 ENSMUSG00000000003 ... ERCC-00170\n",
      "  ERCC-00171\n",
      "rowData names(19): is_feature_control is_feature_control_ERCC ...\n",
      "  feature_symbol feature_id\n",
      "colnames(124): X2cell_1_A X2cell_1_B ... ME_4cell_6_C ME_4cell_6_D\n",
      "colData names(31): cell_type1 total_features ...\n",
      "  pct_counts_top_50_features_ERCC is_cell_control\n",
      "reducedDimNames(0):\n",
      "spikeNames(1): ERCC\n",
      "altExpNames(0):\n"
     ]
    },
    {
     "name": "stderr",
     "output_type": "stream",
     "text": [
      "Setting SC3 parameters...\n",
      "Warning message:\n",
      "“'isSpike' is deprecated.\n",
      "See help(\"Deprecated\")”Calculating distances between the cells...\n",
      "Performing transformations and calculating eigenvectors...\n",
      "Performing k-means clustering...\n"
     ]
    },
    {
     "name": "stdout",
     "output_type": "stream",
     "text": [
      "\n"
     ]
    },
    {
     "name": "stderr",
     "output_type": "stream",
     "text": [
      "Calculating consensus matrix...\n"
     ]
    },
    {
     "name": "stdout",
     "output_type": "stream",
     "text": [
      "class: SingleCellExperiment \n",
      "dim: 41428 124 \n",
      "metadata(0):\n",
      "assays(2): counts logcounts\n",
      "rownames(41428): ENSMUSG00000000001 ENSMUSG00000000003 ... ERCC-00170\n",
      "  ERCC-00171\n",
      "rowData names(19): is_feature_control is_feature_control_ERCC ...\n",
      "  feature_symbol feature_id\n",
      "colnames(124): X2cell_1_A X2cell_1_B ... ME_4cell_6_C ME_4cell_6_D\n",
      "colData names(31): cell_type1 total_features ...\n",
      "  pct_counts_top_50_features_ERCC is_cell_control\n",
      "reducedDimNames(0):\n",
      "spikeNames(1): ERCC\n",
      "altExpNames(0):\n"
     ]
    },
    {
     "name": "stderr",
     "output_type": "stream",
     "text": [
      "Setting SC3 parameters...\n",
      "Warning message:\n",
      "“'isSpike' is deprecated.\n",
      "See help(\"Deprecated\")”Calculating distances between the cells...\n",
      "Performing transformations and calculating eigenvectors...\n",
      "Performing k-means clustering...\n"
     ]
    },
    {
     "name": "stdout",
     "output_type": "stream",
     "text": [
      "\n"
     ]
    },
    {
     "name": "stderr",
     "output_type": "stream",
     "text": [
      "Calculating consensus matrix...\n"
     ]
    },
    {
     "name": "stdout",
     "output_type": "stream",
     "text": [
      "class: SingleCellExperiment \n",
      "dim: 41428 124 \n",
      "metadata(0):\n",
      "assays(2): counts logcounts\n",
      "rownames(41428): ENSMUSG00000000001 ENSMUSG00000000003 ... ERCC-00170\n",
      "  ERCC-00171\n",
      "rowData names(19): is_feature_control is_feature_control_ERCC ...\n",
      "  feature_symbol feature_id\n",
      "colnames(124): X2cell_1_A X2cell_1_B ... ME_4cell_6_C ME_4cell_6_D\n",
      "colData names(31): cell_type1 total_features ...\n",
      "  pct_counts_top_50_features_ERCC is_cell_control\n",
      "reducedDimNames(0):\n",
      "spikeNames(1): ERCC\n",
      "altExpNames(0):\n"
     ]
    },
    {
     "name": "stderr",
     "output_type": "stream",
     "text": [
      "Setting SC3 parameters...\n",
      "Warning message:\n",
      "“'isSpike' is deprecated.\n",
      "See help(\"Deprecated\")”Calculating distances between the cells...\n",
      "Performing transformations and calculating eigenvectors...\n",
      "Performing k-means clustering...\n"
     ]
    },
    {
     "name": "stdout",
     "output_type": "stream",
     "text": [
      "\n"
     ]
    },
    {
     "name": "stderr",
     "output_type": "stream",
     "text": [
      "Calculating consensus matrix...\n"
     ]
    },
    {
     "name": "stdout",
     "output_type": "stream",
     "text": [
      "class: SingleCellExperiment \n",
      "dim: 41428 124 \n",
      "metadata(0):\n",
      "assays(2): counts logcounts\n",
      "rownames(41428): ENSMUSG00000000001 ENSMUSG00000000003 ... ERCC-00170\n",
      "  ERCC-00171\n",
      "rowData names(19): is_feature_control is_feature_control_ERCC ...\n",
      "  feature_symbol feature_id\n",
      "colnames(124): X2cell_1_A X2cell_1_B ... ME_4cell_6_C ME_4cell_6_D\n",
      "colData names(31): cell_type1 total_features ...\n",
      "  pct_counts_top_50_features_ERCC is_cell_control\n",
      "reducedDimNames(0):\n",
      "spikeNames(1): ERCC\n",
      "altExpNames(0):\n"
     ]
    },
    {
     "name": "stderr",
     "output_type": "stream",
     "text": [
      "Setting SC3 parameters...\n",
      "Warning message:\n",
      "“'isSpike' is deprecated.\n",
      "See help(\"Deprecated\")”Calculating distances between the cells...\n",
      "Performing transformations and calculating eigenvectors...\n",
      "Performing k-means clustering...\n"
     ]
    },
    {
     "name": "stdout",
     "output_type": "stream",
     "text": [
      "\n"
     ]
    },
    {
     "name": "stderr",
     "output_type": "stream",
     "text": [
      "Calculating consensus matrix...\n"
     ]
    },
    {
     "name": "stdout",
     "output_type": "stream",
     "text": [
      "class: SingleCellExperiment \n",
      "dim: 41428 124 \n",
      "metadata(0):\n",
      "assays(2): counts logcounts\n",
      "rownames(41428): ENSMUSG00000000001 ENSMUSG00000000003 ... ERCC-00170\n",
      "  ERCC-00171\n",
      "rowData names(19): is_feature_control is_feature_control_ERCC ...\n",
      "  feature_symbol feature_id\n",
      "colnames(124): X2cell_1_A X2cell_1_B ... ME_4cell_6_C ME_4cell_6_D\n",
      "colData names(31): cell_type1 total_features ...\n",
      "  pct_counts_top_50_features_ERCC is_cell_control\n",
      "reducedDimNames(0):\n",
      "spikeNames(1): ERCC\n",
      "altExpNames(0):\n"
     ]
    },
    {
     "name": "stderr",
     "output_type": "stream",
     "text": [
      "Setting SC3 parameters...\n",
      "Warning message:\n",
      "“'isSpike' is deprecated.\n",
      "See help(\"Deprecated\")”Calculating distances between the cells...\n",
      "Performing transformations and calculating eigenvectors...\n",
      "Performing k-means clustering...\n"
     ]
    },
    {
     "name": "stdout",
     "output_type": "stream",
     "text": [
      "\n"
     ]
    },
    {
     "name": "stderr",
     "output_type": "stream",
     "text": [
      "Calculating consensus matrix...\n"
     ]
    },
    {
     "name": "stdout",
     "output_type": "stream",
     "text": [
      "class: SingleCellExperiment \n",
      "dim: 41428 124 \n",
      "metadata(0):\n",
      "assays(2): counts logcounts\n",
      "rownames(41428): ENSMUSG00000000001 ENSMUSG00000000003 ... ERCC-00170\n",
      "  ERCC-00171\n",
      "rowData names(19): is_feature_control is_feature_control_ERCC ...\n",
      "  feature_symbol feature_id\n",
      "colnames(124): X2cell_1_A X2cell_1_B ... ME_4cell_6_C ME_4cell_6_D\n",
      "colData names(31): cell_type1 total_features ...\n",
      "  pct_counts_top_50_features_ERCC is_cell_control\n",
      "reducedDimNames(0):\n",
      "spikeNames(1): ERCC\n",
      "altExpNames(0):\n"
     ]
    },
    {
     "name": "stderr",
     "output_type": "stream",
     "text": [
      "Setting SC3 parameters...\n",
      "Warning message:\n",
      "“'isSpike' is deprecated.\n",
      "See help(\"Deprecated\")”Calculating distances between the cells...\n",
      "Performing transformations and calculating eigenvectors...\n",
      "Performing k-means clustering...\n"
     ]
    },
    {
     "name": "stdout",
     "output_type": "stream",
     "text": [
      "\n"
     ]
    },
    {
     "name": "stderr",
     "output_type": "stream",
     "text": [
      "Calculating consensus matrix...\n"
     ]
    },
    {
     "name": "stdout",
     "output_type": "stream",
     "text": [
      "class: SingleCellExperiment \n",
      "dim: 41428 124 \n",
      "metadata(0):\n",
      "assays(2): counts logcounts\n",
      "rownames(41428): ENSMUSG00000000001 ENSMUSG00000000003 ... ERCC-00170\n",
      "  ERCC-00171\n",
      "rowData names(19): is_feature_control is_feature_control_ERCC ...\n",
      "  feature_symbol feature_id\n",
      "colnames(124): X2cell_1_A X2cell_1_B ... ME_4cell_6_C ME_4cell_6_D\n",
      "colData names(31): cell_type1 total_features ...\n",
      "  pct_counts_top_50_features_ERCC is_cell_control\n",
      "reducedDimNames(0):\n",
      "spikeNames(1): ERCC\n",
      "altExpNames(0):\n"
     ]
    },
    {
     "name": "stderr",
     "output_type": "stream",
     "text": [
      "Setting SC3 parameters...\n",
      "Warning message:\n",
      "“'isSpike' is deprecated.\n",
      "See help(\"Deprecated\")”Calculating distances between the cells...\n",
      "Performing transformations and calculating eigenvectors...\n",
      "Performing k-means clustering...\n"
     ]
    },
    {
     "name": "stdout",
     "output_type": "stream",
     "text": [
      "\n"
     ]
    },
    {
     "name": "stderr",
     "output_type": "stream",
     "text": [
      "Calculating consensus matrix...\n"
     ]
    },
    {
     "name": "stdout",
     "output_type": "stream",
     "text": [
      "class: SingleCellExperiment \n",
      "dim: 41428 124 \n",
      "metadata(0):\n",
      "assays(2): counts logcounts\n",
      "rownames(41428): ENSMUSG00000000001 ENSMUSG00000000003 ... ERCC-00170\n",
      "  ERCC-00171\n",
      "rowData names(19): is_feature_control is_feature_control_ERCC ...\n",
      "  feature_symbol feature_id\n",
      "colnames(124): X2cell_1_A X2cell_1_B ... ME_4cell_6_C ME_4cell_6_D\n",
      "colData names(31): cell_type1 total_features ...\n",
      "  pct_counts_top_50_features_ERCC is_cell_control\n",
      "reducedDimNames(0):\n",
      "spikeNames(1): ERCC\n",
      "altExpNames(0):\n"
     ]
    },
    {
     "name": "stderr",
     "output_type": "stream",
     "text": [
      "Setting SC3 parameters...\n",
      "Warning message:\n",
      "“'isSpike' is deprecated.\n",
      "See help(\"Deprecated\")”Calculating distances between the cells...\n",
      "Performing transformations and calculating eigenvectors...\n",
      "Performing k-means clustering...\n"
     ]
    },
    {
     "name": "stdout",
     "output_type": "stream",
     "text": [
      "\n"
     ]
    },
    {
     "name": "stderr",
     "output_type": "stream",
     "text": [
      "Calculating consensus matrix...\n"
     ]
    },
    {
     "name": "stdout",
     "output_type": "stream",
     "text": [
      "class: SingleCellExperiment \n",
      "dim: 41428 124 \n",
      "metadata(0):\n",
      "assays(2): counts logcounts\n",
      "rownames(41428): ENSMUSG00000000001 ENSMUSG00000000003 ... ERCC-00170\n",
      "  ERCC-00171\n",
      "rowData names(19): is_feature_control is_feature_control_ERCC ...\n",
      "  feature_symbol feature_id\n",
      "colnames(124): X2cell_1_A X2cell_1_B ... ME_4cell_6_C ME_4cell_6_D\n",
      "colData names(31): cell_type1 total_features ...\n",
      "  pct_counts_top_50_features_ERCC is_cell_control\n",
      "reducedDimNames(0):\n",
      "spikeNames(1): ERCC\n",
      "altExpNames(0):\n"
     ]
    },
    {
     "name": "stderr",
     "output_type": "stream",
     "text": [
      "Setting SC3 parameters...\n",
      "Warning message:\n",
      "“'isSpike' is deprecated.\n",
      "See help(\"Deprecated\")”Calculating distances between the cells...\n",
      "Performing transformations and calculating eigenvectors...\n",
      "Performing k-means clustering...\n"
     ]
    },
    {
     "name": "stdout",
     "output_type": "stream",
     "text": [
      "\n"
     ]
    },
    {
     "name": "stderr",
     "output_type": "stream",
     "text": [
      "Calculating consensus matrix...\n"
     ]
    },
    {
     "name": "stdout",
     "output_type": "stream",
     "text": [
      "class: SingleCellExperiment \n",
      "dim: 41428 124 \n",
      "metadata(0):\n",
      "assays(2): counts logcounts\n",
      "rownames(41428): ENSMUSG00000000001 ENSMUSG00000000003 ... ERCC-00170\n",
      "  ERCC-00171\n",
      "rowData names(19): is_feature_control is_feature_control_ERCC ...\n",
      "  feature_symbol feature_id\n",
      "colnames(124): X2cell_1_A X2cell_1_B ... ME_4cell_6_C ME_4cell_6_D\n",
      "colData names(31): cell_type1 total_features ...\n",
      "  pct_counts_top_50_features_ERCC is_cell_control\n",
      "reducedDimNames(0):\n",
      "spikeNames(1): ERCC\n",
      "altExpNames(0):\n"
     ]
    },
    {
     "name": "stderr",
     "output_type": "stream",
     "text": [
      "Setting SC3 parameters...\n",
      "Warning message:\n",
      "“'isSpike' is deprecated.\n",
      "See help(\"Deprecated\")”Calculating distances between the cells...\n",
      "Performing transformations and calculating eigenvectors...\n",
      "Performing k-means clustering...\n"
     ]
    },
    {
     "name": "stdout",
     "output_type": "stream",
     "text": [
      "\n"
     ]
    },
    {
     "name": "stderr",
     "output_type": "stream",
     "text": [
      "Calculating consensus matrix...\n"
     ]
    },
    {
     "name": "stdout",
     "output_type": "stream",
     "text": [
      "class: SingleCellExperiment \n",
      "dim: 41428 124 \n",
      "metadata(0):\n",
      "assays(2): counts logcounts\n",
      "rownames(41428): ENSMUSG00000000001 ENSMUSG00000000003 ... ERCC-00170\n",
      "  ERCC-00171\n",
      "rowData names(19): is_feature_control is_feature_control_ERCC ...\n",
      "  feature_symbol feature_id\n",
      "colnames(124): X2cell_1_A X2cell_1_B ... ME_4cell_6_C ME_4cell_6_D\n",
      "colData names(31): cell_type1 total_features ...\n",
      "  pct_counts_top_50_features_ERCC is_cell_control\n",
      "reducedDimNames(0):\n",
      "spikeNames(1): ERCC\n",
      "altExpNames(0):\n"
     ]
    },
    {
     "name": "stderr",
     "output_type": "stream",
     "text": [
      "Setting SC3 parameters...\n",
      "Warning message:\n",
      "“'isSpike' is deprecated.\n",
      "See help(\"Deprecated\")”Calculating distances between the cells...\n",
      "Performing transformations and calculating eigenvectors...\n",
      "Performing k-means clustering...\n"
     ]
    },
    {
     "name": "stdout",
     "output_type": "stream",
     "text": [
      "\n"
     ]
    },
    {
     "name": "stderr",
     "output_type": "stream",
     "text": [
      "Calculating consensus matrix...\n"
     ]
    },
    {
     "name": "stdout",
     "output_type": "stream",
     "text": [
      "class: SingleCellExperiment \n",
      "dim: 41428 124 \n",
      "metadata(0):\n",
      "assays(2): counts logcounts\n",
      "rownames(41428): ENSMUSG00000000001 ENSMUSG00000000003 ... ERCC-00170\n",
      "  ERCC-00171\n",
      "rowData names(19): is_feature_control is_feature_control_ERCC ...\n",
      "  feature_symbol feature_id\n",
      "colnames(124): X2cell_1_A X2cell_1_B ... ME_4cell_6_C ME_4cell_6_D\n",
      "colData names(31): cell_type1 total_features ...\n",
      "  pct_counts_top_50_features_ERCC is_cell_control\n",
      "reducedDimNames(0):\n",
      "spikeNames(1): ERCC\n",
      "altExpNames(0):\n"
     ]
    },
    {
     "name": "stderr",
     "output_type": "stream",
     "text": [
      "Setting SC3 parameters...\n",
      "Warning message:\n",
      "“'isSpike' is deprecated.\n",
      "See help(\"Deprecated\")”Calculating distances between the cells...\n",
      "Performing transformations and calculating eigenvectors...\n",
      "Performing k-means clustering...\n"
     ]
    },
    {
     "name": "stdout",
     "output_type": "stream",
     "text": [
      "\n"
     ]
    },
    {
     "name": "stderr",
     "output_type": "stream",
     "text": [
      "Calculating consensus matrix...\n"
     ]
    },
    {
     "name": "stdout",
     "output_type": "stream",
     "text": [
      "class: SingleCellExperiment \n",
      "dim: 41428 124 \n",
      "metadata(0):\n",
      "assays(2): counts logcounts\n",
      "rownames(41428): ENSMUSG00000000001 ENSMUSG00000000003 ... ERCC-00170\n",
      "  ERCC-00171\n",
      "rowData names(19): is_feature_control is_feature_control_ERCC ...\n",
      "  feature_symbol feature_id\n",
      "colnames(124): X2cell_1_A X2cell_1_B ... ME_4cell_6_C ME_4cell_6_D\n",
      "colData names(31): cell_type1 total_features ...\n",
      "  pct_counts_top_50_features_ERCC is_cell_control\n",
      "reducedDimNames(0):\n",
      "spikeNames(1): ERCC\n",
      "altExpNames(0):\n"
     ]
    },
    {
     "name": "stderr",
     "output_type": "stream",
     "text": [
      "Setting SC3 parameters...\n",
      "Warning message:\n",
      "“'isSpike' is deprecated.\n",
      "See help(\"Deprecated\")”Calculating distances between the cells...\n",
      "Performing transformations and calculating eigenvectors...\n",
      "Performing k-means clustering...\n"
     ]
    },
    {
     "name": "stdout",
     "output_type": "stream",
     "text": [
      "\n"
     ]
    },
    {
     "name": "stderr",
     "output_type": "stream",
     "text": [
      "Calculating consensus matrix...\n"
     ]
    },
    {
     "name": "stdout",
     "output_type": "stream",
     "text": [
      "class: SingleCellExperiment \n",
      "dim: 41428 124 \n",
      "metadata(0):\n",
      "assays(2): counts logcounts\n",
      "rownames(41428): ENSMUSG00000000001 ENSMUSG00000000003 ... ERCC-00170\n",
      "  ERCC-00171\n",
      "rowData names(19): is_feature_control is_feature_control_ERCC ...\n",
      "  feature_symbol feature_id\n",
      "colnames(124): X2cell_1_A X2cell_1_B ... ME_4cell_6_C ME_4cell_6_D\n",
      "colData names(31): cell_type1 total_features ...\n",
      "  pct_counts_top_50_features_ERCC is_cell_control\n",
      "reducedDimNames(0):\n",
      "spikeNames(1): ERCC\n",
      "altExpNames(0):\n"
     ]
    },
    {
     "name": "stderr",
     "output_type": "stream",
     "text": [
      "Setting SC3 parameters...\n",
      "Warning message:\n",
      "“'isSpike' is deprecated.\n",
      "See help(\"Deprecated\")”Calculating distances between the cells...\n",
      "Performing transformations and calculating eigenvectors...\n",
      "Performing k-means clustering...\n"
     ]
    },
    {
     "name": "stdout",
     "output_type": "stream",
     "text": [
      "\n"
     ]
    },
    {
     "name": "stderr",
     "output_type": "stream",
     "text": [
      "Calculating consensus matrix...\n"
     ]
    },
    {
     "name": "stdout",
     "output_type": "stream",
     "text": [
      "class: SingleCellExperiment \n",
      "dim: 41428 124 \n",
      "metadata(0):\n",
      "assays(2): counts logcounts\n",
      "rownames(41428): ENSMUSG00000000001 ENSMUSG00000000003 ... ERCC-00170\n",
      "  ERCC-00171\n",
      "rowData names(19): is_feature_control is_feature_control_ERCC ...\n",
      "  feature_symbol feature_id\n",
      "colnames(124): X2cell_1_A X2cell_1_B ... ME_4cell_6_C ME_4cell_6_D\n",
      "colData names(31): cell_type1 total_features ...\n",
      "  pct_counts_top_50_features_ERCC is_cell_control\n",
      "reducedDimNames(0):\n",
      "spikeNames(1): ERCC\n",
      "altExpNames(0):\n"
     ]
    },
    {
     "name": "stderr",
     "output_type": "stream",
     "text": [
      "Setting SC3 parameters...\n",
      "Warning message:\n",
      "“'isSpike' is deprecated.\n",
      "See help(\"Deprecated\")”Calculating distances between the cells...\n",
      "Performing transformations and calculating eigenvectors...\n",
      "Performing k-means clustering...\n"
     ]
    },
    {
     "name": "stdout",
     "output_type": "stream",
     "text": [
      "\n"
     ]
    },
    {
     "name": "stderr",
     "output_type": "stream",
     "text": [
      "Calculating consensus matrix...\n"
     ]
    },
    {
     "name": "stdout",
     "output_type": "stream",
     "text": [
      "class: SingleCellExperiment \n",
      "dim: 41428 124 \n",
      "metadata(0):\n",
      "assays(2): counts logcounts\n",
      "rownames(41428): ENSMUSG00000000001 ENSMUSG00000000003 ... ERCC-00170\n",
      "  ERCC-00171\n",
      "rowData names(19): is_feature_control is_feature_control_ERCC ...\n",
      "  feature_symbol feature_id\n",
      "colnames(124): X2cell_1_A X2cell_1_B ... ME_4cell_6_C ME_4cell_6_D\n",
      "colData names(31): cell_type1 total_features ...\n",
      "  pct_counts_top_50_features_ERCC is_cell_control\n",
      "reducedDimNames(0):\n",
      "spikeNames(1): ERCC\n",
      "altExpNames(0):\n"
     ]
    },
    {
     "name": "stderr",
     "output_type": "stream",
     "text": [
      "Setting SC3 parameters...\n",
      "Warning message:\n",
      "“'isSpike' is deprecated.\n",
      "See help(\"Deprecated\")”Calculating distances between the cells...\n",
      "Performing transformations and calculating eigenvectors...\n",
      "Performing k-means clustering...\n"
     ]
    },
    {
     "name": "stdout",
     "output_type": "stream",
     "text": [
      "\n"
     ]
    },
    {
     "name": "stderr",
     "output_type": "stream",
     "text": [
      "Calculating consensus matrix...\n"
     ]
    },
    {
     "name": "stdout",
     "output_type": "stream",
     "text": [
      "class: SingleCellExperiment \n",
      "dim: 41428 124 \n",
      "metadata(0):\n",
      "assays(2): counts logcounts\n",
      "rownames(41428): ENSMUSG00000000001 ENSMUSG00000000003 ... ERCC-00170\n",
      "  ERCC-00171\n",
      "rowData names(19): is_feature_control is_feature_control_ERCC ...\n",
      "  feature_symbol feature_id\n",
      "colnames(124): X2cell_1_A X2cell_1_B ... ME_4cell_6_C ME_4cell_6_D\n",
      "colData names(31): cell_type1 total_features ...\n",
      "  pct_counts_top_50_features_ERCC is_cell_control\n",
      "reducedDimNames(0):\n",
      "spikeNames(1): ERCC\n",
      "altExpNames(0):\n"
     ]
    },
    {
     "name": "stderr",
     "output_type": "stream",
     "text": [
      "Setting SC3 parameters...\n",
      "Warning message:\n",
      "“'isSpike' is deprecated.\n",
      "See help(\"Deprecated\")”Calculating distances between the cells...\n",
      "Performing transformations and calculating eigenvectors...\n",
      "Performing k-means clustering...\n"
     ]
    },
    {
     "name": "stdout",
     "output_type": "stream",
     "text": [
      "\n"
     ]
    },
    {
     "name": "stderr",
     "output_type": "stream",
     "text": [
      "Calculating consensus matrix...\n"
     ]
    },
    {
     "name": "stdout",
     "output_type": "stream",
     "text": [
      "class: SingleCellExperiment \n",
      "dim: 41428 124 \n",
      "metadata(0):\n",
      "assays(2): counts logcounts\n",
      "rownames(41428): ENSMUSG00000000001 ENSMUSG00000000003 ... ERCC-00170\n",
      "  ERCC-00171\n",
      "rowData names(19): is_feature_control is_feature_control_ERCC ...\n",
      "  feature_symbol feature_id\n",
      "colnames(124): X2cell_1_A X2cell_1_B ... ME_4cell_6_C ME_4cell_6_D\n",
      "colData names(31): cell_type1 total_features ...\n",
      "  pct_counts_top_50_features_ERCC is_cell_control\n",
      "reducedDimNames(0):\n",
      "spikeNames(1): ERCC\n",
      "altExpNames(0):\n"
     ]
    },
    {
     "name": "stderr",
     "output_type": "stream",
     "text": [
      "Setting SC3 parameters...\n",
      "Warning message:\n",
      "“'isSpike' is deprecated.\n",
      "See help(\"Deprecated\")”Calculating distances between the cells...\n",
      "Performing transformations and calculating eigenvectors...\n",
      "Performing k-means clustering...\n"
     ]
    },
    {
     "name": "stdout",
     "output_type": "stream",
     "text": [
      "\n"
     ]
    },
    {
     "name": "stderr",
     "output_type": "stream",
     "text": [
      "Calculating consensus matrix...\n"
     ]
    },
    {
     "name": "stdout",
     "output_type": "stream",
     "text": [
      "class: SingleCellExperiment \n",
      "dim: 41428 124 \n",
      "metadata(0):\n",
      "assays(2): counts logcounts\n",
      "rownames(41428): ENSMUSG00000000001 ENSMUSG00000000003 ... ERCC-00170\n",
      "  ERCC-00171\n",
      "rowData names(19): is_feature_control is_feature_control_ERCC ...\n",
      "  feature_symbol feature_id\n",
      "colnames(124): X2cell_1_A X2cell_1_B ... ME_4cell_6_C ME_4cell_6_D\n",
      "colData names(31): cell_type1 total_features ...\n",
      "  pct_counts_top_50_features_ERCC is_cell_control\n",
      "reducedDimNames(0):\n",
      "spikeNames(1): ERCC\n",
      "altExpNames(0):\n"
     ]
    },
    {
     "name": "stderr",
     "output_type": "stream",
     "text": [
      "Setting SC3 parameters...\n",
      "Warning message:\n",
      "“'isSpike' is deprecated.\n",
      "See help(\"Deprecated\")”Calculating distances between the cells...\n",
      "Performing transformations and calculating eigenvectors...\n",
      "Performing k-means clustering...\n"
     ]
    },
    {
     "name": "stdout",
     "output_type": "stream",
     "text": [
      "\n"
     ]
    },
    {
     "name": "stderr",
     "output_type": "stream",
     "text": [
      "Calculating consensus matrix...\n"
     ]
    },
    {
     "name": "stdout",
     "output_type": "stream",
     "text": [
      "class: SingleCellExperiment \n",
      "dim: 41428 124 \n",
      "metadata(0):\n",
      "assays(2): counts logcounts\n",
      "rownames(41428): ENSMUSG00000000001 ENSMUSG00000000003 ... ERCC-00170\n",
      "  ERCC-00171\n",
      "rowData names(19): is_feature_control is_feature_control_ERCC ...\n",
      "  feature_symbol feature_id\n",
      "colnames(124): X2cell_1_A X2cell_1_B ... ME_4cell_6_C ME_4cell_6_D\n",
      "colData names(31): cell_type1 total_features ...\n",
      "  pct_counts_top_50_features_ERCC is_cell_control\n",
      "reducedDimNames(0):\n",
      "spikeNames(1): ERCC\n",
      "altExpNames(0):\n"
     ]
    },
    {
     "name": "stderr",
     "output_type": "stream",
     "text": [
      "Setting SC3 parameters...\n",
      "Warning message:\n",
      "“'isSpike' is deprecated.\n",
      "See help(\"Deprecated\")”Calculating distances between the cells...\n",
      "Performing transformations and calculating eigenvectors...\n",
      "Performing k-means clustering...\n"
     ]
    },
    {
     "name": "stdout",
     "output_type": "stream",
     "text": [
      "\n"
     ]
    },
    {
     "name": "stderr",
     "output_type": "stream",
     "text": [
      "Calculating consensus matrix...\n"
     ]
    },
    {
     "name": "stdout",
     "output_type": "stream",
     "text": [
      "class: SingleCellExperiment \n",
      "dim: 41428 124 \n",
      "metadata(0):\n",
      "assays(2): counts logcounts\n",
      "rownames(41428): ENSMUSG00000000001 ENSMUSG00000000003 ... ERCC-00170\n",
      "  ERCC-00171\n",
      "rowData names(19): is_feature_control is_feature_control_ERCC ...\n",
      "  feature_symbol feature_id\n",
      "colnames(124): X2cell_1_A X2cell_1_B ... ME_4cell_6_C ME_4cell_6_D\n",
      "colData names(31): cell_type1 total_features ...\n",
      "  pct_counts_top_50_features_ERCC is_cell_control\n",
      "reducedDimNames(0):\n",
      "spikeNames(1): ERCC\n",
      "altExpNames(0):\n"
     ]
    },
    {
     "name": "stderr",
     "output_type": "stream",
     "text": [
      "Setting SC3 parameters...\n",
      "Warning message:\n",
      "“'isSpike' is deprecated.\n",
      "See help(\"Deprecated\")”Calculating distances between the cells...\n",
      "Performing transformations and calculating eigenvectors...\n",
      "Performing k-means clustering...\n"
     ]
    },
    {
     "name": "stdout",
     "output_type": "stream",
     "text": [
      "\n"
     ]
    },
    {
     "name": "stderr",
     "output_type": "stream",
     "text": [
      "Calculating consensus matrix...\n"
     ]
    },
    {
     "name": "stdout",
     "output_type": "stream",
     "text": [
      "class: SingleCellExperiment \n",
      "dim: 41428 124 \n",
      "metadata(0):\n",
      "assays(2): counts logcounts\n",
      "rownames(41428): ENSMUSG00000000001 ENSMUSG00000000003 ... ERCC-00170\n",
      "  ERCC-00171\n",
      "rowData names(19): is_feature_control is_feature_control_ERCC ...\n",
      "  feature_symbol feature_id\n",
      "colnames(124): X2cell_1_A X2cell_1_B ... ME_4cell_6_C ME_4cell_6_D\n",
      "colData names(31): cell_type1 total_features ...\n",
      "  pct_counts_top_50_features_ERCC is_cell_control\n",
      "reducedDimNames(0):\n",
      "spikeNames(1): ERCC\n",
      "altExpNames(0):\n"
     ]
    },
    {
     "name": "stderr",
     "output_type": "stream",
     "text": [
      "Setting SC3 parameters...\n",
      "Warning message:\n",
      "“'isSpike' is deprecated.\n",
      "See help(\"Deprecated\")”Calculating distances between the cells...\n",
      "Performing transformations and calculating eigenvectors...\n",
      "Performing k-means clustering...\n"
     ]
    },
    {
     "name": "stdout",
     "output_type": "stream",
     "text": [
      "\n"
     ]
    },
    {
     "name": "stderr",
     "output_type": "stream",
     "text": [
      "Calculating consensus matrix...\n"
     ]
    },
    {
     "name": "stdout",
     "output_type": "stream",
     "text": [
      "class: SingleCellExperiment \n",
      "dim: 41428 124 \n",
      "metadata(0):\n",
      "assays(2): counts logcounts\n",
      "rownames(41428): ENSMUSG00000000001 ENSMUSG00000000003 ... ERCC-00170\n",
      "  ERCC-00171\n",
      "rowData names(19): is_feature_control is_feature_control_ERCC ...\n",
      "  feature_symbol feature_id\n",
      "colnames(124): X2cell_1_A X2cell_1_B ... ME_4cell_6_C ME_4cell_6_D\n",
      "colData names(31): cell_type1 total_features ...\n",
      "  pct_counts_top_50_features_ERCC is_cell_control\n",
      "reducedDimNames(0):\n",
      "spikeNames(1): ERCC\n",
      "altExpNames(0):\n"
     ]
    },
    {
     "name": "stderr",
     "output_type": "stream",
     "text": [
      "Setting SC3 parameters...\n",
      "Warning message:\n",
      "“'isSpike' is deprecated.\n",
      "See help(\"Deprecated\")”Calculating distances between the cells...\n",
      "Performing transformations and calculating eigenvectors...\n",
      "Performing k-means clustering...\n"
     ]
    },
    {
     "name": "stdout",
     "output_type": "stream",
     "text": [
      "\n"
     ]
    },
    {
     "name": "stderr",
     "output_type": "stream",
     "text": [
      "Calculating consensus matrix...\n"
     ]
    },
    {
     "name": "stdout",
     "output_type": "stream",
     "text": [
      "class: SingleCellExperiment \n",
      "dim: 41428 124 \n",
      "metadata(0):\n",
      "assays(2): counts logcounts\n",
      "rownames(41428): ENSMUSG00000000001 ENSMUSG00000000003 ... ERCC-00170\n",
      "  ERCC-00171\n",
      "rowData names(19): is_feature_control is_feature_control_ERCC ...\n",
      "  feature_symbol feature_id\n",
      "colnames(124): X2cell_1_A X2cell_1_B ... ME_4cell_6_C ME_4cell_6_D\n",
      "colData names(31): cell_type1 total_features ...\n",
      "  pct_counts_top_50_features_ERCC is_cell_control\n",
      "reducedDimNames(0):\n",
      "spikeNames(1): ERCC\n",
      "altExpNames(0):\n"
     ]
    },
    {
     "name": "stderr",
     "output_type": "stream",
     "text": [
      "Setting SC3 parameters...\n",
      "Warning message:\n",
      "“'isSpike' is deprecated.\n",
      "See help(\"Deprecated\")”Calculating distances between the cells...\n",
      "Performing transformations and calculating eigenvectors...\n",
      "Performing k-means clustering...\n"
     ]
    },
    {
     "name": "stdout",
     "output_type": "stream",
     "text": [
      "\n"
     ]
    },
    {
     "name": "stderr",
     "output_type": "stream",
     "text": [
      "Calculating consensus matrix...\n"
     ]
    },
    {
     "name": "stdout",
     "output_type": "stream",
     "text": [
      "class: SingleCellExperiment \n",
      "dim: 41428 124 \n",
      "metadata(0):\n",
      "assays(2): counts logcounts\n",
      "rownames(41428): ENSMUSG00000000001 ENSMUSG00000000003 ... ERCC-00170\n",
      "  ERCC-00171\n",
      "rowData names(19): is_feature_control is_feature_control_ERCC ...\n",
      "  feature_symbol feature_id\n",
      "colnames(124): X2cell_1_A X2cell_1_B ... ME_4cell_6_C ME_4cell_6_D\n",
      "colData names(31): cell_type1 total_features ...\n",
      "  pct_counts_top_50_features_ERCC is_cell_control\n",
      "reducedDimNames(0):\n",
      "spikeNames(1): ERCC\n",
      "altExpNames(0):\n"
     ]
    },
    {
     "name": "stderr",
     "output_type": "stream",
     "text": [
      "Setting SC3 parameters...\n",
      "Warning message:\n",
      "“'isSpike' is deprecated.\n",
      "See help(\"Deprecated\")”Calculating distances between the cells...\n",
      "Performing transformations and calculating eigenvectors...\n",
      "Performing k-means clustering...\n"
     ]
    },
    {
     "name": "stdout",
     "output_type": "stream",
     "text": [
      "\n"
     ]
    },
    {
     "name": "stderr",
     "output_type": "stream",
     "text": [
      "Calculating consensus matrix...\n"
     ]
    },
    {
     "name": "stdout",
     "output_type": "stream",
     "text": [
      "class: SingleCellExperiment \n",
      "dim: 41428 124 \n",
      "metadata(0):\n",
      "assays(2): counts logcounts\n",
      "rownames(41428): ENSMUSG00000000001 ENSMUSG00000000003 ... ERCC-00170\n",
      "  ERCC-00171\n",
      "rowData names(19): is_feature_control is_feature_control_ERCC ...\n",
      "  feature_symbol feature_id\n",
      "colnames(124): X2cell_1_A X2cell_1_B ... ME_4cell_6_C ME_4cell_6_D\n",
      "colData names(31): cell_type1 total_features ...\n",
      "  pct_counts_top_50_features_ERCC is_cell_control\n",
      "reducedDimNames(0):\n",
      "spikeNames(1): ERCC\n",
      "altExpNames(0):\n"
     ]
    },
    {
     "name": "stderr",
     "output_type": "stream",
     "text": [
      "Setting SC3 parameters...\n",
      "Warning message:\n",
      "“'isSpike' is deprecated.\n",
      "See help(\"Deprecated\")”Calculating distances between the cells...\n",
      "Performing transformations and calculating eigenvectors...\n",
      "Performing k-means clustering...\n"
     ]
    },
    {
     "name": "stdout",
     "output_type": "stream",
     "text": [
      "\n"
     ]
    },
    {
     "name": "stderr",
     "output_type": "stream",
     "text": [
      "Calculating consensus matrix...\n"
     ]
    },
    {
     "name": "stdout",
     "output_type": "stream",
     "text": [
      "class: SingleCellExperiment \n",
      "dim: 41428 124 \n",
      "metadata(0):\n",
      "assays(2): counts logcounts\n",
      "rownames(41428): ENSMUSG00000000001 ENSMUSG00000000003 ... ERCC-00170\n",
      "  ERCC-00171\n",
      "rowData names(19): is_feature_control is_feature_control_ERCC ...\n",
      "  feature_symbol feature_id\n",
      "colnames(124): X2cell_1_A X2cell_1_B ... ME_4cell_6_C ME_4cell_6_D\n",
      "colData names(31): cell_type1 total_features ...\n",
      "  pct_counts_top_50_features_ERCC is_cell_control\n",
      "reducedDimNames(0):\n",
      "spikeNames(1): ERCC\n",
      "altExpNames(0):\n"
     ]
    },
    {
     "name": "stderr",
     "output_type": "stream",
     "text": [
      "Setting SC3 parameters...\n",
      "Warning message:\n",
      "“'isSpike' is deprecated.\n",
      "See help(\"Deprecated\")”Calculating distances between the cells...\n",
      "Performing transformations and calculating eigenvectors...\n",
      "Performing k-means clustering...\n"
     ]
    },
    {
     "name": "stdout",
     "output_type": "stream",
     "text": [
      "\n"
     ]
    },
    {
     "name": "stderr",
     "output_type": "stream",
     "text": [
      "Calculating consensus matrix...\n"
     ]
    },
    {
     "name": "stdout",
     "output_type": "stream",
     "text": [
      "class: SingleCellExperiment \n",
      "dim: 41428 124 \n",
      "metadata(0):\n",
      "assays(2): counts logcounts\n",
      "rownames(41428): ENSMUSG00000000001 ENSMUSG00000000003 ... ERCC-00170\n",
      "  ERCC-00171\n",
      "rowData names(19): is_feature_control is_feature_control_ERCC ...\n",
      "  feature_symbol feature_id\n",
      "colnames(124): X2cell_1_A X2cell_1_B ... ME_4cell_6_C ME_4cell_6_D\n",
      "colData names(31): cell_type1 total_features ...\n",
      "  pct_counts_top_50_features_ERCC is_cell_control\n",
      "reducedDimNames(0):\n",
      "spikeNames(1): ERCC\n",
      "altExpNames(0):\n"
     ]
    },
    {
     "name": "stderr",
     "output_type": "stream",
     "text": [
      "Setting SC3 parameters...\n",
      "Warning message:\n",
      "“'isSpike' is deprecated.\n",
      "See help(\"Deprecated\")”Calculating distances between the cells...\n",
      "Performing transformations and calculating eigenvectors...\n",
      "Performing k-means clustering...\n"
     ]
    },
    {
     "name": "stdout",
     "output_type": "stream",
     "text": [
      "\n"
     ]
    },
    {
     "name": "stderr",
     "output_type": "stream",
     "text": [
      "Calculating consensus matrix...\n"
     ]
    },
    {
     "name": "stdout",
     "output_type": "stream",
     "text": [
      "class: SingleCellExperiment \n",
      "dim: 41428 124 \n",
      "metadata(0):\n",
      "assays(2): counts logcounts\n",
      "rownames(41428): ENSMUSG00000000001 ENSMUSG00000000003 ... ERCC-00170\n",
      "  ERCC-00171\n",
      "rowData names(19): is_feature_control is_feature_control_ERCC ...\n",
      "  feature_symbol feature_id\n",
      "colnames(124): X2cell_1_A X2cell_1_B ... ME_4cell_6_C ME_4cell_6_D\n",
      "colData names(31): cell_type1 total_features ...\n",
      "  pct_counts_top_50_features_ERCC is_cell_control\n",
      "reducedDimNames(0):\n",
      "spikeNames(1): ERCC\n",
      "altExpNames(0):\n"
     ]
    },
    {
     "name": "stderr",
     "output_type": "stream",
     "text": [
      "Setting SC3 parameters...\n",
      "Warning message:\n",
      "“'isSpike' is deprecated.\n",
      "See help(\"Deprecated\")”Calculating distances between the cells...\n",
      "Performing transformations and calculating eigenvectors...\n",
      "Performing k-means clustering...\n"
     ]
    },
    {
     "name": "stdout",
     "output_type": "stream",
     "text": [
      "\n"
     ]
    },
    {
     "name": "stderr",
     "output_type": "stream",
     "text": [
      "Calculating consensus matrix...\n"
     ]
    },
    {
     "name": "stdout",
     "output_type": "stream",
     "text": [
      "class: SingleCellExperiment \n",
      "dim: 41428 124 \n",
      "metadata(0):\n",
      "assays(2): counts logcounts\n",
      "rownames(41428): ENSMUSG00000000001 ENSMUSG00000000003 ... ERCC-00170\n",
      "  ERCC-00171\n",
      "rowData names(19): is_feature_control is_feature_control_ERCC ...\n",
      "  feature_symbol feature_id\n",
      "colnames(124): X2cell_1_A X2cell_1_B ... ME_4cell_6_C ME_4cell_6_D\n",
      "colData names(31): cell_type1 total_features ...\n",
      "  pct_counts_top_50_features_ERCC is_cell_control\n",
      "reducedDimNames(0):\n",
      "spikeNames(1): ERCC\n",
      "altExpNames(0):\n"
     ]
    },
    {
     "name": "stderr",
     "output_type": "stream",
     "text": [
      "Setting SC3 parameters...\n",
      "Warning message:\n",
      "“'isSpike' is deprecated.\n",
      "See help(\"Deprecated\")”Calculating distances between the cells...\n",
      "Performing transformations and calculating eigenvectors...\n",
      "Performing k-means clustering...\n"
     ]
    },
    {
     "name": "stdout",
     "output_type": "stream",
     "text": [
      "\n"
     ]
    },
    {
     "name": "stderr",
     "output_type": "stream",
     "text": [
      "Calculating consensus matrix...\n"
     ]
    },
    {
     "name": "stdout",
     "output_type": "stream",
     "text": [
      "class: SingleCellExperiment \n",
      "dim: 41428 124 \n",
      "metadata(0):\n",
      "assays(2): counts logcounts\n",
      "rownames(41428): ENSMUSG00000000001 ENSMUSG00000000003 ... ERCC-00170\n",
      "  ERCC-00171\n",
      "rowData names(19): is_feature_control is_feature_control_ERCC ...\n",
      "  feature_symbol feature_id\n",
      "colnames(124): X2cell_1_A X2cell_1_B ... ME_4cell_6_C ME_4cell_6_D\n",
      "colData names(31): cell_type1 total_features ...\n",
      "  pct_counts_top_50_features_ERCC is_cell_control\n",
      "reducedDimNames(0):\n",
      "spikeNames(1): ERCC\n",
      "altExpNames(0):\n"
     ]
    },
    {
     "name": "stderr",
     "output_type": "stream",
     "text": [
      "Setting SC3 parameters...\n",
      "Warning message:\n",
      "“'isSpike' is deprecated.\n",
      "See help(\"Deprecated\")”Calculating distances between the cells...\n",
      "Performing transformations and calculating eigenvectors...\n",
      "Performing k-means clustering...\n"
     ]
    },
    {
     "name": "stdout",
     "output_type": "stream",
     "text": [
      "\n"
     ]
    },
    {
     "name": "stderr",
     "output_type": "stream",
     "text": [
      "Calculating consensus matrix...\n"
     ]
    },
    {
     "name": "stdout",
     "output_type": "stream",
     "text": [
      "class: SingleCellExperiment \n",
      "dim: 41428 124 \n",
      "metadata(0):\n",
      "assays(2): counts logcounts\n",
      "rownames(41428): ENSMUSG00000000001 ENSMUSG00000000003 ... ERCC-00170\n",
      "  ERCC-00171\n",
      "rowData names(19): is_feature_control is_feature_control_ERCC ...\n",
      "  feature_symbol feature_id\n",
      "colnames(124): X2cell_1_A X2cell_1_B ... ME_4cell_6_C ME_4cell_6_D\n",
      "colData names(31): cell_type1 total_features ...\n",
      "  pct_counts_top_50_features_ERCC is_cell_control\n",
      "reducedDimNames(0):\n",
      "spikeNames(1): ERCC\n",
      "altExpNames(0):\n"
     ]
    },
    {
     "name": "stderr",
     "output_type": "stream",
     "text": [
      "Setting SC3 parameters...\n",
      "Warning message:\n",
      "“'isSpike' is deprecated.\n",
      "See help(\"Deprecated\")”Calculating distances between the cells...\n",
      "Performing transformations and calculating eigenvectors...\n",
      "Performing k-means clustering...\n"
     ]
    },
    {
     "name": "stdout",
     "output_type": "stream",
     "text": [
      "\n"
     ]
    },
    {
     "name": "stderr",
     "output_type": "stream",
     "text": [
      "Calculating consensus matrix...\n"
     ]
    },
    {
     "name": "stdout",
     "output_type": "stream",
     "text": [
      "class: SingleCellExperiment \n",
      "dim: 41428 124 \n",
      "metadata(0):\n",
      "assays(2): counts logcounts\n",
      "rownames(41428): ENSMUSG00000000001 ENSMUSG00000000003 ... ERCC-00170\n",
      "  ERCC-00171\n",
      "rowData names(19): is_feature_control is_feature_control_ERCC ...\n",
      "  feature_symbol feature_id\n",
      "colnames(124): X2cell_1_A X2cell_1_B ... ME_4cell_6_C ME_4cell_6_D\n",
      "colData names(31): cell_type1 total_features ...\n",
      "  pct_counts_top_50_features_ERCC is_cell_control\n",
      "reducedDimNames(0):\n",
      "spikeNames(1): ERCC\n",
      "altExpNames(0):\n"
     ]
    },
    {
     "name": "stderr",
     "output_type": "stream",
     "text": [
      "Setting SC3 parameters...\n",
      "Warning message:\n",
      "“'isSpike' is deprecated.\n",
      "See help(\"Deprecated\")”Calculating distances between the cells...\n",
      "Performing transformations and calculating eigenvectors...\n",
      "Performing k-means clustering...\n"
     ]
    },
    {
     "name": "stdout",
     "output_type": "stream",
     "text": [
      "\n"
     ]
    },
    {
     "name": "stderr",
     "output_type": "stream",
     "text": [
      "Calculating consensus matrix...\n"
     ]
    },
    {
     "name": "stdout",
     "output_type": "stream",
     "text": [
      "class: SingleCellExperiment \n",
      "dim: 41428 124 \n",
      "metadata(0):\n",
      "assays(2): counts logcounts\n",
      "rownames(41428): ENSMUSG00000000001 ENSMUSG00000000003 ... ERCC-00170\n",
      "  ERCC-00171\n",
      "rowData names(19): is_feature_control is_feature_control_ERCC ...\n",
      "  feature_symbol feature_id\n",
      "colnames(124): X2cell_1_A X2cell_1_B ... ME_4cell_6_C ME_4cell_6_D\n",
      "colData names(31): cell_type1 total_features ...\n",
      "  pct_counts_top_50_features_ERCC is_cell_control\n",
      "reducedDimNames(0):\n",
      "spikeNames(1): ERCC\n",
      "altExpNames(0):\n"
     ]
    },
    {
     "name": "stderr",
     "output_type": "stream",
     "text": [
      "Setting SC3 parameters...\n",
      "Warning message:\n",
      "“'isSpike' is deprecated.\n",
      "See help(\"Deprecated\")”Calculating distances between the cells...\n",
      "Performing transformations and calculating eigenvectors...\n",
      "Performing k-means clustering...\n"
     ]
    },
    {
     "name": "stdout",
     "output_type": "stream",
     "text": [
      "\n"
     ]
    },
    {
     "name": "stderr",
     "output_type": "stream",
     "text": [
      "Calculating consensus matrix...\n"
     ]
    },
    {
     "name": "stdout",
     "output_type": "stream",
     "text": [
      "class: SingleCellExperiment \n",
      "dim: 41428 124 \n",
      "metadata(0):\n",
      "assays(2): counts logcounts\n",
      "rownames(41428): ENSMUSG00000000001 ENSMUSG00000000003 ... ERCC-00170\n",
      "  ERCC-00171\n",
      "rowData names(19): is_feature_control is_feature_control_ERCC ...\n",
      "  feature_symbol feature_id\n",
      "colnames(124): X2cell_1_A X2cell_1_B ... ME_4cell_6_C ME_4cell_6_D\n",
      "colData names(31): cell_type1 total_features ...\n",
      "  pct_counts_top_50_features_ERCC is_cell_control\n",
      "reducedDimNames(0):\n",
      "spikeNames(1): ERCC\n",
      "altExpNames(0):\n"
     ]
    },
    {
     "name": "stderr",
     "output_type": "stream",
     "text": [
      "Setting SC3 parameters...\n",
      "Warning message:\n",
      "“'isSpike' is deprecated.\n",
      "See help(\"Deprecated\")”Calculating distances between the cells...\n",
      "Performing transformations and calculating eigenvectors...\n",
      "Performing k-means clustering...\n"
     ]
    },
    {
     "name": "stdout",
     "output_type": "stream",
     "text": [
      "\n"
     ]
    },
    {
     "name": "stderr",
     "output_type": "stream",
     "text": [
      "Calculating consensus matrix...\n"
     ]
    },
    {
     "name": "stdout",
     "output_type": "stream",
     "text": [
      "class: SingleCellExperiment \n",
      "dim: 41428 124 \n",
      "metadata(0):\n",
      "assays(2): counts logcounts\n",
      "rownames(41428): ENSMUSG00000000001 ENSMUSG00000000003 ... ERCC-00170\n",
      "  ERCC-00171\n",
      "rowData names(19): is_feature_control is_feature_control_ERCC ...\n",
      "  feature_symbol feature_id\n",
      "colnames(124): X2cell_1_A X2cell_1_B ... ME_4cell_6_C ME_4cell_6_D\n",
      "colData names(31): cell_type1 total_features ...\n",
      "  pct_counts_top_50_features_ERCC is_cell_control\n",
      "reducedDimNames(0):\n",
      "spikeNames(1): ERCC\n",
      "altExpNames(0):\n"
     ]
    },
    {
     "name": "stderr",
     "output_type": "stream",
     "text": [
      "Setting SC3 parameters...\n",
      "Warning message:\n",
      "“'isSpike' is deprecated.\n",
      "See help(\"Deprecated\")”Calculating distances between the cells...\n",
      "Performing transformations and calculating eigenvectors...\n",
      "Performing k-means clustering...\n"
     ]
    },
    {
     "name": "stdout",
     "output_type": "stream",
     "text": [
      "\n"
     ]
    },
    {
     "name": "stderr",
     "output_type": "stream",
     "text": [
      "Calculating consensus matrix...\n"
     ]
    },
    {
     "name": "stdout",
     "output_type": "stream",
     "text": [
      "class: SingleCellExperiment \n",
      "dim: 41428 124 \n",
      "metadata(0):\n",
      "assays(2): counts logcounts\n",
      "rownames(41428): ENSMUSG00000000001 ENSMUSG00000000003 ... ERCC-00170\n",
      "  ERCC-00171\n",
      "rowData names(19): is_feature_control is_feature_control_ERCC ...\n",
      "  feature_symbol feature_id\n",
      "colnames(124): X2cell_1_A X2cell_1_B ... ME_4cell_6_C ME_4cell_6_D\n",
      "colData names(31): cell_type1 total_features ...\n",
      "  pct_counts_top_50_features_ERCC is_cell_control\n",
      "reducedDimNames(0):\n",
      "spikeNames(1): ERCC\n",
      "altExpNames(0):\n"
     ]
    },
    {
     "name": "stderr",
     "output_type": "stream",
     "text": [
      "Setting SC3 parameters...\n",
      "Warning message:\n",
      "“'isSpike' is deprecated.\n",
      "See help(\"Deprecated\")”Calculating distances between the cells...\n",
      "Performing transformations and calculating eigenvectors...\n",
      "Performing k-means clustering...\n"
     ]
    },
    {
     "name": "stdout",
     "output_type": "stream",
     "text": [
      "\n"
     ]
    },
    {
     "name": "stderr",
     "output_type": "stream",
     "text": [
      "Calculating consensus matrix...\n"
     ]
    },
    {
     "name": "stdout",
     "output_type": "stream",
     "text": [
      "class: SingleCellExperiment \n",
      "dim: 41428 124 \n",
      "metadata(0):\n",
      "assays(2): counts logcounts\n",
      "rownames(41428): ENSMUSG00000000001 ENSMUSG00000000003 ... ERCC-00170\n",
      "  ERCC-00171\n",
      "rowData names(19): is_feature_control is_feature_control_ERCC ...\n",
      "  feature_symbol feature_id\n",
      "colnames(124): X2cell_1_A X2cell_1_B ... ME_4cell_6_C ME_4cell_6_D\n",
      "colData names(31): cell_type1 total_features ...\n",
      "  pct_counts_top_50_features_ERCC is_cell_control\n",
      "reducedDimNames(0):\n",
      "spikeNames(1): ERCC\n",
      "altExpNames(0):\n"
     ]
    },
    {
     "name": "stderr",
     "output_type": "stream",
     "text": [
      "Setting SC3 parameters...\n",
      "Warning message:\n",
      "“'isSpike' is deprecated.\n",
      "See help(\"Deprecated\")”Calculating distances between the cells...\n",
      "Performing transformations and calculating eigenvectors...\n",
      "Performing k-means clustering...\n"
     ]
    },
    {
     "name": "stdout",
     "output_type": "stream",
     "text": [
      "\n"
     ]
    },
    {
     "name": "stderr",
     "output_type": "stream",
     "text": [
      "Calculating consensus matrix...\n"
     ]
    },
    {
     "name": "stdout",
     "output_type": "stream",
     "text": [
      "class: SingleCellExperiment \n",
      "dim: 41428 124 \n",
      "metadata(0):\n",
      "assays(2): counts logcounts\n",
      "rownames(41428): ENSMUSG00000000001 ENSMUSG00000000003 ... ERCC-00170\n",
      "  ERCC-00171\n",
      "rowData names(19): is_feature_control is_feature_control_ERCC ...\n",
      "  feature_symbol feature_id\n",
      "colnames(124): X2cell_1_A X2cell_1_B ... ME_4cell_6_C ME_4cell_6_D\n",
      "colData names(31): cell_type1 total_features ...\n",
      "  pct_counts_top_50_features_ERCC is_cell_control\n",
      "reducedDimNames(0):\n",
      "spikeNames(1): ERCC\n",
      "altExpNames(0):\n"
     ]
    },
    {
     "name": "stderr",
     "output_type": "stream",
     "text": [
      "Setting SC3 parameters...\n",
      "Warning message:\n",
      "“'isSpike' is deprecated.\n",
      "See help(\"Deprecated\")”Calculating distances between the cells...\n",
      "Performing transformations and calculating eigenvectors...\n",
      "Performing k-means clustering...\n"
     ]
    },
    {
     "name": "stdout",
     "output_type": "stream",
     "text": [
      "\n"
     ]
    },
    {
     "name": "stderr",
     "output_type": "stream",
     "text": [
      "Calculating consensus matrix...\n"
     ]
    },
    {
     "name": "stdout",
     "output_type": "stream",
     "text": [
      "class: SingleCellExperiment \n",
      "dim: 41428 124 \n",
      "metadata(0):\n",
      "assays(2): counts logcounts\n",
      "rownames(41428): ENSMUSG00000000001 ENSMUSG00000000003 ... ERCC-00170\n",
      "  ERCC-00171\n",
      "rowData names(19): is_feature_control is_feature_control_ERCC ...\n",
      "  feature_symbol feature_id\n",
      "colnames(124): X2cell_1_A X2cell_1_B ... ME_4cell_6_C ME_4cell_6_D\n",
      "colData names(31): cell_type1 total_features ...\n",
      "  pct_counts_top_50_features_ERCC is_cell_control\n",
      "reducedDimNames(0):\n",
      "spikeNames(1): ERCC\n",
      "altExpNames(0):\n"
     ]
    },
    {
     "name": "stderr",
     "output_type": "stream",
     "text": [
      "Setting SC3 parameters...\n",
      "Warning message:\n",
      "“'isSpike' is deprecated.\n",
      "See help(\"Deprecated\")”Calculating distances between the cells...\n",
      "Performing transformations and calculating eigenvectors...\n",
      "Performing k-means clustering...\n"
     ]
    },
    {
     "name": "stdout",
     "output_type": "stream",
     "text": [
      "\n"
     ]
    },
    {
     "name": "stderr",
     "output_type": "stream",
     "text": [
      "Calculating consensus matrix...\n"
     ]
    },
    {
     "name": "stdout",
     "output_type": "stream",
     "text": [
      "class: SingleCellExperiment \n",
      "dim: 41428 124 \n",
      "metadata(0):\n",
      "assays(2): counts logcounts\n",
      "rownames(41428): ENSMUSG00000000001 ENSMUSG00000000003 ... ERCC-00170\n",
      "  ERCC-00171\n",
      "rowData names(19): is_feature_control is_feature_control_ERCC ...\n",
      "  feature_symbol feature_id\n",
      "colnames(124): X2cell_1_A X2cell_1_B ... ME_4cell_6_C ME_4cell_6_D\n",
      "colData names(31): cell_type1 total_features ...\n",
      "  pct_counts_top_50_features_ERCC is_cell_control\n",
      "reducedDimNames(0):\n",
      "spikeNames(1): ERCC\n",
      "altExpNames(0):\n"
     ]
    },
    {
     "name": "stderr",
     "output_type": "stream",
     "text": [
      "Setting SC3 parameters...\n",
      "Warning message:\n",
      "“'isSpike' is deprecated.\n",
      "See help(\"Deprecated\")”Calculating distances between the cells...\n",
      "Performing transformations and calculating eigenvectors...\n",
      "Performing k-means clustering...\n"
     ]
    },
    {
     "name": "stdout",
     "output_type": "stream",
     "text": [
      "\n"
     ]
    },
    {
     "name": "stderr",
     "output_type": "stream",
     "text": [
      "Calculating consensus matrix...\n"
     ]
    },
    {
     "name": "stdout",
     "output_type": "stream",
     "text": [
      "class: SingleCellExperiment \n",
      "dim: 41428 124 \n",
      "metadata(0):\n",
      "assays(2): counts logcounts\n",
      "rownames(41428): ENSMUSG00000000001 ENSMUSG00000000003 ... ERCC-00170\n",
      "  ERCC-00171\n",
      "rowData names(19): is_feature_control is_feature_control_ERCC ...\n",
      "  feature_symbol feature_id\n",
      "colnames(124): X2cell_1_A X2cell_1_B ... ME_4cell_6_C ME_4cell_6_D\n",
      "colData names(31): cell_type1 total_features ...\n",
      "  pct_counts_top_50_features_ERCC is_cell_control\n",
      "reducedDimNames(0):\n",
      "spikeNames(1): ERCC\n",
      "altExpNames(0):\n"
     ]
    },
    {
     "name": "stderr",
     "output_type": "stream",
     "text": [
      "Setting SC3 parameters...\n",
      "Warning message:\n",
      "“'isSpike' is deprecated.\n",
      "See help(\"Deprecated\")”Calculating distances between the cells...\n",
      "Performing transformations and calculating eigenvectors...\n",
      "Performing k-means clustering...\n"
     ]
    },
    {
     "name": "stdout",
     "output_type": "stream",
     "text": [
      "\n"
     ]
    },
    {
     "name": "stderr",
     "output_type": "stream",
     "text": [
      "Calculating consensus matrix...\n"
     ]
    },
    {
     "name": "stdout",
     "output_type": "stream",
     "text": [
      "class: SingleCellExperiment \n",
      "dim: 41428 124 \n",
      "metadata(0):\n",
      "assays(2): counts logcounts\n",
      "rownames(41428): ENSMUSG00000000001 ENSMUSG00000000003 ... ERCC-00170\n",
      "  ERCC-00171\n",
      "rowData names(19): is_feature_control is_feature_control_ERCC ...\n",
      "  feature_symbol feature_id\n",
      "colnames(124): X2cell_1_A X2cell_1_B ... ME_4cell_6_C ME_4cell_6_D\n",
      "colData names(31): cell_type1 total_features ...\n",
      "  pct_counts_top_50_features_ERCC is_cell_control\n",
      "reducedDimNames(0):\n",
      "spikeNames(1): ERCC\n",
      "altExpNames(0):\n"
     ]
    },
    {
     "name": "stderr",
     "output_type": "stream",
     "text": [
      "Setting SC3 parameters...\n",
      "Warning message:\n",
      "“'isSpike' is deprecated.\n",
      "See help(\"Deprecated\")”Calculating distances between the cells...\n",
      "Performing transformations and calculating eigenvectors...\n",
      "Performing k-means clustering...\n"
     ]
    },
    {
     "name": "stdout",
     "output_type": "stream",
     "text": [
      "\n"
     ]
    },
    {
     "name": "stderr",
     "output_type": "stream",
     "text": [
      "Calculating consensus matrix...\n"
     ]
    },
    {
     "name": "stdout",
     "output_type": "stream",
     "text": [
      "class: SingleCellExperiment \n",
      "dim: 41428 124 \n",
      "metadata(0):\n",
      "assays(2): counts logcounts\n",
      "rownames(41428): ENSMUSG00000000001 ENSMUSG00000000003 ... ERCC-00170\n",
      "  ERCC-00171\n",
      "rowData names(19): is_feature_control is_feature_control_ERCC ...\n",
      "  feature_symbol feature_id\n",
      "colnames(124): X2cell_1_A X2cell_1_B ... ME_4cell_6_C ME_4cell_6_D\n",
      "colData names(31): cell_type1 total_features ...\n",
      "  pct_counts_top_50_features_ERCC is_cell_control\n",
      "reducedDimNames(0):\n",
      "spikeNames(1): ERCC\n",
      "altExpNames(0):\n"
     ]
    },
    {
     "name": "stderr",
     "output_type": "stream",
     "text": [
      "Setting SC3 parameters...\n",
      "Warning message:\n",
      "“'isSpike' is deprecated.\n",
      "See help(\"Deprecated\")”Calculating distances between the cells...\n",
      "Performing transformations and calculating eigenvectors...\n",
      "Performing k-means clustering...\n"
     ]
    },
    {
     "name": "stdout",
     "output_type": "stream",
     "text": [
      "\n"
     ]
    },
    {
     "name": "stderr",
     "output_type": "stream",
     "text": [
      "Calculating consensus matrix...\n"
     ]
    },
    {
     "name": "stdout",
     "output_type": "stream",
     "text": [
      "class: SingleCellExperiment \n",
      "dim: 41428 124 \n",
      "metadata(0):\n",
      "assays(2): counts logcounts\n",
      "rownames(41428): ENSMUSG00000000001 ENSMUSG00000000003 ... ERCC-00170\n",
      "  ERCC-00171\n",
      "rowData names(19): is_feature_control is_feature_control_ERCC ...\n",
      "  feature_symbol feature_id\n",
      "colnames(124): X2cell_1_A X2cell_1_B ... ME_4cell_6_C ME_4cell_6_D\n",
      "colData names(31): cell_type1 total_features ...\n",
      "  pct_counts_top_50_features_ERCC is_cell_control\n",
      "reducedDimNames(0):\n",
      "spikeNames(1): ERCC\n",
      "altExpNames(0):\n"
     ]
    },
    {
     "name": "stderr",
     "output_type": "stream",
     "text": [
      "Setting SC3 parameters...\n",
      "Warning message:\n",
      "“'isSpike' is deprecated.\n",
      "See help(\"Deprecated\")”Calculating distances between the cells...\n",
      "Performing transformations and calculating eigenvectors...\n",
      "Performing k-means clustering...\n"
     ]
    },
    {
     "name": "stdout",
     "output_type": "stream",
     "text": [
      "\n"
     ]
    },
    {
     "name": "stderr",
     "output_type": "stream",
     "text": [
      "Calculating consensus matrix...\n"
     ]
    },
    {
     "name": "stdout",
     "output_type": "stream",
     "text": [
      "class: SingleCellExperiment \n",
      "dim: 41428 124 \n",
      "metadata(0):\n",
      "assays(2): counts logcounts\n",
      "rownames(41428): ENSMUSG00000000001 ENSMUSG00000000003 ... ERCC-00170\n",
      "  ERCC-00171\n",
      "rowData names(19): is_feature_control is_feature_control_ERCC ...\n",
      "  feature_symbol feature_id\n",
      "colnames(124): X2cell_1_A X2cell_1_B ... ME_4cell_6_C ME_4cell_6_D\n",
      "colData names(31): cell_type1 total_features ...\n",
      "  pct_counts_top_50_features_ERCC is_cell_control\n",
      "reducedDimNames(0):\n",
      "spikeNames(1): ERCC\n",
      "altExpNames(0):\n"
     ]
    },
    {
     "name": "stderr",
     "output_type": "stream",
     "text": [
      "Setting SC3 parameters...\n",
      "Warning message:\n",
      "“'isSpike' is deprecated.\n",
      "See help(\"Deprecated\")”Calculating distances between the cells...\n",
      "Performing transformations and calculating eigenvectors...\n",
      "Performing k-means clustering...\n"
     ]
    },
    {
     "name": "stdout",
     "output_type": "stream",
     "text": [
      "\n"
     ]
    },
    {
     "name": "stderr",
     "output_type": "stream",
     "text": [
      "Calculating consensus matrix...\n"
     ]
    },
    {
     "name": "stdout",
     "output_type": "stream",
     "text": [
      "class: SingleCellExperiment \n",
      "dim: 41428 124 \n",
      "metadata(0):\n",
      "assays(2): counts logcounts\n",
      "rownames(41428): ENSMUSG00000000001 ENSMUSG00000000003 ... ERCC-00170\n",
      "  ERCC-00171\n",
      "rowData names(19): is_feature_control is_feature_control_ERCC ...\n",
      "  feature_symbol feature_id\n",
      "colnames(124): X2cell_1_A X2cell_1_B ... ME_4cell_6_C ME_4cell_6_D\n",
      "colData names(31): cell_type1 total_features ...\n",
      "  pct_counts_top_50_features_ERCC is_cell_control\n",
      "reducedDimNames(0):\n",
      "spikeNames(1): ERCC\n",
      "altExpNames(0):\n"
     ]
    },
    {
     "name": "stderr",
     "output_type": "stream",
     "text": [
      "Setting SC3 parameters...\n",
      "Warning message:\n",
      "“'isSpike' is deprecated.\n",
      "See help(\"Deprecated\")”Calculating distances between the cells...\n",
      "Performing transformations and calculating eigenvectors...\n",
      "Performing k-means clustering...\n"
     ]
    },
    {
     "name": "stdout",
     "output_type": "stream",
     "text": [
      "\n"
     ]
    },
    {
     "name": "stderr",
     "output_type": "stream",
     "text": [
      "Calculating consensus matrix...\n"
     ]
    },
    {
     "name": "stdout",
     "output_type": "stream",
     "text": [
      "class: SingleCellExperiment \n",
      "dim: 41428 124 \n",
      "metadata(0):\n",
      "assays(2): counts logcounts\n",
      "rownames(41428): ENSMUSG00000000001 ENSMUSG00000000003 ... ERCC-00170\n",
      "  ERCC-00171\n",
      "rowData names(19): is_feature_control is_feature_control_ERCC ...\n",
      "  feature_symbol feature_id\n",
      "colnames(124): X2cell_1_A X2cell_1_B ... ME_4cell_6_C ME_4cell_6_D\n",
      "colData names(31): cell_type1 total_features ...\n",
      "  pct_counts_top_50_features_ERCC is_cell_control\n",
      "reducedDimNames(0):\n",
      "spikeNames(1): ERCC\n",
      "altExpNames(0):\n"
     ]
    },
    {
     "name": "stderr",
     "output_type": "stream",
     "text": [
      "Setting SC3 parameters...\n",
      "Warning message:\n",
      "“'isSpike' is deprecated.\n",
      "See help(\"Deprecated\")”Calculating distances between the cells...\n",
      "Performing transformations and calculating eigenvectors...\n",
      "Performing k-means clustering...\n"
     ]
    },
    {
     "name": "stdout",
     "output_type": "stream",
     "text": [
      "\n"
     ]
    },
    {
     "name": "stderr",
     "output_type": "stream",
     "text": [
      "Calculating consensus matrix...\n"
     ]
    },
    {
     "name": "stdout",
     "output_type": "stream",
     "text": [
      "class: SingleCellExperiment \n",
      "dim: 41428 124 \n",
      "metadata(0):\n",
      "assays(2): counts logcounts\n",
      "rownames(41428): ENSMUSG00000000001 ENSMUSG00000000003 ... ERCC-00170\n",
      "  ERCC-00171\n",
      "rowData names(19): is_feature_control is_feature_control_ERCC ...\n",
      "  feature_symbol feature_id\n",
      "colnames(124): X2cell_1_A X2cell_1_B ... ME_4cell_6_C ME_4cell_6_D\n",
      "colData names(31): cell_type1 total_features ...\n",
      "  pct_counts_top_50_features_ERCC is_cell_control\n",
      "reducedDimNames(0):\n",
      "spikeNames(1): ERCC\n",
      "altExpNames(0):\n"
     ]
    },
    {
     "name": "stderr",
     "output_type": "stream",
     "text": [
      "Setting SC3 parameters...\n",
      "Warning message:\n",
      "“'isSpike' is deprecated.\n",
      "See help(\"Deprecated\")”Calculating distances between the cells...\n",
      "Performing transformations and calculating eigenvectors...\n",
      "Performing k-means clustering...\n"
     ]
    },
    {
     "name": "stdout",
     "output_type": "stream",
     "text": [
      "\n"
     ]
    },
    {
     "name": "stderr",
     "output_type": "stream",
     "text": [
      "Calculating consensus matrix...\n"
     ]
    },
    {
     "name": "stdout",
     "output_type": "stream",
     "text": [
      "class: SingleCellExperiment \n",
      "dim: 41428 124 \n",
      "metadata(0):\n",
      "assays(2): counts logcounts\n",
      "rownames(41428): ENSMUSG00000000001 ENSMUSG00000000003 ... ERCC-00170\n",
      "  ERCC-00171\n",
      "rowData names(19): is_feature_control is_feature_control_ERCC ...\n",
      "  feature_symbol feature_id\n",
      "colnames(124): X2cell_1_A X2cell_1_B ... ME_4cell_6_C ME_4cell_6_D\n",
      "colData names(31): cell_type1 total_features ...\n",
      "  pct_counts_top_50_features_ERCC is_cell_control\n",
      "reducedDimNames(0):\n",
      "spikeNames(1): ERCC\n",
      "altExpNames(0):\n"
     ]
    },
    {
     "name": "stderr",
     "output_type": "stream",
     "text": [
      "Setting SC3 parameters...\n",
      "Warning message:\n",
      "“'isSpike' is deprecated.\n",
      "See help(\"Deprecated\")”Calculating distances between the cells...\n",
      "Performing transformations and calculating eigenvectors...\n",
      "Performing k-means clustering...\n"
     ]
    },
    {
     "name": "stdout",
     "output_type": "stream",
     "text": [
      "\n"
     ]
    },
    {
     "name": "stderr",
     "output_type": "stream",
     "text": [
      "Calculating consensus matrix...\n"
     ]
    },
    {
     "name": "stdout",
     "output_type": "stream",
     "text": [
      "class: SingleCellExperiment \n",
      "dim: 41428 124 \n",
      "metadata(0):\n",
      "assays(2): counts logcounts\n",
      "rownames(41428): ENSMUSG00000000001 ENSMUSG00000000003 ... ERCC-00170\n",
      "  ERCC-00171\n",
      "rowData names(19): is_feature_control is_feature_control_ERCC ...\n",
      "  feature_symbol feature_id\n",
      "colnames(124): X2cell_1_A X2cell_1_B ... ME_4cell_6_C ME_4cell_6_D\n",
      "colData names(31): cell_type1 total_features ...\n",
      "  pct_counts_top_50_features_ERCC is_cell_control\n",
      "reducedDimNames(0):\n",
      "spikeNames(1): ERCC\n",
      "altExpNames(0):\n"
     ]
    },
    {
     "name": "stderr",
     "output_type": "stream",
     "text": [
      "Setting SC3 parameters...\n",
      "Warning message:\n",
      "“'isSpike' is deprecated.\n",
      "See help(\"Deprecated\")”Calculating distances between the cells...\n",
      "Performing transformations and calculating eigenvectors...\n",
      "Performing k-means clustering...\n"
     ]
    },
    {
     "name": "stdout",
     "output_type": "stream",
     "text": [
      "\n"
     ]
    },
    {
     "name": "stderr",
     "output_type": "stream",
     "text": [
      "Calculating consensus matrix...\n"
     ]
    },
    {
     "name": "stdout",
     "output_type": "stream",
     "text": [
      "class: SingleCellExperiment \n",
      "dim: 41428 124 \n",
      "metadata(0):\n",
      "assays(2): counts logcounts\n",
      "rownames(41428): ENSMUSG00000000001 ENSMUSG00000000003 ... ERCC-00170\n",
      "  ERCC-00171\n",
      "rowData names(19): is_feature_control is_feature_control_ERCC ...\n",
      "  feature_symbol feature_id\n",
      "colnames(124): X2cell_1_A X2cell_1_B ... ME_4cell_6_C ME_4cell_6_D\n",
      "colData names(31): cell_type1 total_features ...\n",
      "  pct_counts_top_50_features_ERCC is_cell_control\n",
      "reducedDimNames(0):\n",
      "spikeNames(1): ERCC\n",
      "altExpNames(0):\n"
     ]
    },
    {
     "name": "stderr",
     "output_type": "stream",
     "text": [
      "Setting SC3 parameters...\n",
      "Warning message:\n",
      "“'isSpike' is deprecated.\n",
      "See help(\"Deprecated\")”Calculating distances between the cells...\n",
      "Performing transformations and calculating eigenvectors...\n",
      "Performing k-means clustering...\n"
     ]
    },
    {
     "name": "stdout",
     "output_type": "stream",
     "text": [
      "\n"
     ]
    },
    {
     "name": "stderr",
     "output_type": "stream",
     "text": [
      "Calculating consensus matrix...\n"
     ]
    },
    {
     "name": "stdout",
     "output_type": "stream",
     "text": [
      "class: SingleCellExperiment \n",
      "dim: 41428 124 \n",
      "metadata(0):\n",
      "assays(2): counts logcounts\n",
      "rownames(41428): ENSMUSG00000000001 ENSMUSG00000000003 ... ERCC-00170\n",
      "  ERCC-00171\n",
      "rowData names(19): is_feature_control is_feature_control_ERCC ...\n",
      "  feature_symbol feature_id\n",
      "colnames(124): X2cell_1_A X2cell_1_B ... ME_4cell_6_C ME_4cell_6_D\n",
      "colData names(31): cell_type1 total_features ...\n",
      "  pct_counts_top_50_features_ERCC is_cell_control\n",
      "reducedDimNames(0):\n",
      "spikeNames(1): ERCC\n",
      "altExpNames(0):\n"
     ]
    },
    {
     "name": "stderr",
     "output_type": "stream",
     "text": [
      "Setting SC3 parameters...\n",
      "Warning message:\n",
      "“'isSpike' is deprecated.\n",
      "See help(\"Deprecated\")”Calculating distances between the cells...\n",
      "Performing transformations and calculating eigenvectors...\n",
      "Performing k-means clustering...\n"
     ]
    },
    {
     "name": "stdout",
     "output_type": "stream",
     "text": [
      "\n"
     ]
    },
    {
     "name": "stderr",
     "output_type": "stream",
     "text": [
      "Calculating consensus matrix...\n"
     ]
    },
    {
     "name": "stdout",
     "output_type": "stream",
     "text": [
      "class: SingleCellExperiment \n",
      "dim: 41428 124 \n",
      "metadata(0):\n",
      "assays(2): counts logcounts\n",
      "rownames(41428): ENSMUSG00000000001 ENSMUSG00000000003 ... ERCC-00170\n",
      "  ERCC-00171\n",
      "rowData names(19): is_feature_control is_feature_control_ERCC ...\n",
      "  feature_symbol feature_id\n",
      "colnames(124): X2cell_1_A X2cell_1_B ... ME_4cell_6_C ME_4cell_6_D\n",
      "colData names(31): cell_type1 total_features ...\n",
      "  pct_counts_top_50_features_ERCC is_cell_control\n",
      "reducedDimNames(0):\n",
      "spikeNames(1): ERCC\n",
      "altExpNames(0):\n"
     ]
    },
    {
     "name": "stderr",
     "output_type": "stream",
     "text": [
      "Setting SC3 parameters...\n",
      "Warning message:\n",
      "“'isSpike' is deprecated.\n",
      "See help(\"Deprecated\")”Calculating distances between the cells...\n",
      "Performing transformations and calculating eigenvectors...\n",
      "Performing k-means clustering...\n"
     ]
    },
    {
     "name": "stdout",
     "output_type": "stream",
     "text": [
      "\n"
     ]
    },
    {
     "name": "stderr",
     "output_type": "stream",
     "text": [
      "Calculating consensus matrix...\n"
     ]
    },
    {
     "name": "stdout",
     "output_type": "stream",
     "text": [
      "class: SingleCellExperiment \n",
      "dim: 41428 124 \n",
      "metadata(0):\n",
      "assays(2): counts logcounts\n",
      "rownames(41428): ENSMUSG00000000001 ENSMUSG00000000003 ... ERCC-00170\n",
      "  ERCC-00171\n",
      "rowData names(19): is_feature_control is_feature_control_ERCC ...\n",
      "  feature_symbol feature_id\n",
      "colnames(124): X2cell_1_A X2cell_1_B ... ME_4cell_6_C ME_4cell_6_D\n",
      "colData names(31): cell_type1 total_features ...\n",
      "  pct_counts_top_50_features_ERCC is_cell_control\n",
      "reducedDimNames(0):\n",
      "spikeNames(1): ERCC\n",
      "altExpNames(0):\n"
     ]
    },
    {
     "name": "stderr",
     "output_type": "stream",
     "text": [
      "Setting SC3 parameters...\n",
      "Warning message:\n",
      "“'isSpike' is deprecated.\n",
      "See help(\"Deprecated\")”Calculating distances between the cells...\n",
      "Performing transformations and calculating eigenvectors...\n",
      "Performing k-means clustering...\n"
     ]
    },
    {
     "name": "stdout",
     "output_type": "stream",
     "text": [
      "\n"
     ]
    },
    {
     "name": "stderr",
     "output_type": "stream",
     "text": [
      "Calculating consensus matrix...\n"
     ]
    },
    {
     "name": "stdout",
     "output_type": "stream",
     "text": [
      "class: SingleCellExperiment \n",
      "dim: 41428 124 \n",
      "metadata(0):\n",
      "assays(2): counts logcounts\n",
      "rownames(41428): ENSMUSG00000000001 ENSMUSG00000000003 ... ERCC-00170\n",
      "  ERCC-00171\n",
      "rowData names(19): is_feature_control is_feature_control_ERCC ...\n",
      "  feature_symbol feature_id\n",
      "colnames(124): X2cell_1_A X2cell_1_B ... ME_4cell_6_C ME_4cell_6_D\n",
      "colData names(31): cell_type1 total_features ...\n",
      "  pct_counts_top_50_features_ERCC is_cell_control\n",
      "reducedDimNames(0):\n",
      "spikeNames(1): ERCC\n",
      "altExpNames(0):\n"
     ]
    },
    {
     "name": "stderr",
     "output_type": "stream",
     "text": [
      "Setting SC3 parameters...\n",
      "Warning message:\n",
      "“'isSpike' is deprecated.\n",
      "See help(\"Deprecated\")”Calculating distances between the cells...\n",
      "Performing transformations and calculating eigenvectors...\n",
      "Performing k-means clustering...\n"
     ]
    },
    {
     "name": "stdout",
     "output_type": "stream",
     "text": [
      "\n"
     ]
    },
    {
     "name": "stderr",
     "output_type": "stream",
     "text": [
      "Calculating consensus matrix...\n"
     ]
    },
    {
     "name": "stdout",
     "output_type": "stream",
     "text": [
      "class: SingleCellExperiment \n",
      "dim: 41428 124 \n",
      "metadata(0):\n",
      "assays(2): counts logcounts\n",
      "rownames(41428): ENSMUSG00000000001 ENSMUSG00000000003 ... ERCC-00170\n",
      "  ERCC-00171\n",
      "rowData names(19): is_feature_control is_feature_control_ERCC ...\n",
      "  feature_symbol feature_id\n",
      "colnames(124): X2cell_1_A X2cell_1_B ... ME_4cell_6_C ME_4cell_6_D\n",
      "colData names(31): cell_type1 total_features ...\n",
      "  pct_counts_top_50_features_ERCC is_cell_control\n",
      "reducedDimNames(0):\n",
      "spikeNames(1): ERCC\n",
      "altExpNames(0):\n"
     ]
    },
    {
     "name": "stderr",
     "output_type": "stream",
     "text": [
      "Setting SC3 parameters...\n",
      "Warning message:\n",
      "“'isSpike' is deprecated.\n",
      "See help(\"Deprecated\")”Calculating distances between the cells...\n",
      "Performing transformations and calculating eigenvectors...\n",
      "Performing k-means clustering...\n"
     ]
    },
    {
     "name": "stdout",
     "output_type": "stream",
     "text": [
      "\n"
     ]
    },
    {
     "name": "stderr",
     "output_type": "stream",
     "text": [
      "Calculating consensus matrix...\n"
     ]
    },
    {
     "name": "stdout",
     "output_type": "stream",
     "text": [
      "class: SingleCellExperiment \n",
      "dim: 41428 124 \n",
      "metadata(0):\n",
      "assays(2): counts logcounts\n",
      "rownames(41428): ENSMUSG00000000001 ENSMUSG00000000003 ... ERCC-00170\n",
      "  ERCC-00171\n",
      "rowData names(19): is_feature_control is_feature_control_ERCC ...\n",
      "  feature_symbol feature_id\n",
      "colnames(124): X2cell_1_A X2cell_1_B ... ME_4cell_6_C ME_4cell_6_D\n",
      "colData names(31): cell_type1 total_features ...\n",
      "  pct_counts_top_50_features_ERCC is_cell_control\n",
      "reducedDimNames(0):\n",
      "spikeNames(1): ERCC\n",
      "altExpNames(0):\n"
     ]
    },
    {
     "name": "stderr",
     "output_type": "stream",
     "text": [
      "Setting SC3 parameters...\n",
      "Warning message:\n",
      "“'isSpike' is deprecated.\n",
      "See help(\"Deprecated\")”Calculating distances between the cells...\n",
      "Performing transformations and calculating eigenvectors...\n",
      "Performing k-means clustering...\n"
     ]
    },
    {
     "name": "stdout",
     "output_type": "stream",
     "text": [
      "\n"
     ]
    },
    {
     "name": "stderr",
     "output_type": "stream",
     "text": [
      "Calculating consensus matrix...\n"
     ]
    },
    {
     "name": "stdout",
     "output_type": "stream",
     "text": [
      "class: SingleCellExperiment \n",
      "dim: 41428 124 \n",
      "metadata(0):\n",
      "assays(2): counts logcounts\n",
      "rownames(41428): ENSMUSG00000000001 ENSMUSG00000000003 ... ERCC-00170\n",
      "  ERCC-00171\n",
      "rowData names(19): is_feature_control is_feature_control_ERCC ...\n",
      "  feature_symbol feature_id\n",
      "colnames(124): X2cell_1_A X2cell_1_B ... ME_4cell_6_C ME_4cell_6_D\n",
      "colData names(31): cell_type1 total_features ...\n",
      "  pct_counts_top_50_features_ERCC is_cell_control\n",
      "reducedDimNames(0):\n",
      "spikeNames(1): ERCC\n",
      "altExpNames(0):\n"
     ]
    },
    {
     "name": "stderr",
     "output_type": "stream",
     "text": [
      "Setting SC3 parameters...\n",
      "Warning message:\n",
      "“'isSpike' is deprecated.\n",
      "See help(\"Deprecated\")”Calculating distances between the cells...\n",
      "Performing transformations and calculating eigenvectors...\n",
      "Performing k-means clustering...\n"
     ]
    },
    {
     "name": "stdout",
     "output_type": "stream",
     "text": [
      "\n"
     ]
    },
    {
     "name": "stderr",
     "output_type": "stream",
     "text": [
      "Calculating consensus matrix...\n"
     ]
    },
    {
     "name": "stdout",
     "output_type": "stream",
     "text": [
      "class: SingleCellExperiment \n",
      "dim: 41428 124 \n",
      "metadata(0):\n",
      "assays(2): counts logcounts\n",
      "rownames(41428): ENSMUSG00000000001 ENSMUSG00000000003 ... ERCC-00170\n",
      "  ERCC-00171\n",
      "rowData names(19): is_feature_control is_feature_control_ERCC ...\n",
      "  feature_symbol feature_id\n",
      "colnames(124): X2cell_1_A X2cell_1_B ... ME_4cell_6_C ME_4cell_6_D\n",
      "colData names(31): cell_type1 total_features ...\n",
      "  pct_counts_top_50_features_ERCC is_cell_control\n",
      "reducedDimNames(0):\n",
      "spikeNames(1): ERCC\n",
      "altExpNames(0):\n"
     ]
    },
    {
     "name": "stderr",
     "output_type": "stream",
     "text": [
      "Setting SC3 parameters...\n",
      "Warning message:\n",
      "“'isSpike' is deprecated.\n",
      "See help(\"Deprecated\")”Calculating distances between the cells...\n",
      "Performing transformations and calculating eigenvectors...\n",
      "Performing k-means clustering...\n"
     ]
    },
    {
     "name": "stdout",
     "output_type": "stream",
     "text": [
      "\n"
     ]
    },
    {
     "name": "stderr",
     "output_type": "stream",
     "text": [
      "Calculating consensus matrix...\n"
     ]
    },
    {
     "name": "stdout",
     "output_type": "stream",
     "text": [
      "class: SingleCellExperiment \n",
      "dim: 41428 124 \n",
      "metadata(0):\n",
      "assays(2): counts logcounts\n",
      "rownames(41428): ENSMUSG00000000001 ENSMUSG00000000003 ... ERCC-00170\n",
      "  ERCC-00171\n",
      "rowData names(19): is_feature_control is_feature_control_ERCC ...\n",
      "  feature_symbol feature_id\n",
      "colnames(124): X2cell_1_A X2cell_1_B ... ME_4cell_6_C ME_4cell_6_D\n",
      "colData names(31): cell_type1 total_features ...\n",
      "  pct_counts_top_50_features_ERCC is_cell_control\n",
      "reducedDimNames(0):\n",
      "spikeNames(1): ERCC\n",
      "altExpNames(0):\n"
     ]
    },
    {
     "name": "stderr",
     "output_type": "stream",
     "text": [
      "Setting SC3 parameters...\n",
      "Warning message:\n",
      "“'isSpike' is deprecated.\n",
      "See help(\"Deprecated\")”Calculating distances between the cells...\n",
      "Performing transformations and calculating eigenvectors...\n",
      "Performing k-means clustering...\n"
     ]
    },
    {
     "name": "stdout",
     "output_type": "stream",
     "text": [
      "\n"
     ]
    },
    {
     "name": "stderr",
     "output_type": "stream",
     "text": [
      "Calculating consensus matrix...\n"
     ]
    },
    {
     "name": "stdout",
     "output_type": "stream",
     "text": [
      "class: SingleCellExperiment \n",
      "dim: 41428 124 \n",
      "metadata(0):\n",
      "assays(2): counts logcounts\n",
      "rownames(41428): ENSMUSG00000000001 ENSMUSG00000000003 ... ERCC-00170\n",
      "  ERCC-00171\n",
      "rowData names(19): is_feature_control is_feature_control_ERCC ...\n",
      "  feature_symbol feature_id\n",
      "colnames(124): X2cell_1_A X2cell_1_B ... ME_4cell_6_C ME_4cell_6_D\n",
      "colData names(31): cell_type1 total_features ...\n",
      "  pct_counts_top_50_features_ERCC is_cell_control\n",
      "reducedDimNames(0):\n",
      "spikeNames(1): ERCC\n",
      "altExpNames(0):\n"
     ]
    },
    {
     "name": "stderr",
     "output_type": "stream",
     "text": [
      "Setting SC3 parameters...\n",
      "Warning message:\n",
      "“'isSpike' is deprecated.\n",
      "See help(\"Deprecated\")”Calculating distances between the cells...\n",
      "Performing transformations and calculating eigenvectors...\n",
      "Performing k-means clustering...\n"
     ]
    },
    {
     "name": "stdout",
     "output_type": "stream",
     "text": [
      "\n"
     ]
    },
    {
     "name": "stderr",
     "output_type": "stream",
     "text": [
      "Calculating consensus matrix...\n"
     ]
    },
    {
     "name": "stdout",
     "output_type": "stream",
     "text": [
      "class: SingleCellExperiment \n",
      "dim: 41428 124 \n",
      "metadata(0):\n",
      "assays(2): counts logcounts\n",
      "rownames(41428): ENSMUSG00000000001 ENSMUSG00000000003 ... ERCC-00170\n",
      "  ERCC-00171\n",
      "rowData names(19): is_feature_control is_feature_control_ERCC ...\n",
      "  feature_symbol feature_id\n",
      "colnames(124): X2cell_1_A X2cell_1_B ... ME_4cell_6_C ME_4cell_6_D\n",
      "colData names(31): cell_type1 total_features ...\n",
      "  pct_counts_top_50_features_ERCC is_cell_control\n",
      "reducedDimNames(0):\n",
      "spikeNames(1): ERCC\n",
      "altExpNames(0):\n"
     ]
    },
    {
     "name": "stderr",
     "output_type": "stream",
     "text": [
      "Setting SC3 parameters...\n",
      "Warning message:\n",
      "“'isSpike' is deprecated.\n",
      "See help(\"Deprecated\")”Calculating distances between the cells...\n",
      "Performing transformations and calculating eigenvectors...\n",
      "Performing k-means clustering...\n"
     ]
    },
    {
     "name": "stdout",
     "output_type": "stream",
     "text": [
      "\n"
     ]
    },
    {
     "name": "stderr",
     "output_type": "stream",
     "text": [
      "Calculating consensus matrix...\n"
     ]
    },
    {
     "name": "stdout",
     "output_type": "stream",
     "text": [
      "class: SingleCellExperiment \n",
      "dim: 41428 124 \n",
      "metadata(0):\n",
      "assays(2): counts logcounts\n",
      "rownames(41428): ENSMUSG00000000001 ENSMUSG00000000003 ... ERCC-00170\n",
      "  ERCC-00171\n",
      "rowData names(19): is_feature_control is_feature_control_ERCC ...\n",
      "  feature_symbol feature_id\n",
      "colnames(124): X2cell_1_A X2cell_1_B ... ME_4cell_6_C ME_4cell_6_D\n",
      "colData names(31): cell_type1 total_features ...\n",
      "  pct_counts_top_50_features_ERCC is_cell_control\n",
      "reducedDimNames(0):\n",
      "spikeNames(1): ERCC\n",
      "altExpNames(0):\n"
     ]
    },
    {
     "name": "stderr",
     "output_type": "stream",
     "text": [
      "Setting SC3 parameters...\n",
      "Warning message:\n",
      "“'isSpike' is deprecated.\n",
      "See help(\"Deprecated\")”Calculating distances between the cells...\n",
      "Performing transformations and calculating eigenvectors...\n",
      "Performing k-means clustering...\n"
     ]
    },
    {
     "name": "stdout",
     "output_type": "stream",
     "text": [
      "\n"
     ]
    },
    {
     "name": "stderr",
     "output_type": "stream",
     "text": [
      "Calculating consensus matrix...\n"
     ]
    },
    {
     "name": "stdout",
     "output_type": "stream",
     "text": [
      "class: SingleCellExperiment \n",
      "dim: 41428 124 \n",
      "metadata(0):\n",
      "assays(2): counts logcounts\n",
      "rownames(41428): ENSMUSG00000000001 ENSMUSG00000000003 ... ERCC-00170\n",
      "  ERCC-00171\n",
      "rowData names(19): is_feature_control is_feature_control_ERCC ...\n",
      "  feature_symbol feature_id\n",
      "colnames(124): X2cell_1_A X2cell_1_B ... ME_4cell_6_C ME_4cell_6_D\n",
      "colData names(31): cell_type1 total_features ...\n",
      "  pct_counts_top_50_features_ERCC is_cell_control\n",
      "reducedDimNames(0):\n",
      "spikeNames(1): ERCC\n",
      "altExpNames(0):\n"
     ]
    },
    {
     "name": "stderr",
     "output_type": "stream",
     "text": [
      "Setting SC3 parameters...\n",
      "Warning message:\n",
      "“'isSpike' is deprecated.\n",
      "See help(\"Deprecated\")”Calculating distances between the cells...\n",
      "Performing transformations and calculating eigenvectors...\n",
      "Performing k-means clustering...\n"
     ]
    },
    {
     "name": "stdout",
     "output_type": "stream",
     "text": [
      "\n"
     ]
    },
    {
     "name": "stderr",
     "output_type": "stream",
     "text": [
      "Calculating consensus matrix...\n"
     ]
    },
    {
     "name": "stdout",
     "output_type": "stream",
     "text": [
      "class: SingleCellExperiment \n",
      "dim: 41428 124 \n",
      "metadata(0):\n",
      "assays(2): counts logcounts\n",
      "rownames(41428): ENSMUSG00000000001 ENSMUSG00000000003 ... ERCC-00170\n",
      "  ERCC-00171\n",
      "rowData names(19): is_feature_control is_feature_control_ERCC ...\n",
      "  feature_symbol feature_id\n",
      "colnames(124): X2cell_1_A X2cell_1_B ... ME_4cell_6_C ME_4cell_6_D\n",
      "colData names(31): cell_type1 total_features ...\n",
      "  pct_counts_top_50_features_ERCC is_cell_control\n",
      "reducedDimNames(0):\n",
      "spikeNames(1): ERCC\n",
      "altExpNames(0):\n"
     ]
    },
    {
     "name": "stderr",
     "output_type": "stream",
     "text": [
      "Setting SC3 parameters...\n",
      "Warning message:\n",
      "“'isSpike' is deprecated.\n",
      "See help(\"Deprecated\")”Calculating distances between the cells...\n",
      "Performing transformations and calculating eigenvectors...\n",
      "Performing k-means clustering...\n"
     ]
    },
    {
     "name": "stdout",
     "output_type": "stream",
     "text": [
      "\n"
     ]
    },
    {
     "name": "stderr",
     "output_type": "stream",
     "text": [
      "Calculating consensus matrix...\n"
     ]
    },
    {
     "name": "stdout",
     "output_type": "stream",
     "text": [
      "class: SingleCellExperiment \n",
      "dim: 41428 124 \n",
      "metadata(0):\n",
      "assays(2): counts logcounts\n",
      "rownames(41428): ENSMUSG00000000001 ENSMUSG00000000003 ... ERCC-00170\n",
      "  ERCC-00171\n",
      "rowData names(19): is_feature_control is_feature_control_ERCC ...\n",
      "  feature_symbol feature_id\n",
      "colnames(124): X2cell_1_A X2cell_1_B ... ME_4cell_6_C ME_4cell_6_D\n",
      "colData names(31): cell_type1 total_features ...\n",
      "  pct_counts_top_50_features_ERCC is_cell_control\n",
      "reducedDimNames(0):\n",
      "spikeNames(1): ERCC\n",
      "altExpNames(0):\n"
     ]
    },
    {
     "name": "stderr",
     "output_type": "stream",
     "text": [
      "Setting SC3 parameters...\n",
      "Warning message:\n",
      "“'isSpike' is deprecated.\n",
      "See help(\"Deprecated\")”Calculating distances between the cells...\n",
      "Performing transformations and calculating eigenvectors...\n",
      "Performing k-means clustering...\n"
     ]
    },
    {
     "name": "stdout",
     "output_type": "stream",
     "text": [
      "\n"
     ]
    },
    {
     "name": "stderr",
     "output_type": "stream",
     "text": [
      "Calculating consensus matrix...\n"
     ]
    },
    {
     "name": "stdout",
     "output_type": "stream",
     "text": [
      "class: SingleCellExperiment \n",
      "dim: 41428 124 \n",
      "metadata(0):\n",
      "assays(2): counts logcounts\n",
      "rownames(41428): ENSMUSG00000000001 ENSMUSG00000000003 ... ERCC-00170\n",
      "  ERCC-00171\n",
      "rowData names(19): is_feature_control is_feature_control_ERCC ...\n",
      "  feature_symbol feature_id\n",
      "colnames(124): X2cell_1_A X2cell_1_B ... ME_4cell_6_C ME_4cell_6_D\n",
      "colData names(31): cell_type1 total_features ...\n",
      "  pct_counts_top_50_features_ERCC is_cell_control\n",
      "reducedDimNames(0):\n",
      "spikeNames(1): ERCC\n",
      "altExpNames(0):\n"
     ]
    },
    {
     "name": "stderr",
     "output_type": "stream",
     "text": [
      "Setting SC3 parameters...\n",
      "Warning message:\n",
      "“'isSpike' is deprecated.\n",
      "See help(\"Deprecated\")”Calculating distances between the cells...\n",
      "Performing transformations and calculating eigenvectors...\n",
      "Performing k-means clustering...\n"
     ]
    },
    {
     "name": "stdout",
     "output_type": "stream",
     "text": [
      "\n"
     ]
    },
    {
     "name": "stderr",
     "output_type": "stream",
     "text": [
      "Calculating consensus matrix...\n"
     ]
    },
    {
     "name": "stdout",
     "output_type": "stream",
     "text": [
      "class: SingleCellExperiment \n",
      "dim: 41428 124 \n",
      "metadata(0):\n",
      "assays(2): counts logcounts\n",
      "rownames(41428): ENSMUSG00000000001 ENSMUSG00000000003 ... ERCC-00170\n",
      "  ERCC-00171\n",
      "rowData names(19): is_feature_control is_feature_control_ERCC ...\n",
      "  feature_symbol feature_id\n",
      "colnames(124): X2cell_1_A X2cell_1_B ... ME_4cell_6_C ME_4cell_6_D\n",
      "colData names(31): cell_type1 total_features ...\n",
      "  pct_counts_top_50_features_ERCC is_cell_control\n",
      "reducedDimNames(0):\n",
      "spikeNames(1): ERCC\n",
      "altExpNames(0):\n"
     ]
    },
    {
     "name": "stderr",
     "output_type": "stream",
     "text": [
      "Setting SC3 parameters...\n",
      "Warning message:\n",
      "“'isSpike' is deprecated.\n",
      "See help(\"Deprecated\")”Calculating distances between the cells...\n",
      "Performing transformations and calculating eigenvectors...\n",
      "Performing k-means clustering...\n"
     ]
    },
    {
     "name": "stdout",
     "output_type": "stream",
     "text": [
      "\n"
     ]
    },
    {
     "name": "stderr",
     "output_type": "stream",
     "text": [
      "Calculating consensus matrix...\n"
     ]
    },
    {
     "name": "stdout",
     "output_type": "stream",
     "text": [
      "class: SingleCellExperiment \n",
      "dim: 41428 124 \n",
      "metadata(0):\n",
      "assays(2): counts logcounts\n",
      "rownames(41428): ENSMUSG00000000001 ENSMUSG00000000003 ... ERCC-00170\n",
      "  ERCC-00171\n",
      "rowData names(19): is_feature_control is_feature_control_ERCC ...\n",
      "  feature_symbol feature_id\n",
      "colnames(124): X2cell_1_A X2cell_1_B ... ME_4cell_6_C ME_4cell_6_D\n",
      "colData names(31): cell_type1 total_features ...\n",
      "  pct_counts_top_50_features_ERCC is_cell_control\n",
      "reducedDimNames(0):\n",
      "spikeNames(1): ERCC\n",
      "altExpNames(0):\n"
     ]
    },
    {
     "name": "stderr",
     "output_type": "stream",
     "text": [
      "Setting SC3 parameters...\n",
      "Warning message:\n",
      "“'isSpike' is deprecated.\n",
      "See help(\"Deprecated\")”Calculating distances between the cells...\n",
      "Performing transformations and calculating eigenvectors...\n",
      "Performing k-means clustering...\n"
     ]
    },
    {
     "name": "stdout",
     "output_type": "stream",
     "text": [
      "\n"
     ]
    },
    {
     "name": "stderr",
     "output_type": "stream",
     "text": [
      "Calculating consensus matrix...\n"
     ]
    },
    {
     "name": "stdout",
     "output_type": "stream",
     "text": [
      "class: SingleCellExperiment \n",
      "dim: 41428 124 \n",
      "metadata(0):\n",
      "assays(2): counts logcounts\n",
      "rownames(41428): ENSMUSG00000000001 ENSMUSG00000000003 ... ERCC-00170\n",
      "  ERCC-00171\n",
      "rowData names(19): is_feature_control is_feature_control_ERCC ...\n",
      "  feature_symbol feature_id\n",
      "colnames(124): X2cell_1_A X2cell_1_B ... ME_4cell_6_C ME_4cell_6_D\n",
      "colData names(31): cell_type1 total_features ...\n",
      "  pct_counts_top_50_features_ERCC is_cell_control\n",
      "reducedDimNames(0):\n",
      "spikeNames(1): ERCC\n",
      "altExpNames(0):\n"
     ]
    },
    {
     "name": "stderr",
     "output_type": "stream",
     "text": [
      "Setting SC3 parameters...\n",
      "Warning message:\n",
      "“'isSpike' is deprecated.\n",
      "See help(\"Deprecated\")”Calculating distances between the cells...\n",
      "Performing transformations and calculating eigenvectors...\n",
      "Performing k-means clustering...\n"
     ]
    },
    {
     "name": "stdout",
     "output_type": "stream",
     "text": [
      "\n"
     ]
    },
    {
     "name": "stderr",
     "output_type": "stream",
     "text": [
      "Calculating consensus matrix...\n"
     ]
    },
    {
     "name": "stdout",
     "output_type": "stream",
     "text": [
      "class: SingleCellExperiment \n",
      "dim: 41428 124 \n",
      "metadata(0):\n",
      "assays(2): counts logcounts\n",
      "rownames(41428): ENSMUSG00000000001 ENSMUSG00000000003 ... ERCC-00170\n",
      "  ERCC-00171\n",
      "rowData names(19): is_feature_control is_feature_control_ERCC ...\n",
      "  feature_symbol feature_id\n",
      "colnames(124): X2cell_1_A X2cell_1_B ... ME_4cell_6_C ME_4cell_6_D\n",
      "colData names(31): cell_type1 total_features ...\n",
      "  pct_counts_top_50_features_ERCC is_cell_control\n",
      "reducedDimNames(0):\n",
      "spikeNames(1): ERCC\n",
      "altExpNames(0):\n"
     ]
    },
    {
     "name": "stderr",
     "output_type": "stream",
     "text": [
      "Setting SC3 parameters...\n",
      "Warning message:\n",
      "“'isSpike' is deprecated.\n",
      "See help(\"Deprecated\")”Calculating distances between the cells...\n",
      "Performing transformations and calculating eigenvectors...\n",
      "Performing k-means clustering...\n"
     ]
    },
    {
     "name": "stdout",
     "output_type": "stream",
     "text": [
      "\n"
     ]
    },
    {
     "name": "stderr",
     "output_type": "stream",
     "text": [
      "Calculating consensus matrix...\n"
     ]
    },
    {
     "name": "stdout",
     "output_type": "stream",
     "text": [
      "class: SingleCellExperiment \n",
      "dim: 41428 124 \n",
      "metadata(0):\n",
      "assays(2): counts logcounts\n",
      "rownames(41428): ENSMUSG00000000001 ENSMUSG00000000003 ... ERCC-00170\n",
      "  ERCC-00171\n",
      "rowData names(19): is_feature_control is_feature_control_ERCC ...\n",
      "  feature_symbol feature_id\n",
      "colnames(124): X2cell_1_A X2cell_1_B ... ME_4cell_6_C ME_4cell_6_D\n",
      "colData names(31): cell_type1 total_features ...\n",
      "  pct_counts_top_50_features_ERCC is_cell_control\n",
      "reducedDimNames(0):\n",
      "spikeNames(1): ERCC\n",
      "altExpNames(0):\n"
     ]
    },
    {
     "name": "stderr",
     "output_type": "stream",
     "text": [
      "Setting SC3 parameters...\n",
      "Warning message:\n",
      "“'isSpike' is deprecated.\n",
      "See help(\"Deprecated\")”Calculating distances between the cells...\n",
      "Performing transformations and calculating eigenvectors...\n",
      "Performing k-means clustering...\n"
     ]
    },
    {
     "name": "stdout",
     "output_type": "stream",
     "text": [
      "\n"
     ]
    },
    {
     "name": "stderr",
     "output_type": "stream",
     "text": [
      "Calculating consensus matrix...\n"
     ]
    },
    {
     "name": "stdout",
     "output_type": "stream",
     "text": [
      "class: SingleCellExperiment \n",
      "dim: 41428 124 \n",
      "metadata(0):\n",
      "assays(2): counts logcounts\n",
      "rownames(41428): ENSMUSG00000000001 ENSMUSG00000000003 ... ERCC-00170\n",
      "  ERCC-00171\n",
      "rowData names(19): is_feature_control is_feature_control_ERCC ...\n",
      "  feature_symbol feature_id\n",
      "colnames(124): X2cell_1_A X2cell_1_B ... ME_4cell_6_C ME_4cell_6_D\n",
      "colData names(31): cell_type1 total_features ...\n",
      "  pct_counts_top_50_features_ERCC is_cell_control\n",
      "reducedDimNames(0):\n",
      "spikeNames(1): ERCC\n",
      "altExpNames(0):\n"
     ]
    },
    {
     "name": "stderr",
     "output_type": "stream",
     "text": [
      "Setting SC3 parameters...\n",
      "Warning message:\n",
      "“'isSpike' is deprecated.\n",
      "See help(\"Deprecated\")”Calculating distances between the cells...\n",
      "Performing transformations and calculating eigenvectors...\n",
      "Performing k-means clustering...\n"
     ]
    },
    {
     "name": "stdout",
     "output_type": "stream",
     "text": [
      "\n"
     ]
    },
    {
     "name": "stderr",
     "output_type": "stream",
     "text": [
      "Calculating consensus matrix...\n"
     ]
    },
    {
     "name": "stdout",
     "output_type": "stream",
     "text": [
      "class: SingleCellExperiment \n",
      "dim: 41428 124 \n",
      "metadata(0):\n",
      "assays(2): counts logcounts\n",
      "rownames(41428): ENSMUSG00000000001 ENSMUSG00000000003 ... ERCC-00170\n",
      "  ERCC-00171\n",
      "rowData names(19): is_feature_control is_feature_control_ERCC ...\n",
      "  feature_symbol feature_id\n",
      "colnames(124): X2cell_1_A X2cell_1_B ... ME_4cell_6_C ME_4cell_6_D\n",
      "colData names(31): cell_type1 total_features ...\n",
      "  pct_counts_top_50_features_ERCC is_cell_control\n",
      "reducedDimNames(0):\n",
      "spikeNames(1): ERCC\n",
      "altExpNames(0):\n"
     ]
    },
    {
     "name": "stderr",
     "output_type": "stream",
     "text": [
      "Setting SC3 parameters...\n",
      "Warning message:\n",
      "“'isSpike' is deprecated.\n",
      "See help(\"Deprecated\")”Calculating distances between the cells...\n",
      "Performing transformations and calculating eigenvectors...\n",
      "Performing k-means clustering...\n"
     ]
    },
    {
     "name": "stdout",
     "output_type": "stream",
     "text": [
      "\n"
     ]
    },
    {
     "name": "stderr",
     "output_type": "stream",
     "text": [
      "Calculating consensus matrix...\n"
     ]
    },
    {
     "name": "stdout",
     "output_type": "stream",
     "text": [
      "class: SingleCellExperiment \n",
      "dim: 41428 124 \n",
      "metadata(0):\n",
      "assays(2): counts logcounts\n",
      "rownames(41428): ENSMUSG00000000001 ENSMUSG00000000003 ... ERCC-00170\n",
      "  ERCC-00171\n",
      "rowData names(19): is_feature_control is_feature_control_ERCC ...\n",
      "  feature_symbol feature_id\n",
      "colnames(124): X2cell_1_A X2cell_1_B ... ME_4cell_6_C ME_4cell_6_D\n",
      "colData names(31): cell_type1 total_features ...\n",
      "  pct_counts_top_50_features_ERCC is_cell_control\n",
      "reducedDimNames(0):\n",
      "spikeNames(1): ERCC\n",
      "altExpNames(0):\n"
     ]
    },
    {
     "name": "stderr",
     "output_type": "stream",
     "text": [
      "Setting SC3 parameters...\n",
      "Warning message:\n",
      "“'isSpike' is deprecated.\n",
      "See help(\"Deprecated\")”Calculating distances between the cells...\n",
      "Performing transformations and calculating eigenvectors...\n",
      "Performing k-means clustering...\n"
     ]
    },
    {
     "name": "stdout",
     "output_type": "stream",
     "text": [
      "\n"
     ]
    },
    {
     "name": "stderr",
     "output_type": "stream",
     "text": [
      "Calculating consensus matrix...\n"
     ]
    },
    {
     "name": "stdout",
     "output_type": "stream",
     "text": [
      "class: SingleCellExperiment \n",
      "dim: 41428 124 \n",
      "metadata(0):\n",
      "assays(2): counts logcounts\n",
      "rownames(41428): ENSMUSG00000000001 ENSMUSG00000000003 ... ERCC-00170\n",
      "  ERCC-00171\n",
      "rowData names(19): is_feature_control is_feature_control_ERCC ...\n",
      "  feature_symbol feature_id\n",
      "colnames(124): X2cell_1_A X2cell_1_B ... ME_4cell_6_C ME_4cell_6_D\n",
      "colData names(31): cell_type1 total_features ...\n",
      "  pct_counts_top_50_features_ERCC is_cell_control\n",
      "reducedDimNames(0):\n",
      "spikeNames(1): ERCC\n",
      "altExpNames(0):\n"
     ]
    },
    {
     "name": "stderr",
     "output_type": "stream",
     "text": [
      "Setting SC3 parameters...\n",
      "Warning message:\n",
      "“'isSpike' is deprecated.\n",
      "See help(\"Deprecated\")”Calculating distances between the cells...\n",
      "Performing transformations and calculating eigenvectors...\n",
      "Performing k-means clustering...\n"
     ]
    },
    {
     "name": "stdout",
     "output_type": "stream",
     "text": [
      "\n"
     ]
    },
    {
     "name": "stderr",
     "output_type": "stream",
     "text": [
      "Calculating consensus matrix...\n"
     ]
    },
    {
     "name": "stdout",
     "output_type": "stream",
     "text": [
      "class: SingleCellExperiment \n",
      "dim: 41428 124 \n",
      "metadata(0):\n",
      "assays(2): counts logcounts\n",
      "rownames(41428): ENSMUSG00000000001 ENSMUSG00000000003 ... ERCC-00170\n",
      "  ERCC-00171\n",
      "rowData names(19): is_feature_control is_feature_control_ERCC ...\n",
      "  feature_symbol feature_id\n",
      "colnames(124): X2cell_1_A X2cell_1_B ... ME_4cell_6_C ME_4cell_6_D\n",
      "colData names(31): cell_type1 total_features ...\n",
      "  pct_counts_top_50_features_ERCC is_cell_control\n",
      "reducedDimNames(0):\n",
      "spikeNames(1): ERCC\n",
      "altExpNames(0):\n"
     ]
    },
    {
     "name": "stderr",
     "output_type": "stream",
     "text": [
      "Setting SC3 parameters...\n",
      "Warning message:\n",
      "“'isSpike' is deprecated.\n",
      "See help(\"Deprecated\")”Calculating distances between the cells...\n",
      "Performing transformations and calculating eigenvectors...\n",
      "Performing k-means clustering...\n"
     ]
    },
    {
     "name": "stdout",
     "output_type": "stream",
     "text": [
      "\n"
     ]
    },
    {
     "name": "stderr",
     "output_type": "stream",
     "text": [
      "Calculating consensus matrix...\n"
     ]
    },
    {
     "name": "stdout",
     "output_type": "stream",
     "text": [
      "class: SingleCellExperiment \n",
      "dim: 41428 124 \n",
      "metadata(0):\n",
      "assays(2): counts logcounts\n",
      "rownames(41428): ENSMUSG00000000001 ENSMUSG00000000003 ... ERCC-00170\n",
      "  ERCC-00171\n",
      "rowData names(19): is_feature_control is_feature_control_ERCC ...\n",
      "  feature_symbol feature_id\n",
      "colnames(124): X2cell_1_A X2cell_1_B ... ME_4cell_6_C ME_4cell_6_D\n",
      "colData names(31): cell_type1 total_features ...\n",
      "  pct_counts_top_50_features_ERCC is_cell_control\n",
      "reducedDimNames(0):\n",
      "spikeNames(1): ERCC\n",
      "altExpNames(0):\n"
     ]
    },
    {
     "name": "stderr",
     "output_type": "stream",
     "text": [
      "Setting SC3 parameters...\n",
      "Warning message:\n",
      "“'isSpike' is deprecated.\n",
      "See help(\"Deprecated\")”Calculating distances between the cells...\n",
      "Performing transformations and calculating eigenvectors...\n",
      "Performing k-means clustering...\n"
     ]
    },
    {
     "name": "stdout",
     "output_type": "stream",
     "text": [
      "\n"
     ]
    },
    {
     "name": "stderr",
     "output_type": "stream",
     "text": [
      "Calculating consensus matrix...\n"
     ]
    },
    {
     "name": "stdout",
     "output_type": "stream",
     "text": [
      "class: SingleCellExperiment \n",
      "dim: 41428 124 \n",
      "metadata(0):\n",
      "assays(2): counts logcounts\n",
      "rownames(41428): ENSMUSG00000000001 ENSMUSG00000000003 ... ERCC-00170\n",
      "  ERCC-00171\n",
      "rowData names(19): is_feature_control is_feature_control_ERCC ...\n",
      "  feature_symbol feature_id\n",
      "colnames(124): X2cell_1_A X2cell_1_B ... ME_4cell_6_C ME_4cell_6_D\n",
      "colData names(31): cell_type1 total_features ...\n",
      "  pct_counts_top_50_features_ERCC is_cell_control\n",
      "reducedDimNames(0):\n",
      "spikeNames(1): ERCC\n",
      "altExpNames(0):\n"
     ]
    },
    {
     "name": "stderr",
     "output_type": "stream",
     "text": [
      "Setting SC3 parameters...\n",
      "Warning message:\n",
      "“'isSpike' is deprecated.\n",
      "See help(\"Deprecated\")”Calculating distances between the cells...\n",
      "Performing transformations and calculating eigenvectors...\n",
      "Performing k-means clustering...\n"
     ]
    },
    {
     "name": "stdout",
     "output_type": "stream",
     "text": [
      "\n"
     ]
    },
    {
     "name": "stderr",
     "output_type": "stream",
     "text": [
      "Calculating consensus matrix...\n"
     ]
    },
    {
     "name": "stdout",
     "output_type": "stream",
     "text": [
      "class: SingleCellExperiment \n",
      "dim: 41428 124 \n",
      "metadata(0):\n",
      "assays(2): counts logcounts\n",
      "rownames(41428): ENSMUSG00000000001 ENSMUSG00000000003 ... ERCC-00170\n",
      "  ERCC-00171\n",
      "rowData names(19): is_feature_control is_feature_control_ERCC ...\n",
      "  feature_symbol feature_id\n",
      "colnames(124): X2cell_1_A X2cell_1_B ... ME_4cell_6_C ME_4cell_6_D\n",
      "colData names(31): cell_type1 total_features ...\n",
      "  pct_counts_top_50_features_ERCC is_cell_control\n",
      "reducedDimNames(0):\n",
      "spikeNames(1): ERCC\n",
      "altExpNames(0):\n"
     ]
    },
    {
     "name": "stderr",
     "output_type": "stream",
     "text": [
      "Setting SC3 parameters...\n",
      "Warning message:\n",
      "“'isSpike' is deprecated.\n",
      "See help(\"Deprecated\")”Calculating distances between the cells...\n",
      "Performing transformations and calculating eigenvectors...\n",
      "Performing k-means clustering...\n"
     ]
    },
    {
     "name": "stdout",
     "output_type": "stream",
     "text": [
      "\n"
     ]
    },
    {
     "name": "stderr",
     "output_type": "stream",
     "text": [
      "Calculating consensus matrix...\n"
     ]
    },
    {
     "name": "stdout",
     "output_type": "stream",
     "text": [
      "class: SingleCellExperiment \n",
      "dim: 41428 124 \n",
      "metadata(0):\n",
      "assays(2): counts logcounts\n",
      "rownames(41428): ENSMUSG00000000001 ENSMUSG00000000003 ... ERCC-00170\n",
      "  ERCC-00171\n",
      "rowData names(19): is_feature_control is_feature_control_ERCC ...\n",
      "  feature_symbol feature_id\n",
      "colnames(124): X2cell_1_A X2cell_1_B ... ME_4cell_6_C ME_4cell_6_D\n",
      "colData names(31): cell_type1 total_features ...\n",
      "  pct_counts_top_50_features_ERCC is_cell_control\n",
      "reducedDimNames(0):\n",
      "spikeNames(1): ERCC\n",
      "altExpNames(0):\n"
     ]
    },
    {
     "name": "stderr",
     "output_type": "stream",
     "text": [
      "Setting SC3 parameters...\n",
      "Warning message:\n",
      "“'isSpike' is deprecated.\n",
      "See help(\"Deprecated\")”Calculating distances between the cells...\n",
      "Performing transformations and calculating eigenvectors...\n",
      "Performing k-means clustering...\n"
     ]
    },
    {
     "name": "stdout",
     "output_type": "stream",
     "text": [
      "\n"
     ]
    },
    {
     "name": "stderr",
     "output_type": "stream",
     "text": [
      "Calculating consensus matrix...\n"
     ]
    },
    {
     "name": "stdout",
     "output_type": "stream",
     "text": [
      "class: SingleCellExperiment \n",
      "dim: 41428 124 \n",
      "metadata(0):\n",
      "assays(2): counts logcounts\n",
      "rownames(41428): ENSMUSG00000000001 ENSMUSG00000000003 ... ERCC-00170\n",
      "  ERCC-00171\n",
      "rowData names(19): is_feature_control is_feature_control_ERCC ...\n",
      "  feature_symbol feature_id\n",
      "colnames(124): X2cell_1_A X2cell_1_B ... ME_4cell_6_C ME_4cell_6_D\n",
      "colData names(31): cell_type1 total_features ...\n",
      "  pct_counts_top_50_features_ERCC is_cell_control\n",
      "reducedDimNames(0):\n",
      "spikeNames(1): ERCC\n",
      "altExpNames(0):\n"
     ]
    },
    {
     "name": "stderr",
     "output_type": "stream",
     "text": [
      "Setting SC3 parameters...\n",
      "Warning message:\n",
      "“'isSpike' is deprecated.\n",
      "See help(\"Deprecated\")”Calculating distances between the cells...\n",
      "Performing transformations and calculating eigenvectors...\n",
      "Performing k-means clustering...\n"
     ]
    },
    {
     "name": "stdout",
     "output_type": "stream",
     "text": [
      "\n"
     ]
    },
    {
     "name": "stderr",
     "output_type": "stream",
     "text": [
      "Calculating consensus matrix...\n"
     ]
    },
    {
     "name": "stdout",
     "output_type": "stream",
     "text": [
      "class: SingleCellExperiment \n",
      "dim: 41428 124 \n",
      "metadata(0):\n",
      "assays(2): counts logcounts\n",
      "rownames(41428): ENSMUSG00000000001 ENSMUSG00000000003 ... ERCC-00170\n",
      "  ERCC-00171\n",
      "rowData names(19): is_feature_control is_feature_control_ERCC ...\n",
      "  feature_symbol feature_id\n",
      "colnames(124): X2cell_1_A X2cell_1_B ... ME_4cell_6_C ME_4cell_6_D\n",
      "colData names(31): cell_type1 total_features ...\n",
      "  pct_counts_top_50_features_ERCC is_cell_control\n",
      "reducedDimNames(0):\n",
      "spikeNames(1): ERCC\n",
      "altExpNames(0):\n"
     ]
    },
    {
     "name": "stderr",
     "output_type": "stream",
     "text": [
      "Setting SC3 parameters...\n",
      "Warning message:\n",
      "“'isSpike' is deprecated.\n",
      "See help(\"Deprecated\")”Calculating distances between the cells...\n",
      "Performing transformations and calculating eigenvectors...\n",
      "Performing k-means clustering...\n"
     ]
    },
    {
     "name": "stdout",
     "output_type": "stream",
     "text": [
      "\n"
     ]
    },
    {
     "name": "stderr",
     "output_type": "stream",
     "text": [
      "Calculating consensus matrix...\n"
     ]
    },
    {
     "name": "stdout",
     "output_type": "stream",
     "text": [
      "class: SingleCellExperiment \n",
      "dim: 41428 124 \n",
      "metadata(0):\n",
      "assays(2): counts logcounts\n",
      "rownames(41428): ENSMUSG00000000001 ENSMUSG00000000003 ... ERCC-00170\n",
      "  ERCC-00171\n",
      "rowData names(19): is_feature_control is_feature_control_ERCC ...\n",
      "  feature_symbol feature_id\n",
      "colnames(124): X2cell_1_A X2cell_1_B ... ME_4cell_6_C ME_4cell_6_D\n",
      "colData names(31): cell_type1 total_features ...\n",
      "  pct_counts_top_50_features_ERCC is_cell_control\n",
      "reducedDimNames(0):\n",
      "spikeNames(1): ERCC\n",
      "altExpNames(0):\n"
     ]
    },
    {
     "name": "stderr",
     "output_type": "stream",
     "text": [
      "Setting SC3 parameters...\n",
      "Warning message:\n",
      "“'isSpike' is deprecated.\n",
      "See help(\"Deprecated\")”Calculating distances between the cells...\n",
      "Performing transformations and calculating eigenvectors...\n",
      "Performing k-means clustering...\n"
     ]
    },
    {
     "name": "stdout",
     "output_type": "stream",
     "text": [
      "\n"
     ]
    },
    {
     "name": "stderr",
     "output_type": "stream",
     "text": [
      "Calculating consensus matrix...\n"
     ]
    },
    {
     "name": "stdout",
     "output_type": "stream",
     "text": [
      "class: SingleCellExperiment \n",
      "dim: 41428 124 \n",
      "metadata(0):\n",
      "assays(2): counts logcounts\n",
      "rownames(41428): ENSMUSG00000000001 ENSMUSG00000000003 ... ERCC-00170\n",
      "  ERCC-00171\n",
      "rowData names(19): is_feature_control is_feature_control_ERCC ...\n",
      "  feature_symbol feature_id\n",
      "colnames(124): X2cell_1_A X2cell_1_B ... ME_4cell_6_C ME_4cell_6_D\n",
      "colData names(31): cell_type1 total_features ...\n",
      "  pct_counts_top_50_features_ERCC is_cell_control\n",
      "reducedDimNames(0):\n",
      "spikeNames(1): ERCC\n",
      "altExpNames(0):\n"
     ]
    },
    {
     "name": "stderr",
     "output_type": "stream",
     "text": [
      "Setting SC3 parameters...\n",
      "Warning message:\n",
      "“'isSpike' is deprecated.\n",
      "See help(\"Deprecated\")”Calculating distances between the cells...\n",
      "Performing transformations and calculating eigenvectors...\n",
      "Performing k-means clustering...\n"
     ]
    },
    {
     "name": "stdout",
     "output_type": "stream",
     "text": [
      "\n"
     ]
    },
    {
     "name": "stderr",
     "output_type": "stream",
     "text": [
      "Calculating consensus matrix...\n"
     ]
    },
    {
     "name": "stdout",
     "output_type": "stream",
     "text": [
      "class: SingleCellExperiment \n",
      "dim: 41428 124 \n",
      "metadata(0):\n",
      "assays(2): counts logcounts\n",
      "rownames(41428): ENSMUSG00000000001 ENSMUSG00000000003 ... ERCC-00170\n",
      "  ERCC-00171\n",
      "rowData names(19): is_feature_control is_feature_control_ERCC ...\n",
      "  feature_symbol feature_id\n",
      "colnames(124): X2cell_1_A X2cell_1_B ... ME_4cell_6_C ME_4cell_6_D\n",
      "colData names(31): cell_type1 total_features ...\n",
      "  pct_counts_top_50_features_ERCC is_cell_control\n",
      "reducedDimNames(0):\n",
      "spikeNames(1): ERCC\n",
      "altExpNames(0):\n"
     ]
    },
    {
     "name": "stderr",
     "output_type": "stream",
     "text": [
      "Setting SC3 parameters...\n",
      "Warning message:\n",
      "“'isSpike' is deprecated.\n",
      "See help(\"Deprecated\")”Calculating distances between the cells...\n",
      "Performing transformations and calculating eigenvectors...\n",
      "Performing k-means clustering...\n"
     ]
    },
    {
     "name": "stdout",
     "output_type": "stream",
     "text": [
      "\n"
     ]
    },
    {
     "name": "stderr",
     "output_type": "stream",
     "text": [
      "Calculating consensus matrix...\n"
     ]
    },
    {
     "name": "stdout",
     "output_type": "stream",
     "text": [
      "class: SingleCellExperiment \n",
      "dim: 41428 124 \n",
      "metadata(0):\n",
      "assays(2): counts logcounts\n",
      "rownames(41428): ENSMUSG00000000001 ENSMUSG00000000003 ... ERCC-00170\n",
      "  ERCC-00171\n",
      "rowData names(19): is_feature_control is_feature_control_ERCC ...\n",
      "  feature_symbol feature_id\n",
      "colnames(124): X2cell_1_A X2cell_1_B ... ME_4cell_6_C ME_4cell_6_D\n",
      "colData names(31): cell_type1 total_features ...\n",
      "  pct_counts_top_50_features_ERCC is_cell_control\n",
      "reducedDimNames(0):\n",
      "spikeNames(1): ERCC\n",
      "altExpNames(0):\n"
     ]
    },
    {
     "name": "stderr",
     "output_type": "stream",
     "text": [
      "Setting SC3 parameters...\n",
      "Warning message:\n",
      "“'isSpike' is deprecated.\n",
      "See help(\"Deprecated\")”Calculating distances between the cells...\n",
      "Performing transformations and calculating eigenvectors...\n",
      "Performing k-means clustering...\n"
     ]
    },
    {
     "name": "stdout",
     "output_type": "stream",
     "text": [
      "\n"
     ]
    },
    {
     "name": "stderr",
     "output_type": "stream",
     "text": [
      "Calculating consensus matrix...\n"
     ]
    },
    {
     "name": "stdout",
     "output_type": "stream",
     "text": [
      "class: SingleCellExperiment \n",
      "dim: 41428 124 \n",
      "metadata(0):\n",
      "assays(2): counts logcounts\n",
      "rownames(41428): ENSMUSG00000000001 ENSMUSG00000000003 ... ERCC-00170\n",
      "  ERCC-00171\n",
      "rowData names(19): is_feature_control is_feature_control_ERCC ...\n",
      "  feature_symbol feature_id\n",
      "colnames(124): X2cell_1_A X2cell_1_B ... ME_4cell_6_C ME_4cell_6_D\n",
      "colData names(31): cell_type1 total_features ...\n",
      "  pct_counts_top_50_features_ERCC is_cell_control\n",
      "reducedDimNames(0):\n",
      "spikeNames(1): ERCC\n",
      "altExpNames(0):\n"
     ]
    },
    {
     "name": "stderr",
     "output_type": "stream",
     "text": [
      "Setting SC3 parameters...\n",
      "Warning message:\n",
      "“'isSpike' is deprecated.\n",
      "See help(\"Deprecated\")”Calculating distances between the cells...\n",
      "Performing transformations and calculating eigenvectors...\n",
      "Performing k-means clustering...\n"
     ]
    },
    {
     "name": "stdout",
     "output_type": "stream",
     "text": [
      "\n"
     ]
    },
    {
     "name": "stderr",
     "output_type": "stream",
     "text": [
      "Calculating consensus matrix...\n"
     ]
    },
    {
     "name": "stdout",
     "output_type": "stream",
     "text": [
      "class: SingleCellExperiment \n",
      "dim: 41428 124 \n",
      "metadata(0):\n",
      "assays(2): counts logcounts\n",
      "rownames(41428): ENSMUSG00000000001 ENSMUSG00000000003 ... ERCC-00170\n",
      "  ERCC-00171\n",
      "rowData names(19): is_feature_control is_feature_control_ERCC ...\n",
      "  feature_symbol feature_id\n",
      "colnames(124): X2cell_1_A X2cell_1_B ... ME_4cell_6_C ME_4cell_6_D\n",
      "colData names(31): cell_type1 total_features ...\n",
      "  pct_counts_top_50_features_ERCC is_cell_control\n",
      "reducedDimNames(0):\n",
      "spikeNames(1): ERCC\n",
      "altExpNames(0):\n"
     ]
    },
    {
     "name": "stderr",
     "output_type": "stream",
     "text": [
      "Setting SC3 parameters...\n",
      "Warning message:\n",
      "“'isSpike' is deprecated.\n",
      "See help(\"Deprecated\")”Calculating distances between the cells...\n",
      "Performing transformations and calculating eigenvectors...\n",
      "Performing k-means clustering...\n"
     ]
    },
    {
     "name": "stdout",
     "output_type": "stream",
     "text": [
      "\n"
     ]
    },
    {
     "name": "stderr",
     "output_type": "stream",
     "text": [
      "Calculating consensus matrix...\n"
     ]
    },
    {
     "name": "stdout",
     "output_type": "stream",
     "text": [
      "class: SingleCellExperiment \n",
      "dim: 41428 124 \n",
      "metadata(0):\n",
      "assays(2): counts logcounts\n",
      "rownames(41428): ENSMUSG00000000001 ENSMUSG00000000003 ... ERCC-00170\n",
      "  ERCC-00171\n",
      "rowData names(19): is_feature_control is_feature_control_ERCC ...\n",
      "  feature_symbol feature_id\n",
      "colnames(124): X2cell_1_A X2cell_1_B ... ME_4cell_6_C ME_4cell_6_D\n",
      "colData names(31): cell_type1 total_features ...\n",
      "  pct_counts_top_50_features_ERCC is_cell_control\n",
      "reducedDimNames(0):\n",
      "spikeNames(1): ERCC\n",
      "altExpNames(0):\n"
     ]
    },
    {
     "name": "stderr",
     "output_type": "stream",
     "text": [
      "Setting SC3 parameters...\n",
      "Warning message:\n",
      "“'isSpike' is deprecated.\n",
      "See help(\"Deprecated\")”Calculating distances between the cells...\n",
      "Performing transformations and calculating eigenvectors...\n",
      "Performing k-means clustering...\n"
     ]
    },
    {
     "name": "stdout",
     "output_type": "stream",
     "text": [
      "\n"
     ]
    },
    {
     "name": "stderr",
     "output_type": "stream",
     "text": [
      "Calculating consensus matrix...\n"
     ]
    },
    {
     "name": "stdout",
     "output_type": "stream",
     "text": [
      "class: SingleCellExperiment \n",
      "dim: 41428 124 \n",
      "metadata(0):\n",
      "assays(2): counts logcounts\n",
      "rownames(41428): ENSMUSG00000000001 ENSMUSG00000000003 ... ERCC-00170\n",
      "  ERCC-00171\n",
      "rowData names(19): is_feature_control is_feature_control_ERCC ...\n",
      "  feature_symbol feature_id\n",
      "colnames(124): X2cell_1_A X2cell_1_B ... ME_4cell_6_C ME_4cell_6_D\n",
      "colData names(31): cell_type1 total_features ...\n",
      "  pct_counts_top_50_features_ERCC is_cell_control\n",
      "reducedDimNames(0):\n",
      "spikeNames(1): ERCC\n",
      "altExpNames(0):\n"
     ]
    },
    {
     "name": "stderr",
     "output_type": "stream",
     "text": [
      "Setting SC3 parameters...\n",
      "Warning message:\n",
      "“'isSpike' is deprecated.\n",
      "See help(\"Deprecated\")”Calculating distances between the cells...\n",
      "Performing transformations and calculating eigenvectors...\n",
      "Performing k-means clustering...\n"
     ]
    },
    {
     "name": "stdout",
     "output_type": "stream",
     "text": [
      "\n"
     ]
    },
    {
     "name": "stderr",
     "output_type": "stream",
     "text": [
      "Calculating consensus matrix...\n"
     ]
    },
    {
     "name": "stdout",
     "output_type": "stream",
     "text": [
      "class: SingleCellExperiment \n",
      "dim: 41428 124 \n",
      "metadata(0):\n",
      "assays(2): counts logcounts\n",
      "rownames(41428): ENSMUSG00000000001 ENSMUSG00000000003 ... ERCC-00170\n",
      "  ERCC-00171\n",
      "rowData names(19): is_feature_control is_feature_control_ERCC ...\n",
      "  feature_symbol feature_id\n",
      "colnames(124): X2cell_1_A X2cell_1_B ... ME_4cell_6_C ME_4cell_6_D\n",
      "colData names(31): cell_type1 total_features ...\n",
      "  pct_counts_top_50_features_ERCC is_cell_control\n",
      "reducedDimNames(0):\n",
      "spikeNames(1): ERCC\n",
      "altExpNames(0):\n"
     ]
    },
    {
     "name": "stderr",
     "output_type": "stream",
     "text": [
      "Setting SC3 parameters...\n",
      "Warning message:\n",
      "“'isSpike' is deprecated.\n",
      "See help(\"Deprecated\")”Calculating distances between the cells...\n",
      "Performing transformations and calculating eigenvectors...\n",
      "Performing k-means clustering...\n"
     ]
    },
    {
     "name": "stdout",
     "output_type": "stream",
     "text": [
      "\n"
     ]
    },
    {
     "name": "stderr",
     "output_type": "stream",
     "text": [
      "Calculating consensus matrix...\n"
     ]
    },
    {
     "name": "stdout",
     "output_type": "stream",
     "text": [
      "class: SingleCellExperiment \n",
      "dim: 41428 124 \n",
      "metadata(0):\n",
      "assays(2): counts logcounts\n",
      "rownames(41428): ENSMUSG00000000001 ENSMUSG00000000003 ... ERCC-00170\n",
      "  ERCC-00171\n",
      "rowData names(19): is_feature_control is_feature_control_ERCC ...\n",
      "  feature_symbol feature_id\n",
      "colnames(124): X2cell_1_A X2cell_1_B ... ME_4cell_6_C ME_4cell_6_D\n",
      "colData names(31): cell_type1 total_features ...\n",
      "  pct_counts_top_50_features_ERCC is_cell_control\n",
      "reducedDimNames(0):\n",
      "spikeNames(1): ERCC\n",
      "altExpNames(0):\n"
     ]
    },
    {
     "name": "stderr",
     "output_type": "stream",
     "text": [
      "Setting SC3 parameters...\n",
      "Warning message:\n",
      "“'isSpike' is deprecated.\n",
      "See help(\"Deprecated\")”Calculating distances between the cells...\n",
      "Performing transformations and calculating eigenvectors...\n",
      "Performing k-means clustering...\n"
     ]
    },
    {
     "name": "stdout",
     "output_type": "stream",
     "text": [
      "\n"
     ]
    },
    {
     "name": "stderr",
     "output_type": "stream",
     "text": [
      "Calculating consensus matrix...\n"
     ]
    },
    {
     "name": "stdout",
     "output_type": "stream",
     "text": [
      "class: SingleCellExperiment \n",
      "dim: 41428 124 \n",
      "metadata(0):\n",
      "assays(2): counts logcounts\n",
      "rownames(41428): ENSMUSG00000000001 ENSMUSG00000000003 ... ERCC-00170\n",
      "  ERCC-00171\n",
      "rowData names(19): is_feature_control is_feature_control_ERCC ...\n",
      "  feature_symbol feature_id\n",
      "colnames(124): X2cell_1_A X2cell_1_B ... ME_4cell_6_C ME_4cell_6_D\n",
      "colData names(31): cell_type1 total_features ...\n",
      "  pct_counts_top_50_features_ERCC is_cell_control\n",
      "reducedDimNames(0):\n",
      "spikeNames(1): ERCC\n",
      "altExpNames(0):\n"
     ]
    },
    {
     "name": "stderr",
     "output_type": "stream",
     "text": [
      "Setting SC3 parameters...\n",
      "Warning message:\n",
      "“'isSpike' is deprecated.\n",
      "See help(\"Deprecated\")”Calculating distances between the cells...\n",
      "Performing transformations and calculating eigenvectors...\n",
      "Performing k-means clustering...\n"
     ]
    },
    {
     "name": "stdout",
     "output_type": "stream",
     "text": [
      "\n"
     ]
    },
    {
     "name": "stderr",
     "output_type": "stream",
     "text": [
      "Calculating consensus matrix...\n"
     ]
    },
    {
     "name": "stdout",
     "output_type": "stream",
     "text": [
      "class: SingleCellExperiment \n",
      "dim: 41428 124 \n",
      "metadata(0):\n",
      "assays(2): counts logcounts\n",
      "rownames(41428): ENSMUSG00000000001 ENSMUSG00000000003 ... ERCC-00170\n",
      "  ERCC-00171\n",
      "rowData names(19): is_feature_control is_feature_control_ERCC ...\n",
      "  feature_symbol feature_id\n",
      "colnames(124): X2cell_1_A X2cell_1_B ... ME_4cell_6_C ME_4cell_6_D\n",
      "colData names(31): cell_type1 total_features ...\n",
      "  pct_counts_top_50_features_ERCC is_cell_control\n",
      "reducedDimNames(0):\n",
      "spikeNames(1): ERCC\n",
      "altExpNames(0):\n"
     ]
    },
    {
     "name": "stderr",
     "output_type": "stream",
     "text": [
      "Setting SC3 parameters...\n",
      "Warning message:\n",
      "“'isSpike' is deprecated.\n",
      "See help(\"Deprecated\")”Calculating distances between the cells...\n",
      "Performing transformations and calculating eigenvectors...\n",
      "Performing k-means clustering...\n"
     ]
    },
    {
     "name": "stdout",
     "output_type": "stream",
     "text": [
      "\n"
     ]
    },
    {
     "name": "stderr",
     "output_type": "stream",
     "text": [
      "Calculating consensus matrix...\n"
     ]
    }
   ],
   "source": [
    "for(tot in 1:100)\n",
    "{\n",
    "    library('tidyverse')\n",
    "    a<-read_rds('goolam.rds')\n",
    "    print(a)\n",
    "    tryCatch({\n",
    "            counts(a) <-assay(a, \"normcounts\")\n",
    "    }, warning = function(w) {\n",
    "    }, error = function(e) {\n",
    "    }, finally = {\n",
    "    })\n",
    "    library(SingleCellExperiment)\n",
    "    library(SC3)\n",
    "    sce <- SingleCellExperiment(assays = list(counts = counts(a),logcounts= log2(counts(a)+1)))\n",
    "    rowData(sce)$feature_symbol=1:41428\n",
    "    t <- sc3_prepare(sce)\n",
    "    t<-sc3_calc_dists(t)\n",
    "    t<-sc3_calc_transfs(t)\n",
    "    t <- sc3_kmeans(t,ks=5:5)\n",
    "    t <- sc3_calc_consens(t)\n",
    "    scc<-colData(t)$sc3_5_clusters\n",
    "    cat(scc,file=\"SC3_Goolam.txt\",append=TRUE)\n",
    "    cat(\"\\n\",file=\"SC3_Goolam.txt\",append=TRUE)\n",
    "}"
   ]
  },
  {
   "cell_type": "code",
   "execution_count": null,
   "metadata": {},
   "outputs": [],
   "source": []
  }
 ],
 "metadata": {
  "kernelspec": {
   "display_name": "R",
   "language": "R",
   "name": "ir"
  },
  "language_info": {
   "codemirror_mode": "r",
   "file_extension": ".r",
   "mimetype": "text/x-r-source",
   "name": "R",
   "pygments_lexer": "r",
   "version": "3.6.1"
  }
 },
 "nbformat": 4,
 "nbformat_minor": 4
}
