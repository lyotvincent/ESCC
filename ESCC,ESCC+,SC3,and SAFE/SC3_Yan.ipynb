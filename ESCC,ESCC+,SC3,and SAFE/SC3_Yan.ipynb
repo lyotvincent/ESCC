{
 "cells": [
  {
   "cell_type": "code",
   "execution_count": 2,
   "metadata": {},
   "outputs": [
    {
     "ename": "ERROR",
     "evalue": "Error in library(\"SAFEclustering\"): there is no package called ‘SAFEclustering’\n",
     "output_type": "error",
     "traceback": [
      "Error in library(\"SAFEclustering\"): there is no package called ‘SAFEclustering’\nTraceback:\n",
      "1. library(\"SAFEclustering\")"
     ]
    }
   ],
   "source": [
    "for(tot in 1:100)\n",
    "{\n",
    "    library('tidyverse')\n",
    "    a<-read_rds('yan.rds')\n",
    "    print(a)\n",
    "    tryCatch({\n",
    "            counts(a) <-assay(a, \"normcounts\")\n",
    "    }, warning = function(w) {\n",
    "    }, error = function(e) {\n",
    "    }, finally = {\n",
    "    })\n",
    "    library(SC3)\n",
    "    t <- sc3_prepare(a)\n",
    "    t<-sc3_calc_dists(t)\n",
    "    t<-sc3_calc_transfs(t)\n",
    "    t <- sc3_kmeans(t,ks=7:7)\n",
    "    t <- sc3_calc_consens(t)\n",
    "    scc<-colData(t)$sc3_7_clusters\n",
    "    cat(scc,file=\"SC3_Yan.txt\",append=TRUE)\n",
    "    cat(\"\\n\",file=\"SC3_Yan.txt\",append=TRUE)\n",
    "}"
   ]
  },
  {
   "cell_type": "code",
   "execution_count": null,
   "metadata": {},
   "outputs": [],
   "source": []
  }
 ],
 "metadata": {
  "kernelspec": {
   "display_name": "R",
   "language": "R",
   "name": "ir"
  },
  "language_info": {
   "codemirror_mode": "r",
   "file_extension": ".r",
   "mimetype": "text/x-r-source",
   "name": "R",
   "pygments_lexer": "r",
   "version": "3.6.1"
  }
 },
 "nbformat": 4,
 "nbformat_minor": 4
}
