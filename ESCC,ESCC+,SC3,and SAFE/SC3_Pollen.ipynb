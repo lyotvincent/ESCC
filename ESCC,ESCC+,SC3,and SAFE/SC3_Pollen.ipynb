{
 "cells": [
  {
   "cell_type": "code",
   "execution_count": 1,
   "metadata": {},
   "outputs": [
    {
     "name": "stderr",
     "output_type": "stream",
     "text": [
      "Registered S3 methods overwritten by 'ggplot2':\n",
      "  method         from \n",
      "  [.quosures     rlang\n",
      "  c.quosures     rlang\n",
      "  print.quosures rlang\n",
      "Registered S3 method overwritten by 'rvest':\n",
      "  method            from\n",
      "  read_xml.response xml2\n",
      "── Attaching packages ─────────────────────────────────────── tidyverse 1.2.1 ──\n",
      "✔ ggplot2 3.1.1       ✔ purrr   0.3.4  \n",
      "✔ tibble  2.1.1       ✔ dplyr   0.8.0.1\n",
      "✔ tidyr   0.8.3       ✔ stringr 1.4.0  \n",
      "✔ readr   1.3.1       ✔ forcats 0.4.0  \n",
      "── Conflicts ────────────────────────────────────────── tidyverse_conflicts() ──\n",
      "✖ dplyr::filter() masks stats::filter()\n",
      "✖ dplyr::lag()    masks stats::lag()\n",
      "Loading required package: SingleCellExperiment\n",
      "Loading required package: SummarizedExperiment\n",
      "Loading required package: GenomicRanges\n",
      "Loading required package: stats4\n",
      "Loading required package: BiocGenerics\n",
      "Loading required package: parallel\n",
      "\n",
      "Attaching package: ‘BiocGenerics’\n",
      "\n",
      "The following objects are masked from ‘package:parallel’:\n",
      "\n",
      "    clusterApply, clusterApplyLB, clusterCall, clusterEvalQ,\n",
      "    clusterExport, clusterMap, parApply, parCapply, parLapply,\n",
      "    parLapplyLB, parRapply, parSapply, parSapplyLB\n",
      "\n",
      "The following objects are masked from ‘package:dplyr’:\n",
      "\n",
      "    combine, intersect, setdiff, union\n",
      "\n",
      "The following objects are masked from ‘package:stats’:\n",
      "\n",
      "    IQR, mad, sd, var, xtabs\n",
      "\n",
      "The following objects are masked from ‘package:base’:\n",
      "\n",
      "    anyDuplicated, append, as.data.frame, basename, cbind, colnames,\n",
      "    dirname, do.call, duplicated, eval, evalq, Filter, Find, get, grep,\n",
      "    grepl, intersect, is.unsorted, lapply, Map, mapply, match, mget,\n",
      "    order, paste, pmax, pmax.int, pmin, pmin.int, Position, rank,\n",
      "    rbind, Reduce, rownames, sapply, setdiff, sort, table, tapply,\n",
      "    union, unique, unsplit, which, which.max, which.min\n",
      "\n",
      "Loading required package: S4Vectors\n",
      "\n",
      "Attaching package: ‘S4Vectors’\n",
      "\n",
      "The following objects are masked from ‘package:dplyr’:\n",
      "\n",
      "    first, rename\n",
      "\n",
      "The following object is masked from ‘package:tidyr’:\n",
      "\n",
      "    expand\n",
      "\n",
      "The following object is masked from ‘package:base’:\n",
      "\n",
      "    expand.grid\n",
      "\n",
      "Loading required package: IRanges\n",
      "\n",
      "Attaching package: ‘IRanges’\n",
      "\n",
      "The following objects are masked from ‘package:dplyr’:\n",
      "\n",
      "    collapse, desc, slice\n",
      "\n",
      "The following object is masked from ‘package:purrr’:\n",
      "\n",
      "    reduce\n",
      "\n",
      "Loading required package: GenomeInfoDb\n",
      "Loading required package: Biobase\n",
      "Welcome to Bioconductor\n",
      "\n",
      "    Vignettes contain introductory material; view with\n",
      "    'browseVignettes()'. To cite Bioconductor, see\n",
      "    'citation(\"Biobase\")', and for packages 'citation(\"pkgname\")'.\n",
      "\n",
      "Loading required package: DelayedArray\n",
      "Loading required package: matrixStats\n",
      "\n",
      "Attaching package: ‘matrixStats’\n",
      "\n",
      "The following objects are masked from ‘package:Biobase’:\n",
      "\n",
      "    anyMissing, rowMedians\n",
      "\n",
      "The following object is masked from ‘package:dplyr’:\n",
      "\n",
      "    count\n",
      "\n",
      "Loading required package: BiocParallel\n",
      "\n",
      "Attaching package: ‘DelayedArray’\n",
      "\n",
      "The following objects are masked from ‘package:matrixStats’:\n",
      "\n",
      "    colMaxs, colMins, colRanges, rowMaxs, rowMins, rowRanges\n",
      "\n",
      "The following object is masked from ‘package:purrr’:\n",
      "\n",
      "    simplify\n",
      "\n",
      "The following objects are masked from ‘package:base’:\n",
      "\n",
      "    aperm, apply, rowsum\n",
      "\n"
     ]
    },
    {
     "name": "stdout",
     "output_type": "stream",
     "text": [
      "class: SingleCellExperiment \n",
      "dim: 23730 301 \n",
      "metadata(0):\n",
      "assays(2): normcounts logcounts\n",
      "rownames(23730): A1BG A1BG-AS1 ... ZZEF1 ZZZ3\n",
      "rowData names(1): feature_symbol\n",
      "colnames(301): Hi_2338_1 Hi_2338_2 ... Hi_GW16_25 Hi_GW16_26\n",
      "colData names(2): cell_type1 cell_type2\n",
      "reducedDimNames(0):\n",
      "spikeNames(1): ERCC\n",
      "altExpNames(0):\n"
     ]
    },
    {
     "name": "stderr",
     "output_type": "stream",
     "text": [
      "Setting SC3 parameters...\n",
      "Warning message:\n",
      "“'isSpike' is deprecated.\n",
      "See help(\"Deprecated\")”Warning message:\n",
      "“'isSpike' is deprecated.\n",
      "See help(\"Deprecated\")”Calculating distances between the cells...\n",
      "Performing transformations and calculating eigenvectors...\n",
      "Performing k-means clustering...\n"
     ]
    },
    {
     "name": "stdout",
     "output_type": "stream",
     "text": [
      "\n"
     ]
    },
    {
     "name": "stderr",
     "output_type": "stream",
     "text": [
      "Calculating consensus matrix...\n"
     ]
    },
    {
     "name": "stdout",
     "output_type": "stream",
     "text": [
      "class: SingleCellExperiment \n",
      "dim: 23730 301 \n",
      "metadata(0):\n",
      "assays(2): normcounts logcounts\n",
      "rownames(23730): A1BG A1BG-AS1 ... ZZEF1 ZZZ3\n",
      "rowData names(1): feature_symbol\n",
      "colnames(301): Hi_2338_1 Hi_2338_2 ... Hi_GW16_25 Hi_GW16_26\n",
      "colData names(2): cell_type1 cell_type2\n",
      "reducedDimNames(0):\n",
      "spikeNames(1): ERCC\n",
      "altExpNames(0):\n"
     ]
    },
    {
     "name": "stderr",
     "output_type": "stream",
     "text": [
      "Setting SC3 parameters...\n",
      "Warning message:\n",
      "“'isSpike' is deprecated.\n",
      "See help(\"Deprecated\")”Warning message:\n",
      "“'isSpike' is deprecated.\n",
      "See help(\"Deprecated\")”Calculating distances between the cells...\n",
      "Performing transformations and calculating eigenvectors...\n",
      "Performing k-means clustering...\n"
     ]
    },
    {
     "name": "stdout",
     "output_type": "stream",
     "text": [
      "\n"
     ]
    },
    {
     "name": "stderr",
     "output_type": "stream",
     "text": [
      "Calculating consensus matrix...\n"
     ]
    },
    {
     "name": "stdout",
     "output_type": "stream",
     "text": [
      "class: SingleCellExperiment \n",
      "dim: 23730 301 \n",
      "metadata(0):\n",
      "assays(2): normcounts logcounts\n",
      "rownames(23730): A1BG A1BG-AS1 ... ZZEF1 ZZZ3\n",
      "rowData names(1): feature_symbol\n",
      "colnames(301): Hi_2338_1 Hi_2338_2 ... Hi_GW16_25 Hi_GW16_26\n",
      "colData names(2): cell_type1 cell_type2\n",
      "reducedDimNames(0):\n",
      "spikeNames(1): ERCC\n",
      "altExpNames(0):\n"
     ]
    },
    {
     "name": "stderr",
     "output_type": "stream",
     "text": [
      "Setting SC3 parameters...\n",
      "Warning message:\n",
      "“'isSpike' is deprecated.\n",
      "See help(\"Deprecated\")”Warning message:\n",
      "“'isSpike' is deprecated.\n",
      "See help(\"Deprecated\")”Calculating distances between the cells...\n",
      "Performing transformations and calculating eigenvectors...\n",
      "Performing k-means clustering...\n"
     ]
    },
    {
     "name": "stdout",
     "output_type": "stream",
     "text": [
      "\n"
     ]
    },
    {
     "name": "stderr",
     "output_type": "stream",
     "text": [
      "Calculating consensus matrix...\n"
     ]
    },
    {
     "name": "stdout",
     "output_type": "stream",
     "text": [
      "class: SingleCellExperiment \n",
      "dim: 23730 301 \n",
      "metadata(0):\n",
      "assays(2): normcounts logcounts\n",
      "rownames(23730): A1BG A1BG-AS1 ... ZZEF1 ZZZ3\n",
      "rowData names(1): feature_symbol\n",
      "colnames(301): Hi_2338_1 Hi_2338_2 ... Hi_GW16_25 Hi_GW16_26\n",
      "colData names(2): cell_type1 cell_type2\n",
      "reducedDimNames(0):\n",
      "spikeNames(1): ERCC\n",
      "altExpNames(0):\n"
     ]
    },
    {
     "name": "stderr",
     "output_type": "stream",
     "text": [
      "Setting SC3 parameters...\n",
      "Warning message:\n",
      "“'isSpike' is deprecated.\n",
      "See help(\"Deprecated\")”Warning message:\n",
      "“'isSpike' is deprecated.\n",
      "See help(\"Deprecated\")”Calculating distances between the cells...\n",
      "Performing transformations and calculating eigenvectors...\n",
      "Performing k-means clustering...\n"
     ]
    },
    {
     "name": "stdout",
     "output_type": "stream",
     "text": [
      "\n"
     ]
    },
    {
     "name": "stderr",
     "output_type": "stream",
     "text": [
      "Calculating consensus matrix...\n"
     ]
    },
    {
     "name": "stdout",
     "output_type": "stream",
     "text": [
      "class: SingleCellExperiment \n",
      "dim: 23730 301 \n",
      "metadata(0):\n",
      "assays(2): normcounts logcounts\n",
      "rownames(23730): A1BG A1BG-AS1 ... ZZEF1 ZZZ3\n",
      "rowData names(1): feature_symbol\n",
      "colnames(301): Hi_2338_1 Hi_2338_2 ... Hi_GW16_25 Hi_GW16_26\n",
      "colData names(2): cell_type1 cell_type2\n",
      "reducedDimNames(0):\n",
      "spikeNames(1): ERCC\n",
      "altExpNames(0):\n"
     ]
    },
    {
     "name": "stderr",
     "output_type": "stream",
     "text": [
      "Setting SC3 parameters...\n",
      "Warning message:\n",
      "“'isSpike' is deprecated.\n",
      "See help(\"Deprecated\")”Warning message:\n",
      "“'isSpike' is deprecated.\n",
      "See help(\"Deprecated\")”Calculating distances between the cells...\n",
      "Performing transformations and calculating eigenvectors...\n",
      "Performing k-means clustering...\n"
     ]
    },
    {
     "name": "stdout",
     "output_type": "stream",
     "text": [
      "\n"
     ]
    },
    {
     "name": "stderr",
     "output_type": "stream",
     "text": [
      "Calculating consensus matrix...\n"
     ]
    },
    {
     "name": "stdout",
     "output_type": "stream",
     "text": [
      "class: SingleCellExperiment \n",
      "dim: 23730 301 \n",
      "metadata(0):\n",
      "assays(2): normcounts logcounts\n",
      "rownames(23730): A1BG A1BG-AS1 ... ZZEF1 ZZZ3\n",
      "rowData names(1): feature_symbol\n",
      "colnames(301): Hi_2338_1 Hi_2338_2 ... Hi_GW16_25 Hi_GW16_26\n",
      "colData names(2): cell_type1 cell_type2\n",
      "reducedDimNames(0):\n",
      "spikeNames(1): ERCC\n",
      "altExpNames(0):\n"
     ]
    },
    {
     "name": "stderr",
     "output_type": "stream",
     "text": [
      "Setting SC3 parameters...\n",
      "Warning message:\n",
      "“'isSpike' is deprecated.\n",
      "See help(\"Deprecated\")”Warning message:\n",
      "“'isSpike' is deprecated.\n",
      "See help(\"Deprecated\")”Calculating distances between the cells...\n",
      "Performing transformations and calculating eigenvectors...\n",
      "Performing k-means clustering...\n"
     ]
    },
    {
     "name": "stdout",
     "output_type": "stream",
     "text": [
      "\n"
     ]
    },
    {
     "name": "stderr",
     "output_type": "stream",
     "text": [
      "Calculating consensus matrix...\n"
     ]
    },
    {
     "name": "stdout",
     "output_type": "stream",
     "text": [
      "class: SingleCellExperiment \n",
      "dim: 23730 301 \n",
      "metadata(0):\n",
      "assays(2): normcounts logcounts\n",
      "rownames(23730): A1BG A1BG-AS1 ... ZZEF1 ZZZ3\n",
      "rowData names(1): feature_symbol\n",
      "colnames(301): Hi_2338_1 Hi_2338_2 ... Hi_GW16_25 Hi_GW16_26\n",
      "colData names(2): cell_type1 cell_type2\n",
      "reducedDimNames(0):\n",
      "spikeNames(1): ERCC\n",
      "altExpNames(0):\n"
     ]
    },
    {
     "name": "stderr",
     "output_type": "stream",
     "text": [
      "Setting SC3 parameters...\n",
      "Warning message:\n",
      "“'isSpike' is deprecated.\n",
      "See help(\"Deprecated\")”Warning message:\n",
      "“'isSpike' is deprecated.\n",
      "See help(\"Deprecated\")”Calculating distances between the cells...\n",
      "Performing transformations and calculating eigenvectors...\n",
      "Performing k-means clustering...\n"
     ]
    },
    {
     "name": "stdout",
     "output_type": "stream",
     "text": [
      "\n"
     ]
    },
    {
     "name": "stderr",
     "output_type": "stream",
     "text": [
      "Calculating consensus matrix...\n"
     ]
    },
    {
     "name": "stdout",
     "output_type": "stream",
     "text": [
      "class: SingleCellExperiment \n",
      "dim: 23730 301 \n",
      "metadata(0):\n",
      "assays(2): normcounts logcounts\n",
      "rownames(23730): A1BG A1BG-AS1 ... ZZEF1 ZZZ3\n",
      "rowData names(1): feature_symbol\n",
      "colnames(301): Hi_2338_1 Hi_2338_2 ... Hi_GW16_25 Hi_GW16_26\n",
      "colData names(2): cell_type1 cell_type2\n",
      "reducedDimNames(0):\n",
      "spikeNames(1): ERCC\n",
      "altExpNames(0):\n"
     ]
    },
    {
     "name": "stderr",
     "output_type": "stream",
     "text": [
      "Setting SC3 parameters...\n",
      "Warning message:\n",
      "“'isSpike' is deprecated.\n",
      "See help(\"Deprecated\")”Warning message:\n",
      "“'isSpike' is deprecated.\n",
      "See help(\"Deprecated\")”Calculating distances between the cells...\n",
      "Performing transformations and calculating eigenvectors...\n",
      "Performing k-means clustering...\n"
     ]
    },
    {
     "name": "stdout",
     "output_type": "stream",
     "text": [
      "\n"
     ]
    },
    {
     "name": "stderr",
     "output_type": "stream",
     "text": [
      "Calculating consensus matrix...\n"
     ]
    },
    {
     "name": "stdout",
     "output_type": "stream",
     "text": [
      "class: SingleCellExperiment \n",
      "dim: 23730 301 \n",
      "metadata(0):\n",
      "assays(2): normcounts logcounts\n",
      "rownames(23730): A1BG A1BG-AS1 ... ZZEF1 ZZZ3\n",
      "rowData names(1): feature_symbol\n",
      "colnames(301): Hi_2338_1 Hi_2338_2 ... Hi_GW16_25 Hi_GW16_26\n",
      "colData names(2): cell_type1 cell_type2\n",
      "reducedDimNames(0):\n",
      "spikeNames(1): ERCC\n",
      "altExpNames(0):\n"
     ]
    },
    {
     "name": "stderr",
     "output_type": "stream",
     "text": [
      "Setting SC3 parameters...\n",
      "Warning message:\n",
      "“'isSpike' is deprecated.\n",
      "See help(\"Deprecated\")”Warning message:\n",
      "“'isSpike' is deprecated.\n",
      "See help(\"Deprecated\")”Calculating distances between the cells...\n",
      "Performing transformations and calculating eigenvectors...\n",
      "Performing k-means clustering...\n"
     ]
    },
    {
     "name": "stdout",
     "output_type": "stream",
     "text": [
      "\n"
     ]
    },
    {
     "name": "stderr",
     "output_type": "stream",
     "text": [
      "Calculating consensus matrix...\n"
     ]
    },
    {
     "name": "stdout",
     "output_type": "stream",
     "text": [
      "class: SingleCellExperiment \n",
      "dim: 23730 301 \n",
      "metadata(0):\n",
      "assays(2): normcounts logcounts\n",
      "rownames(23730): A1BG A1BG-AS1 ... ZZEF1 ZZZ3\n",
      "rowData names(1): feature_symbol\n",
      "colnames(301): Hi_2338_1 Hi_2338_2 ... Hi_GW16_25 Hi_GW16_26\n",
      "colData names(2): cell_type1 cell_type2\n",
      "reducedDimNames(0):\n",
      "spikeNames(1): ERCC\n",
      "altExpNames(0):\n"
     ]
    },
    {
     "name": "stderr",
     "output_type": "stream",
     "text": [
      "Setting SC3 parameters...\n",
      "Warning message:\n",
      "“'isSpike' is deprecated.\n",
      "See help(\"Deprecated\")”Warning message:\n",
      "“'isSpike' is deprecated.\n",
      "See help(\"Deprecated\")”Calculating distances between the cells...\n",
      "Performing transformations and calculating eigenvectors...\n",
      "Performing k-means clustering...\n"
     ]
    },
    {
     "name": "stdout",
     "output_type": "stream",
     "text": [
      "\n"
     ]
    },
    {
     "name": "stderr",
     "output_type": "stream",
     "text": [
      "Calculating consensus matrix...\n"
     ]
    },
    {
     "name": "stdout",
     "output_type": "stream",
     "text": [
      "class: SingleCellExperiment \n",
      "dim: 23730 301 \n",
      "metadata(0):\n",
      "assays(2): normcounts logcounts\n",
      "rownames(23730): A1BG A1BG-AS1 ... ZZEF1 ZZZ3\n",
      "rowData names(1): feature_symbol\n",
      "colnames(301): Hi_2338_1 Hi_2338_2 ... Hi_GW16_25 Hi_GW16_26\n",
      "colData names(2): cell_type1 cell_type2\n",
      "reducedDimNames(0):\n",
      "spikeNames(1): ERCC\n",
      "altExpNames(0):\n"
     ]
    },
    {
     "name": "stderr",
     "output_type": "stream",
     "text": [
      "Setting SC3 parameters...\n",
      "Warning message:\n",
      "“'isSpike' is deprecated.\n",
      "See help(\"Deprecated\")”Warning message:\n",
      "“'isSpike' is deprecated.\n",
      "See help(\"Deprecated\")”Calculating distances between the cells...\n",
      "Performing transformations and calculating eigenvectors...\n",
      "Performing k-means clustering...\n"
     ]
    },
    {
     "name": "stdout",
     "output_type": "stream",
     "text": [
      "\n"
     ]
    },
    {
     "name": "stderr",
     "output_type": "stream",
     "text": [
      "Calculating consensus matrix...\n"
     ]
    },
    {
     "name": "stdout",
     "output_type": "stream",
     "text": [
      "class: SingleCellExperiment \n",
      "dim: 23730 301 \n",
      "metadata(0):\n",
      "assays(2): normcounts logcounts\n",
      "rownames(23730): A1BG A1BG-AS1 ... ZZEF1 ZZZ3\n",
      "rowData names(1): feature_symbol\n",
      "colnames(301): Hi_2338_1 Hi_2338_2 ... Hi_GW16_25 Hi_GW16_26\n",
      "colData names(2): cell_type1 cell_type2\n",
      "reducedDimNames(0):\n",
      "spikeNames(1): ERCC\n",
      "altExpNames(0):\n"
     ]
    },
    {
     "name": "stderr",
     "output_type": "stream",
     "text": [
      "Setting SC3 parameters...\n",
      "Warning message:\n",
      "“'isSpike' is deprecated.\n",
      "See help(\"Deprecated\")”Warning message:\n",
      "“'isSpike' is deprecated.\n",
      "See help(\"Deprecated\")”Calculating distances between the cells...\n",
      "Performing transformations and calculating eigenvectors...\n",
      "Performing k-means clustering...\n"
     ]
    },
    {
     "name": "stdout",
     "output_type": "stream",
     "text": [
      "\n"
     ]
    },
    {
     "name": "stderr",
     "output_type": "stream",
     "text": [
      "Calculating consensus matrix...\n"
     ]
    },
    {
     "name": "stdout",
     "output_type": "stream",
     "text": [
      "class: SingleCellExperiment \n",
      "dim: 23730 301 \n",
      "metadata(0):\n",
      "assays(2): normcounts logcounts\n",
      "rownames(23730): A1BG A1BG-AS1 ... ZZEF1 ZZZ3\n",
      "rowData names(1): feature_symbol\n",
      "colnames(301): Hi_2338_1 Hi_2338_2 ... Hi_GW16_25 Hi_GW16_26\n",
      "colData names(2): cell_type1 cell_type2\n",
      "reducedDimNames(0):\n",
      "spikeNames(1): ERCC\n",
      "altExpNames(0):\n"
     ]
    },
    {
     "name": "stderr",
     "output_type": "stream",
     "text": [
      "Setting SC3 parameters...\n",
      "Warning message:\n",
      "“'isSpike' is deprecated.\n",
      "See help(\"Deprecated\")”Warning message:\n",
      "“'isSpike' is deprecated.\n",
      "See help(\"Deprecated\")”Calculating distances between the cells...\n",
      "Performing transformations and calculating eigenvectors...\n",
      "Performing k-means clustering...\n"
     ]
    },
    {
     "name": "stdout",
     "output_type": "stream",
     "text": [
      "\n"
     ]
    },
    {
     "name": "stderr",
     "output_type": "stream",
     "text": [
      "Calculating consensus matrix...\n"
     ]
    },
    {
     "name": "stdout",
     "output_type": "stream",
     "text": [
      "class: SingleCellExperiment \n",
      "dim: 23730 301 \n",
      "metadata(0):\n",
      "assays(2): normcounts logcounts\n",
      "rownames(23730): A1BG A1BG-AS1 ... ZZEF1 ZZZ3\n",
      "rowData names(1): feature_symbol\n",
      "colnames(301): Hi_2338_1 Hi_2338_2 ... Hi_GW16_25 Hi_GW16_26\n",
      "colData names(2): cell_type1 cell_type2\n",
      "reducedDimNames(0):\n",
      "spikeNames(1): ERCC\n",
      "altExpNames(0):\n"
     ]
    },
    {
     "name": "stderr",
     "output_type": "stream",
     "text": [
      "Setting SC3 parameters...\n",
      "Warning message:\n",
      "“'isSpike' is deprecated.\n",
      "See help(\"Deprecated\")”Warning message:\n",
      "“'isSpike' is deprecated.\n",
      "See help(\"Deprecated\")”Calculating distances between the cells...\n",
      "Performing transformations and calculating eigenvectors...\n",
      "Performing k-means clustering...\n"
     ]
    },
    {
     "name": "stdout",
     "output_type": "stream",
     "text": [
      "\n"
     ]
    },
    {
     "name": "stderr",
     "output_type": "stream",
     "text": [
      "Calculating consensus matrix...\n"
     ]
    },
    {
     "name": "stdout",
     "output_type": "stream",
     "text": [
      "class: SingleCellExperiment \n",
      "dim: 23730 301 \n",
      "metadata(0):\n",
      "assays(2): normcounts logcounts\n",
      "rownames(23730): A1BG A1BG-AS1 ... ZZEF1 ZZZ3\n",
      "rowData names(1): feature_symbol\n",
      "colnames(301): Hi_2338_1 Hi_2338_2 ... Hi_GW16_25 Hi_GW16_26\n",
      "colData names(2): cell_type1 cell_type2\n",
      "reducedDimNames(0):\n",
      "spikeNames(1): ERCC\n",
      "altExpNames(0):\n"
     ]
    },
    {
     "name": "stderr",
     "output_type": "stream",
     "text": [
      "Setting SC3 parameters...\n",
      "Warning message:\n",
      "“'isSpike' is deprecated.\n",
      "See help(\"Deprecated\")”Warning message:\n",
      "“'isSpike' is deprecated.\n",
      "See help(\"Deprecated\")”Calculating distances between the cells...\n",
      "Performing transformations and calculating eigenvectors...\n",
      "Performing k-means clustering...\n"
     ]
    },
    {
     "name": "stdout",
     "output_type": "stream",
     "text": [
      "\n"
     ]
    },
    {
     "name": "stderr",
     "output_type": "stream",
     "text": [
      "Calculating consensus matrix...\n"
     ]
    },
    {
     "name": "stdout",
     "output_type": "stream",
     "text": [
      "class: SingleCellExperiment \n",
      "dim: 23730 301 \n",
      "metadata(0):\n",
      "assays(2): normcounts logcounts\n",
      "rownames(23730): A1BG A1BG-AS1 ... ZZEF1 ZZZ3\n",
      "rowData names(1): feature_symbol\n",
      "colnames(301): Hi_2338_1 Hi_2338_2 ... Hi_GW16_25 Hi_GW16_26\n",
      "colData names(2): cell_type1 cell_type2\n",
      "reducedDimNames(0):\n",
      "spikeNames(1): ERCC\n",
      "altExpNames(0):\n"
     ]
    },
    {
     "name": "stderr",
     "output_type": "stream",
     "text": [
      "Setting SC3 parameters...\n",
      "Warning message:\n",
      "“'isSpike' is deprecated.\n",
      "See help(\"Deprecated\")”Warning message:\n",
      "“'isSpike' is deprecated.\n",
      "See help(\"Deprecated\")”Calculating distances between the cells...\n",
      "Performing transformations and calculating eigenvectors...\n",
      "Performing k-means clustering...\n"
     ]
    },
    {
     "name": "stdout",
     "output_type": "stream",
     "text": [
      "\n"
     ]
    },
    {
     "name": "stderr",
     "output_type": "stream",
     "text": [
      "Calculating consensus matrix...\n"
     ]
    },
    {
     "name": "stdout",
     "output_type": "stream",
     "text": [
      "class: SingleCellExperiment \n",
      "dim: 23730 301 \n",
      "metadata(0):\n",
      "assays(2): normcounts logcounts\n",
      "rownames(23730): A1BG A1BG-AS1 ... ZZEF1 ZZZ3\n",
      "rowData names(1): feature_symbol\n",
      "colnames(301): Hi_2338_1 Hi_2338_2 ... Hi_GW16_25 Hi_GW16_26\n",
      "colData names(2): cell_type1 cell_type2\n",
      "reducedDimNames(0):\n",
      "spikeNames(1): ERCC\n",
      "altExpNames(0):\n"
     ]
    },
    {
     "name": "stderr",
     "output_type": "stream",
     "text": [
      "Setting SC3 parameters...\n",
      "Warning message:\n",
      "“'isSpike' is deprecated.\n",
      "See help(\"Deprecated\")”Warning message:\n",
      "“'isSpike' is deprecated.\n",
      "See help(\"Deprecated\")”Calculating distances between the cells...\n",
      "Performing transformations and calculating eigenvectors...\n",
      "Performing k-means clustering...\n"
     ]
    },
    {
     "name": "stdout",
     "output_type": "stream",
     "text": [
      "\n"
     ]
    },
    {
     "name": "stderr",
     "output_type": "stream",
     "text": [
      "Calculating consensus matrix...\n"
     ]
    },
    {
     "name": "stdout",
     "output_type": "stream",
     "text": [
      "class: SingleCellExperiment \n",
      "dim: 23730 301 \n",
      "metadata(0):\n",
      "assays(2): normcounts logcounts\n",
      "rownames(23730): A1BG A1BG-AS1 ... ZZEF1 ZZZ3\n",
      "rowData names(1): feature_symbol\n",
      "colnames(301): Hi_2338_1 Hi_2338_2 ... Hi_GW16_25 Hi_GW16_26\n",
      "colData names(2): cell_type1 cell_type2\n",
      "reducedDimNames(0):\n",
      "spikeNames(1): ERCC\n",
      "altExpNames(0):\n"
     ]
    },
    {
     "name": "stderr",
     "output_type": "stream",
     "text": [
      "Setting SC3 parameters...\n",
      "Warning message:\n",
      "“'isSpike' is deprecated.\n",
      "See help(\"Deprecated\")”Warning message:\n",
      "“'isSpike' is deprecated.\n",
      "See help(\"Deprecated\")”Calculating distances between the cells...\n",
      "Performing transformations and calculating eigenvectors...\n",
      "Performing k-means clustering...\n"
     ]
    },
    {
     "name": "stdout",
     "output_type": "stream",
     "text": [
      "\n"
     ]
    },
    {
     "name": "stderr",
     "output_type": "stream",
     "text": [
      "Calculating consensus matrix...\n"
     ]
    },
    {
     "name": "stdout",
     "output_type": "stream",
     "text": [
      "class: SingleCellExperiment \n",
      "dim: 23730 301 \n",
      "metadata(0):\n",
      "assays(2): normcounts logcounts\n",
      "rownames(23730): A1BG A1BG-AS1 ... ZZEF1 ZZZ3\n",
      "rowData names(1): feature_symbol\n",
      "colnames(301): Hi_2338_1 Hi_2338_2 ... Hi_GW16_25 Hi_GW16_26\n",
      "colData names(2): cell_type1 cell_type2\n",
      "reducedDimNames(0):\n",
      "spikeNames(1): ERCC\n",
      "altExpNames(0):\n"
     ]
    },
    {
     "name": "stderr",
     "output_type": "stream",
     "text": [
      "Setting SC3 parameters...\n",
      "Warning message:\n",
      "“'isSpike' is deprecated.\n",
      "See help(\"Deprecated\")”Warning message:\n",
      "“'isSpike' is deprecated.\n",
      "See help(\"Deprecated\")”Calculating distances between the cells...\n",
      "Performing transformations and calculating eigenvectors...\n",
      "Performing k-means clustering...\n"
     ]
    },
    {
     "name": "stdout",
     "output_type": "stream",
     "text": [
      "\n"
     ]
    },
    {
     "name": "stderr",
     "output_type": "stream",
     "text": [
      "Calculating consensus matrix...\n"
     ]
    },
    {
     "name": "stdout",
     "output_type": "stream",
     "text": [
      "class: SingleCellExperiment \n",
      "dim: 23730 301 \n",
      "metadata(0):\n",
      "assays(2): normcounts logcounts\n",
      "rownames(23730): A1BG A1BG-AS1 ... ZZEF1 ZZZ3\n",
      "rowData names(1): feature_symbol\n",
      "colnames(301): Hi_2338_1 Hi_2338_2 ... Hi_GW16_25 Hi_GW16_26\n",
      "colData names(2): cell_type1 cell_type2\n",
      "reducedDimNames(0):\n",
      "spikeNames(1): ERCC\n",
      "altExpNames(0):\n"
     ]
    },
    {
     "name": "stderr",
     "output_type": "stream",
     "text": [
      "Setting SC3 parameters...\n",
      "Warning message:\n",
      "“'isSpike' is deprecated.\n",
      "See help(\"Deprecated\")”Warning message:\n",
      "“'isSpike' is deprecated.\n",
      "See help(\"Deprecated\")”Calculating distances between the cells...\n",
      "Performing transformations and calculating eigenvectors...\n",
      "Performing k-means clustering...\n"
     ]
    },
    {
     "name": "stdout",
     "output_type": "stream",
     "text": [
      "\n"
     ]
    },
    {
     "name": "stderr",
     "output_type": "stream",
     "text": [
      "Calculating consensus matrix...\n"
     ]
    },
    {
     "name": "stdout",
     "output_type": "stream",
     "text": [
      "class: SingleCellExperiment \n",
      "dim: 23730 301 \n",
      "metadata(0):\n",
      "assays(2): normcounts logcounts\n",
      "rownames(23730): A1BG A1BG-AS1 ... ZZEF1 ZZZ3\n",
      "rowData names(1): feature_symbol\n",
      "colnames(301): Hi_2338_1 Hi_2338_2 ... Hi_GW16_25 Hi_GW16_26\n",
      "colData names(2): cell_type1 cell_type2\n",
      "reducedDimNames(0):\n",
      "spikeNames(1): ERCC\n",
      "altExpNames(0):\n"
     ]
    },
    {
     "name": "stderr",
     "output_type": "stream",
     "text": [
      "Setting SC3 parameters...\n",
      "Warning message:\n",
      "“'isSpike' is deprecated.\n",
      "See help(\"Deprecated\")”Warning message:\n",
      "“'isSpike' is deprecated.\n",
      "See help(\"Deprecated\")”Calculating distances between the cells...\n",
      "Performing transformations and calculating eigenvectors...\n",
      "Performing k-means clustering...\n"
     ]
    },
    {
     "name": "stdout",
     "output_type": "stream",
     "text": [
      "\n"
     ]
    },
    {
     "name": "stderr",
     "output_type": "stream",
     "text": [
      "Calculating consensus matrix...\n"
     ]
    },
    {
     "name": "stdout",
     "output_type": "stream",
     "text": [
      "class: SingleCellExperiment \n",
      "dim: 23730 301 \n",
      "metadata(0):\n",
      "assays(2): normcounts logcounts\n",
      "rownames(23730): A1BG A1BG-AS1 ... ZZEF1 ZZZ3\n",
      "rowData names(1): feature_symbol\n",
      "colnames(301): Hi_2338_1 Hi_2338_2 ... Hi_GW16_25 Hi_GW16_26\n",
      "colData names(2): cell_type1 cell_type2\n",
      "reducedDimNames(0):\n",
      "spikeNames(1): ERCC\n",
      "altExpNames(0):\n"
     ]
    },
    {
     "name": "stderr",
     "output_type": "stream",
     "text": [
      "Setting SC3 parameters...\n",
      "Warning message:\n",
      "“'isSpike' is deprecated.\n",
      "See help(\"Deprecated\")”Warning message:\n",
      "“'isSpike' is deprecated.\n",
      "See help(\"Deprecated\")”Calculating distances between the cells...\n",
      "Performing transformations and calculating eigenvectors...\n",
      "Performing k-means clustering...\n"
     ]
    },
    {
     "name": "stdout",
     "output_type": "stream",
     "text": [
      "\n"
     ]
    },
    {
     "name": "stderr",
     "output_type": "stream",
     "text": [
      "Calculating consensus matrix...\n"
     ]
    },
    {
     "name": "stdout",
     "output_type": "stream",
     "text": [
      "class: SingleCellExperiment \n",
      "dim: 23730 301 \n",
      "metadata(0):\n",
      "assays(2): normcounts logcounts\n",
      "rownames(23730): A1BG A1BG-AS1 ... ZZEF1 ZZZ3\n",
      "rowData names(1): feature_symbol\n",
      "colnames(301): Hi_2338_1 Hi_2338_2 ... Hi_GW16_25 Hi_GW16_26\n",
      "colData names(2): cell_type1 cell_type2\n",
      "reducedDimNames(0):\n",
      "spikeNames(1): ERCC\n",
      "altExpNames(0):\n"
     ]
    },
    {
     "name": "stderr",
     "output_type": "stream",
     "text": [
      "Setting SC3 parameters...\n",
      "Warning message:\n",
      "“'isSpike' is deprecated.\n",
      "See help(\"Deprecated\")”Warning message:\n",
      "“'isSpike' is deprecated.\n",
      "See help(\"Deprecated\")”Calculating distances between the cells...\n",
      "Performing transformations and calculating eigenvectors...\n",
      "Performing k-means clustering...\n"
     ]
    },
    {
     "name": "stdout",
     "output_type": "stream",
     "text": [
      "\n"
     ]
    },
    {
     "name": "stderr",
     "output_type": "stream",
     "text": [
      "Calculating consensus matrix...\n"
     ]
    },
    {
     "name": "stdout",
     "output_type": "stream",
     "text": [
      "class: SingleCellExperiment \n",
      "dim: 23730 301 \n",
      "metadata(0):\n",
      "assays(2): normcounts logcounts\n",
      "rownames(23730): A1BG A1BG-AS1 ... ZZEF1 ZZZ3\n",
      "rowData names(1): feature_symbol\n",
      "colnames(301): Hi_2338_1 Hi_2338_2 ... Hi_GW16_25 Hi_GW16_26\n",
      "colData names(2): cell_type1 cell_type2\n",
      "reducedDimNames(0):\n",
      "spikeNames(1): ERCC\n",
      "altExpNames(0):\n"
     ]
    },
    {
     "name": "stderr",
     "output_type": "stream",
     "text": [
      "Setting SC3 parameters...\n",
      "Warning message:\n",
      "“'isSpike' is deprecated.\n",
      "See help(\"Deprecated\")”Warning message:\n",
      "“'isSpike' is deprecated.\n",
      "See help(\"Deprecated\")”Calculating distances between the cells...\n",
      "Performing transformations and calculating eigenvectors...\n",
      "Performing k-means clustering...\n"
     ]
    },
    {
     "name": "stdout",
     "output_type": "stream",
     "text": [
      "\n"
     ]
    },
    {
     "name": "stderr",
     "output_type": "stream",
     "text": [
      "Calculating consensus matrix...\n"
     ]
    },
    {
     "name": "stdout",
     "output_type": "stream",
     "text": [
      "class: SingleCellExperiment \n",
      "dim: 23730 301 \n",
      "metadata(0):\n",
      "assays(2): normcounts logcounts\n",
      "rownames(23730): A1BG A1BG-AS1 ... ZZEF1 ZZZ3\n",
      "rowData names(1): feature_symbol\n",
      "colnames(301): Hi_2338_1 Hi_2338_2 ... Hi_GW16_25 Hi_GW16_26\n",
      "colData names(2): cell_type1 cell_type2\n",
      "reducedDimNames(0):\n",
      "spikeNames(1): ERCC\n",
      "altExpNames(0):\n"
     ]
    },
    {
     "name": "stderr",
     "output_type": "stream",
     "text": [
      "Setting SC3 parameters...\n",
      "Warning message:\n",
      "“'isSpike' is deprecated.\n",
      "See help(\"Deprecated\")”Warning message:\n",
      "“'isSpike' is deprecated.\n",
      "See help(\"Deprecated\")”Calculating distances between the cells...\n",
      "Performing transformations and calculating eigenvectors...\n",
      "Performing k-means clustering...\n"
     ]
    },
    {
     "name": "stdout",
     "output_type": "stream",
     "text": [
      "\n"
     ]
    },
    {
     "name": "stderr",
     "output_type": "stream",
     "text": [
      "Calculating consensus matrix...\n"
     ]
    },
    {
     "name": "stdout",
     "output_type": "stream",
     "text": [
      "class: SingleCellExperiment \n",
      "dim: 23730 301 \n",
      "metadata(0):\n",
      "assays(2): normcounts logcounts\n",
      "rownames(23730): A1BG A1BG-AS1 ... ZZEF1 ZZZ3\n",
      "rowData names(1): feature_symbol\n",
      "colnames(301): Hi_2338_1 Hi_2338_2 ... Hi_GW16_25 Hi_GW16_26\n",
      "colData names(2): cell_type1 cell_type2\n",
      "reducedDimNames(0):\n",
      "spikeNames(1): ERCC\n",
      "altExpNames(0):\n"
     ]
    },
    {
     "name": "stderr",
     "output_type": "stream",
     "text": [
      "Setting SC3 parameters...\n",
      "Warning message:\n",
      "“'isSpike' is deprecated.\n",
      "See help(\"Deprecated\")”Warning message:\n",
      "“'isSpike' is deprecated.\n",
      "See help(\"Deprecated\")”Calculating distances between the cells...\n",
      "Performing transformations and calculating eigenvectors...\n",
      "Performing k-means clustering...\n"
     ]
    },
    {
     "name": "stdout",
     "output_type": "stream",
     "text": [
      "\n"
     ]
    },
    {
     "name": "stderr",
     "output_type": "stream",
     "text": [
      "Calculating consensus matrix...\n"
     ]
    },
    {
     "name": "stdout",
     "output_type": "stream",
     "text": [
      "class: SingleCellExperiment \n",
      "dim: 23730 301 \n",
      "metadata(0):\n",
      "assays(2): normcounts logcounts\n",
      "rownames(23730): A1BG A1BG-AS1 ... ZZEF1 ZZZ3\n",
      "rowData names(1): feature_symbol\n",
      "colnames(301): Hi_2338_1 Hi_2338_2 ... Hi_GW16_25 Hi_GW16_26\n",
      "colData names(2): cell_type1 cell_type2\n",
      "reducedDimNames(0):\n",
      "spikeNames(1): ERCC\n",
      "altExpNames(0):\n"
     ]
    },
    {
     "name": "stderr",
     "output_type": "stream",
     "text": [
      "Setting SC3 parameters...\n",
      "Warning message:\n",
      "“'isSpike' is deprecated.\n",
      "See help(\"Deprecated\")”Warning message:\n",
      "“'isSpike' is deprecated.\n",
      "See help(\"Deprecated\")”Calculating distances between the cells...\n",
      "Performing transformations and calculating eigenvectors...\n",
      "Performing k-means clustering...\n"
     ]
    },
    {
     "name": "stdout",
     "output_type": "stream",
     "text": [
      "\n"
     ]
    },
    {
     "name": "stderr",
     "output_type": "stream",
     "text": [
      "Calculating consensus matrix...\n"
     ]
    },
    {
     "name": "stdout",
     "output_type": "stream",
     "text": [
      "class: SingleCellExperiment \n",
      "dim: 23730 301 \n",
      "metadata(0):\n",
      "assays(2): normcounts logcounts\n",
      "rownames(23730): A1BG A1BG-AS1 ... ZZEF1 ZZZ3\n",
      "rowData names(1): feature_symbol\n",
      "colnames(301): Hi_2338_1 Hi_2338_2 ... Hi_GW16_25 Hi_GW16_26\n",
      "colData names(2): cell_type1 cell_type2\n",
      "reducedDimNames(0):\n",
      "spikeNames(1): ERCC\n",
      "altExpNames(0):\n"
     ]
    },
    {
     "name": "stderr",
     "output_type": "stream",
     "text": [
      "Setting SC3 parameters...\n",
      "Warning message:\n",
      "“'isSpike' is deprecated.\n",
      "See help(\"Deprecated\")”Warning message:\n",
      "“'isSpike' is deprecated.\n",
      "See help(\"Deprecated\")”Calculating distances between the cells...\n",
      "Performing transformations and calculating eigenvectors...\n",
      "Performing k-means clustering...\n"
     ]
    },
    {
     "name": "stdout",
     "output_type": "stream",
     "text": [
      "\n"
     ]
    },
    {
     "name": "stderr",
     "output_type": "stream",
     "text": [
      "Calculating consensus matrix...\n"
     ]
    },
    {
     "name": "stdout",
     "output_type": "stream",
     "text": [
      "class: SingleCellExperiment \n",
      "dim: 23730 301 \n",
      "metadata(0):\n",
      "assays(2): normcounts logcounts\n",
      "rownames(23730): A1BG A1BG-AS1 ... ZZEF1 ZZZ3\n",
      "rowData names(1): feature_symbol\n",
      "colnames(301): Hi_2338_1 Hi_2338_2 ... Hi_GW16_25 Hi_GW16_26\n",
      "colData names(2): cell_type1 cell_type2\n",
      "reducedDimNames(0):\n",
      "spikeNames(1): ERCC\n",
      "altExpNames(0):\n"
     ]
    },
    {
     "name": "stderr",
     "output_type": "stream",
     "text": [
      "Setting SC3 parameters...\n",
      "Warning message:\n",
      "“'isSpike' is deprecated.\n",
      "See help(\"Deprecated\")”Warning message:\n",
      "“'isSpike' is deprecated.\n",
      "See help(\"Deprecated\")”Calculating distances between the cells...\n",
      "Performing transformations and calculating eigenvectors...\n",
      "Performing k-means clustering...\n"
     ]
    },
    {
     "name": "stdout",
     "output_type": "stream",
     "text": [
      "\n"
     ]
    },
    {
     "name": "stderr",
     "output_type": "stream",
     "text": [
      "Calculating consensus matrix...\n"
     ]
    },
    {
     "name": "stdout",
     "output_type": "stream",
     "text": [
      "class: SingleCellExperiment \n",
      "dim: 23730 301 \n",
      "metadata(0):\n",
      "assays(2): normcounts logcounts\n",
      "rownames(23730): A1BG A1BG-AS1 ... ZZEF1 ZZZ3\n",
      "rowData names(1): feature_symbol\n",
      "colnames(301): Hi_2338_1 Hi_2338_2 ... Hi_GW16_25 Hi_GW16_26\n",
      "colData names(2): cell_type1 cell_type2\n",
      "reducedDimNames(0):\n",
      "spikeNames(1): ERCC\n",
      "altExpNames(0):\n"
     ]
    },
    {
     "name": "stderr",
     "output_type": "stream",
     "text": [
      "Setting SC3 parameters...\n",
      "Warning message:\n",
      "“'isSpike' is deprecated.\n",
      "See help(\"Deprecated\")”Warning message:\n",
      "“'isSpike' is deprecated.\n",
      "See help(\"Deprecated\")”Calculating distances between the cells...\n",
      "Performing transformations and calculating eigenvectors...\n",
      "Performing k-means clustering...\n"
     ]
    },
    {
     "name": "stdout",
     "output_type": "stream",
     "text": [
      "\n"
     ]
    },
    {
     "name": "stderr",
     "output_type": "stream",
     "text": [
      "Calculating consensus matrix...\n"
     ]
    },
    {
     "name": "stdout",
     "output_type": "stream",
     "text": [
      "class: SingleCellExperiment \n",
      "dim: 23730 301 \n",
      "metadata(0):\n",
      "assays(2): normcounts logcounts\n",
      "rownames(23730): A1BG A1BG-AS1 ... ZZEF1 ZZZ3\n",
      "rowData names(1): feature_symbol\n",
      "colnames(301): Hi_2338_1 Hi_2338_2 ... Hi_GW16_25 Hi_GW16_26\n",
      "colData names(2): cell_type1 cell_type2\n",
      "reducedDimNames(0):\n",
      "spikeNames(1): ERCC\n",
      "altExpNames(0):\n"
     ]
    },
    {
     "name": "stderr",
     "output_type": "stream",
     "text": [
      "Setting SC3 parameters...\n",
      "Warning message:\n",
      "“'isSpike' is deprecated.\n",
      "See help(\"Deprecated\")”Warning message:\n",
      "“'isSpike' is deprecated.\n",
      "See help(\"Deprecated\")”Calculating distances between the cells...\n",
      "Performing transformations and calculating eigenvectors...\n",
      "Performing k-means clustering...\n"
     ]
    },
    {
     "name": "stdout",
     "output_type": "stream",
     "text": [
      "\n"
     ]
    },
    {
     "name": "stderr",
     "output_type": "stream",
     "text": [
      "Calculating consensus matrix...\n"
     ]
    },
    {
     "name": "stdout",
     "output_type": "stream",
     "text": [
      "class: SingleCellExperiment \n",
      "dim: 23730 301 \n",
      "metadata(0):\n",
      "assays(2): normcounts logcounts\n",
      "rownames(23730): A1BG A1BG-AS1 ... ZZEF1 ZZZ3\n",
      "rowData names(1): feature_symbol\n",
      "colnames(301): Hi_2338_1 Hi_2338_2 ... Hi_GW16_25 Hi_GW16_26\n",
      "colData names(2): cell_type1 cell_type2\n",
      "reducedDimNames(0):\n",
      "spikeNames(1): ERCC\n",
      "altExpNames(0):\n"
     ]
    },
    {
     "name": "stderr",
     "output_type": "stream",
     "text": [
      "Setting SC3 parameters...\n",
      "Warning message:\n",
      "“'isSpike' is deprecated.\n",
      "See help(\"Deprecated\")”Warning message:\n",
      "“'isSpike' is deprecated.\n",
      "See help(\"Deprecated\")”Calculating distances between the cells...\n",
      "Performing transformations and calculating eigenvectors...\n",
      "Performing k-means clustering...\n"
     ]
    },
    {
     "name": "stdout",
     "output_type": "stream",
     "text": [
      "\n"
     ]
    },
    {
     "name": "stderr",
     "output_type": "stream",
     "text": [
      "Calculating consensus matrix...\n"
     ]
    },
    {
     "name": "stdout",
     "output_type": "stream",
     "text": [
      "class: SingleCellExperiment \n",
      "dim: 23730 301 \n",
      "metadata(0):\n",
      "assays(2): normcounts logcounts\n",
      "rownames(23730): A1BG A1BG-AS1 ... ZZEF1 ZZZ3\n",
      "rowData names(1): feature_symbol\n",
      "colnames(301): Hi_2338_1 Hi_2338_2 ... Hi_GW16_25 Hi_GW16_26\n",
      "colData names(2): cell_type1 cell_type2\n",
      "reducedDimNames(0):\n",
      "spikeNames(1): ERCC\n",
      "altExpNames(0):\n"
     ]
    },
    {
     "name": "stderr",
     "output_type": "stream",
     "text": [
      "Setting SC3 parameters...\n",
      "Warning message:\n",
      "“'isSpike' is deprecated.\n",
      "See help(\"Deprecated\")”Warning message:\n",
      "“'isSpike' is deprecated.\n",
      "See help(\"Deprecated\")”Calculating distances between the cells...\n",
      "Performing transformations and calculating eigenvectors...\n",
      "Performing k-means clustering...\n"
     ]
    },
    {
     "name": "stdout",
     "output_type": "stream",
     "text": [
      "\n"
     ]
    },
    {
     "name": "stderr",
     "output_type": "stream",
     "text": [
      "Calculating consensus matrix...\n"
     ]
    },
    {
     "name": "stdout",
     "output_type": "stream",
     "text": [
      "class: SingleCellExperiment \n",
      "dim: 23730 301 \n",
      "metadata(0):\n",
      "assays(2): normcounts logcounts\n",
      "rownames(23730): A1BG A1BG-AS1 ... ZZEF1 ZZZ3\n",
      "rowData names(1): feature_symbol\n",
      "colnames(301): Hi_2338_1 Hi_2338_2 ... Hi_GW16_25 Hi_GW16_26\n",
      "colData names(2): cell_type1 cell_type2\n",
      "reducedDimNames(0):\n",
      "spikeNames(1): ERCC\n",
      "altExpNames(0):\n"
     ]
    },
    {
     "name": "stderr",
     "output_type": "stream",
     "text": [
      "Setting SC3 parameters...\n",
      "Warning message:\n",
      "“'isSpike' is deprecated.\n",
      "See help(\"Deprecated\")”Warning message:\n",
      "“'isSpike' is deprecated.\n",
      "See help(\"Deprecated\")”Calculating distances between the cells...\n",
      "Performing transformations and calculating eigenvectors...\n",
      "Performing k-means clustering...\n"
     ]
    },
    {
     "name": "stdout",
     "output_type": "stream",
     "text": [
      "\n"
     ]
    },
    {
     "name": "stderr",
     "output_type": "stream",
     "text": [
      "Calculating consensus matrix...\n"
     ]
    },
    {
     "name": "stdout",
     "output_type": "stream",
     "text": [
      "class: SingleCellExperiment \n",
      "dim: 23730 301 \n",
      "metadata(0):\n",
      "assays(2): normcounts logcounts\n",
      "rownames(23730): A1BG A1BG-AS1 ... ZZEF1 ZZZ3\n",
      "rowData names(1): feature_symbol\n",
      "colnames(301): Hi_2338_1 Hi_2338_2 ... Hi_GW16_25 Hi_GW16_26\n",
      "colData names(2): cell_type1 cell_type2\n",
      "reducedDimNames(0):\n",
      "spikeNames(1): ERCC\n",
      "altExpNames(0):\n"
     ]
    },
    {
     "name": "stderr",
     "output_type": "stream",
     "text": [
      "Setting SC3 parameters...\n",
      "Warning message:\n",
      "“'isSpike' is deprecated.\n",
      "See help(\"Deprecated\")”Warning message:\n",
      "“'isSpike' is deprecated.\n",
      "See help(\"Deprecated\")”Calculating distances between the cells...\n",
      "Performing transformations and calculating eigenvectors...\n",
      "Performing k-means clustering...\n"
     ]
    },
    {
     "name": "stdout",
     "output_type": "stream",
     "text": [
      "\n"
     ]
    },
    {
     "name": "stderr",
     "output_type": "stream",
     "text": [
      "Calculating consensus matrix...\n"
     ]
    },
    {
     "name": "stdout",
     "output_type": "stream",
     "text": [
      "class: SingleCellExperiment \n",
      "dim: 23730 301 \n",
      "metadata(0):\n",
      "assays(2): normcounts logcounts\n",
      "rownames(23730): A1BG A1BG-AS1 ... ZZEF1 ZZZ3\n",
      "rowData names(1): feature_symbol\n",
      "colnames(301): Hi_2338_1 Hi_2338_2 ... Hi_GW16_25 Hi_GW16_26\n",
      "colData names(2): cell_type1 cell_type2\n",
      "reducedDimNames(0):\n",
      "spikeNames(1): ERCC\n",
      "altExpNames(0):\n"
     ]
    },
    {
     "name": "stderr",
     "output_type": "stream",
     "text": [
      "Setting SC3 parameters...\n",
      "Warning message:\n",
      "“'isSpike' is deprecated.\n",
      "See help(\"Deprecated\")”Warning message:\n",
      "“'isSpike' is deprecated.\n",
      "See help(\"Deprecated\")”Calculating distances between the cells...\n",
      "Performing transformations and calculating eigenvectors...\n",
      "Performing k-means clustering...\n"
     ]
    },
    {
     "name": "stdout",
     "output_type": "stream",
     "text": [
      "\n"
     ]
    },
    {
     "name": "stderr",
     "output_type": "stream",
     "text": [
      "Calculating consensus matrix...\n"
     ]
    },
    {
     "name": "stdout",
     "output_type": "stream",
     "text": [
      "class: SingleCellExperiment \n",
      "dim: 23730 301 \n",
      "metadata(0):\n",
      "assays(2): normcounts logcounts\n",
      "rownames(23730): A1BG A1BG-AS1 ... ZZEF1 ZZZ3\n",
      "rowData names(1): feature_symbol\n",
      "colnames(301): Hi_2338_1 Hi_2338_2 ... Hi_GW16_25 Hi_GW16_26\n",
      "colData names(2): cell_type1 cell_type2\n",
      "reducedDimNames(0):\n",
      "spikeNames(1): ERCC\n",
      "altExpNames(0):\n"
     ]
    },
    {
     "name": "stderr",
     "output_type": "stream",
     "text": [
      "Setting SC3 parameters...\n",
      "Warning message:\n",
      "“'isSpike' is deprecated.\n",
      "See help(\"Deprecated\")”Warning message:\n",
      "“'isSpike' is deprecated.\n",
      "See help(\"Deprecated\")”Calculating distances between the cells...\n",
      "Performing transformations and calculating eigenvectors...\n",
      "Performing k-means clustering...\n"
     ]
    },
    {
     "name": "stdout",
     "output_type": "stream",
     "text": [
      "\n"
     ]
    },
    {
     "name": "stderr",
     "output_type": "stream",
     "text": [
      "Calculating consensus matrix...\n"
     ]
    },
    {
     "name": "stdout",
     "output_type": "stream",
     "text": [
      "class: SingleCellExperiment \n",
      "dim: 23730 301 \n",
      "metadata(0):\n",
      "assays(2): normcounts logcounts\n",
      "rownames(23730): A1BG A1BG-AS1 ... ZZEF1 ZZZ3\n",
      "rowData names(1): feature_symbol\n",
      "colnames(301): Hi_2338_1 Hi_2338_2 ... Hi_GW16_25 Hi_GW16_26\n",
      "colData names(2): cell_type1 cell_type2\n",
      "reducedDimNames(0):\n",
      "spikeNames(1): ERCC\n",
      "altExpNames(0):\n"
     ]
    },
    {
     "name": "stderr",
     "output_type": "stream",
     "text": [
      "Setting SC3 parameters...\n",
      "Warning message:\n",
      "“'isSpike' is deprecated.\n",
      "See help(\"Deprecated\")”Warning message:\n",
      "“'isSpike' is deprecated.\n",
      "See help(\"Deprecated\")”Calculating distances between the cells...\n",
      "Performing transformations and calculating eigenvectors...\n",
      "Performing k-means clustering...\n"
     ]
    },
    {
     "name": "stdout",
     "output_type": "stream",
     "text": [
      "\n"
     ]
    },
    {
     "name": "stderr",
     "output_type": "stream",
     "text": [
      "Calculating consensus matrix...\n"
     ]
    },
    {
     "name": "stdout",
     "output_type": "stream",
     "text": [
      "class: SingleCellExperiment \n",
      "dim: 23730 301 \n",
      "metadata(0):\n",
      "assays(2): normcounts logcounts\n",
      "rownames(23730): A1BG A1BG-AS1 ... ZZEF1 ZZZ3\n",
      "rowData names(1): feature_symbol\n",
      "colnames(301): Hi_2338_1 Hi_2338_2 ... Hi_GW16_25 Hi_GW16_26\n",
      "colData names(2): cell_type1 cell_type2\n",
      "reducedDimNames(0):\n",
      "spikeNames(1): ERCC\n",
      "altExpNames(0):\n"
     ]
    },
    {
     "name": "stderr",
     "output_type": "stream",
     "text": [
      "Setting SC3 parameters...\n",
      "Warning message:\n",
      "“'isSpike' is deprecated.\n",
      "See help(\"Deprecated\")”Warning message:\n",
      "“'isSpike' is deprecated.\n",
      "See help(\"Deprecated\")”Calculating distances between the cells...\n",
      "Performing transformations and calculating eigenvectors...\n",
      "Performing k-means clustering...\n"
     ]
    },
    {
     "name": "stdout",
     "output_type": "stream",
     "text": [
      "\n"
     ]
    },
    {
     "name": "stderr",
     "output_type": "stream",
     "text": [
      "Calculating consensus matrix...\n"
     ]
    },
    {
     "name": "stdout",
     "output_type": "stream",
     "text": [
      "class: SingleCellExperiment \n",
      "dim: 23730 301 \n",
      "metadata(0):\n",
      "assays(2): normcounts logcounts\n",
      "rownames(23730): A1BG A1BG-AS1 ... ZZEF1 ZZZ3\n",
      "rowData names(1): feature_symbol\n",
      "colnames(301): Hi_2338_1 Hi_2338_2 ... Hi_GW16_25 Hi_GW16_26\n",
      "colData names(2): cell_type1 cell_type2\n",
      "reducedDimNames(0):\n",
      "spikeNames(1): ERCC\n",
      "altExpNames(0):\n"
     ]
    },
    {
     "name": "stderr",
     "output_type": "stream",
     "text": [
      "Setting SC3 parameters...\n",
      "Warning message:\n",
      "“'isSpike' is deprecated.\n",
      "See help(\"Deprecated\")”Warning message:\n",
      "“'isSpike' is deprecated.\n",
      "See help(\"Deprecated\")”Calculating distances between the cells...\n",
      "Performing transformations and calculating eigenvectors...\n",
      "Performing k-means clustering...\n"
     ]
    },
    {
     "name": "stdout",
     "output_type": "stream",
     "text": [
      "\n"
     ]
    },
    {
     "name": "stderr",
     "output_type": "stream",
     "text": [
      "Calculating consensus matrix...\n"
     ]
    },
    {
     "name": "stdout",
     "output_type": "stream",
     "text": [
      "class: SingleCellExperiment \n",
      "dim: 23730 301 \n",
      "metadata(0):\n",
      "assays(2): normcounts logcounts\n",
      "rownames(23730): A1BG A1BG-AS1 ... ZZEF1 ZZZ3\n",
      "rowData names(1): feature_symbol\n",
      "colnames(301): Hi_2338_1 Hi_2338_2 ... Hi_GW16_25 Hi_GW16_26\n",
      "colData names(2): cell_type1 cell_type2\n",
      "reducedDimNames(0):\n",
      "spikeNames(1): ERCC\n",
      "altExpNames(0):\n"
     ]
    },
    {
     "name": "stderr",
     "output_type": "stream",
     "text": [
      "Setting SC3 parameters...\n",
      "Warning message:\n",
      "“'isSpike' is deprecated.\n",
      "See help(\"Deprecated\")”Warning message:\n",
      "“'isSpike' is deprecated.\n",
      "See help(\"Deprecated\")”Calculating distances between the cells...\n",
      "Performing transformations and calculating eigenvectors...\n",
      "Performing k-means clustering...\n"
     ]
    },
    {
     "name": "stdout",
     "output_type": "stream",
     "text": [
      "\n"
     ]
    },
    {
     "name": "stderr",
     "output_type": "stream",
     "text": [
      "Calculating consensus matrix...\n"
     ]
    },
    {
     "name": "stdout",
     "output_type": "stream",
     "text": [
      "class: SingleCellExperiment \n",
      "dim: 23730 301 \n",
      "metadata(0):\n",
      "assays(2): normcounts logcounts\n",
      "rownames(23730): A1BG A1BG-AS1 ... ZZEF1 ZZZ3\n",
      "rowData names(1): feature_symbol\n",
      "colnames(301): Hi_2338_1 Hi_2338_2 ... Hi_GW16_25 Hi_GW16_26\n",
      "colData names(2): cell_type1 cell_type2\n",
      "reducedDimNames(0):\n",
      "spikeNames(1): ERCC\n",
      "altExpNames(0):\n"
     ]
    },
    {
     "name": "stderr",
     "output_type": "stream",
     "text": [
      "Setting SC3 parameters...\n",
      "Warning message:\n",
      "“'isSpike' is deprecated.\n",
      "See help(\"Deprecated\")”Warning message:\n",
      "“'isSpike' is deprecated.\n",
      "See help(\"Deprecated\")”Calculating distances between the cells...\n",
      "Performing transformations and calculating eigenvectors...\n",
      "Performing k-means clustering...\n"
     ]
    },
    {
     "name": "stdout",
     "output_type": "stream",
     "text": [
      "\n"
     ]
    },
    {
     "name": "stderr",
     "output_type": "stream",
     "text": [
      "Calculating consensus matrix...\n"
     ]
    },
    {
     "name": "stdout",
     "output_type": "stream",
     "text": [
      "class: SingleCellExperiment \n",
      "dim: 23730 301 \n",
      "metadata(0):\n",
      "assays(2): normcounts logcounts\n",
      "rownames(23730): A1BG A1BG-AS1 ... ZZEF1 ZZZ3\n",
      "rowData names(1): feature_symbol\n",
      "colnames(301): Hi_2338_1 Hi_2338_2 ... Hi_GW16_25 Hi_GW16_26\n",
      "colData names(2): cell_type1 cell_type2\n",
      "reducedDimNames(0):\n",
      "spikeNames(1): ERCC\n",
      "altExpNames(0):\n"
     ]
    },
    {
     "name": "stderr",
     "output_type": "stream",
     "text": [
      "Setting SC3 parameters...\n",
      "Warning message:\n",
      "“'isSpike' is deprecated.\n",
      "See help(\"Deprecated\")”Warning message:\n",
      "“'isSpike' is deprecated.\n",
      "See help(\"Deprecated\")”Calculating distances between the cells...\n",
      "Performing transformations and calculating eigenvectors...\n",
      "Performing k-means clustering...\n"
     ]
    },
    {
     "name": "stdout",
     "output_type": "stream",
     "text": [
      "\n"
     ]
    },
    {
     "name": "stderr",
     "output_type": "stream",
     "text": [
      "Calculating consensus matrix...\n"
     ]
    },
    {
     "name": "stdout",
     "output_type": "stream",
     "text": [
      "class: SingleCellExperiment \n",
      "dim: 23730 301 \n",
      "metadata(0):\n",
      "assays(2): normcounts logcounts\n",
      "rownames(23730): A1BG A1BG-AS1 ... ZZEF1 ZZZ3\n",
      "rowData names(1): feature_symbol\n",
      "colnames(301): Hi_2338_1 Hi_2338_2 ... Hi_GW16_25 Hi_GW16_26\n",
      "colData names(2): cell_type1 cell_type2\n",
      "reducedDimNames(0):\n",
      "spikeNames(1): ERCC\n",
      "altExpNames(0):\n"
     ]
    },
    {
     "name": "stderr",
     "output_type": "stream",
     "text": [
      "Setting SC3 parameters...\n",
      "Warning message:\n",
      "“'isSpike' is deprecated.\n",
      "See help(\"Deprecated\")”Warning message:\n",
      "“'isSpike' is deprecated.\n",
      "See help(\"Deprecated\")”Calculating distances between the cells...\n",
      "Performing transformations and calculating eigenvectors...\n",
      "Performing k-means clustering...\n"
     ]
    },
    {
     "name": "stdout",
     "output_type": "stream",
     "text": [
      "\n"
     ]
    },
    {
     "name": "stderr",
     "output_type": "stream",
     "text": [
      "Calculating consensus matrix...\n"
     ]
    },
    {
     "name": "stdout",
     "output_type": "stream",
     "text": [
      "class: SingleCellExperiment \n",
      "dim: 23730 301 \n",
      "metadata(0):\n",
      "assays(2): normcounts logcounts\n",
      "rownames(23730): A1BG A1BG-AS1 ... ZZEF1 ZZZ3\n",
      "rowData names(1): feature_symbol\n",
      "colnames(301): Hi_2338_1 Hi_2338_2 ... Hi_GW16_25 Hi_GW16_26\n",
      "colData names(2): cell_type1 cell_type2\n",
      "reducedDimNames(0):\n",
      "spikeNames(1): ERCC\n",
      "altExpNames(0):\n"
     ]
    },
    {
     "name": "stderr",
     "output_type": "stream",
     "text": [
      "Setting SC3 parameters...\n",
      "Warning message:\n",
      "“'isSpike' is deprecated.\n",
      "See help(\"Deprecated\")”Warning message:\n",
      "“'isSpike' is deprecated.\n",
      "See help(\"Deprecated\")”Calculating distances between the cells...\n",
      "Performing transformations and calculating eigenvectors...\n",
      "Performing k-means clustering...\n"
     ]
    },
    {
     "name": "stdout",
     "output_type": "stream",
     "text": [
      "\n"
     ]
    },
    {
     "name": "stderr",
     "output_type": "stream",
     "text": [
      "Calculating consensus matrix...\n"
     ]
    },
    {
     "name": "stdout",
     "output_type": "stream",
     "text": [
      "class: SingleCellExperiment \n",
      "dim: 23730 301 \n",
      "metadata(0):\n",
      "assays(2): normcounts logcounts\n",
      "rownames(23730): A1BG A1BG-AS1 ... ZZEF1 ZZZ3\n",
      "rowData names(1): feature_symbol\n",
      "colnames(301): Hi_2338_1 Hi_2338_2 ... Hi_GW16_25 Hi_GW16_26\n",
      "colData names(2): cell_type1 cell_type2\n",
      "reducedDimNames(0):\n",
      "spikeNames(1): ERCC\n",
      "altExpNames(0):\n"
     ]
    },
    {
     "name": "stderr",
     "output_type": "stream",
     "text": [
      "Setting SC3 parameters...\n",
      "Warning message:\n",
      "“'isSpike' is deprecated.\n",
      "See help(\"Deprecated\")”Warning message:\n",
      "“'isSpike' is deprecated.\n",
      "See help(\"Deprecated\")”Calculating distances between the cells...\n",
      "Performing transformations and calculating eigenvectors...\n",
      "Performing k-means clustering...\n"
     ]
    },
    {
     "name": "stdout",
     "output_type": "stream",
     "text": [
      "\n"
     ]
    },
    {
     "name": "stderr",
     "output_type": "stream",
     "text": [
      "Calculating consensus matrix...\n"
     ]
    },
    {
     "name": "stdout",
     "output_type": "stream",
     "text": [
      "class: SingleCellExperiment \n",
      "dim: 23730 301 \n",
      "metadata(0):\n",
      "assays(2): normcounts logcounts\n",
      "rownames(23730): A1BG A1BG-AS1 ... ZZEF1 ZZZ3\n",
      "rowData names(1): feature_symbol\n",
      "colnames(301): Hi_2338_1 Hi_2338_2 ... Hi_GW16_25 Hi_GW16_26\n",
      "colData names(2): cell_type1 cell_type2\n",
      "reducedDimNames(0):\n",
      "spikeNames(1): ERCC\n",
      "altExpNames(0):\n"
     ]
    },
    {
     "name": "stderr",
     "output_type": "stream",
     "text": [
      "Setting SC3 parameters...\n",
      "Warning message:\n",
      "“'isSpike' is deprecated.\n",
      "See help(\"Deprecated\")”Warning message:\n",
      "“'isSpike' is deprecated.\n",
      "See help(\"Deprecated\")”Calculating distances between the cells...\n",
      "Performing transformations and calculating eigenvectors...\n",
      "Performing k-means clustering...\n"
     ]
    },
    {
     "name": "stdout",
     "output_type": "stream",
     "text": [
      "\n"
     ]
    },
    {
     "name": "stderr",
     "output_type": "stream",
     "text": [
      "Calculating consensus matrix...\n"
     ]
    },
    {
     "name": "stdout",
     "output_type": "stream",
     "text": [
      "class: SingleCellExperiment \n",
      "dim: 23730 301 \n",
      "metadata(0):\n",
      "assays(2): normcounts logcounts\n",
      "rownames(23730): A1BG A1BG-AS1 ... ZZEF1 ZZZ3\n",
      "rowData names(1): feature_symbol\n",
      "colnames(301): Hi_2338_1 Hi_2338_2 ... Hi_GW16_25 Hi_GW16_26\n",
      "colData names(2): cell_type1 cell_type2\n",
      "reducedDimNames(0):\n",
      "spikeNames(1): ERCC\n",
      "altExpNames(0):\n"
     ]
    },
    {
     "name": "stderr",
     "output_type": "stream",
     "text": [
      "Setting SC3 parameters...\n",
      "Warning message:\n",
      "“'isSpike' is deprecated.\n",
      "See help(\"Deprecated\")”Warning message:\n",
      "“'isSpike' is deprecated.\n",
      "See help(\"Deprecated\")”Calculating distances between the cells...\n",
      "Performing transformations and calculating eigenvectors...\n",
      "Performing k-means clustering...\n"
     ]
    },
    {
     "name": "stdout",
     "output_type": "stream",
     "text": [
      "\n"
     ]
    },
    {
     "name": "stderr",
     "output_type": "stream",
     "text": [
      "Calculating consensus matrix...\n"
     ]
    },
    {
     "name": "stdout",
     "output_type": "stream",
     "text": [
      "class: SingleCellExperiment \n",
      "dim: 23730 301 \n",
      "metadata(0):\n",
      "assays(2): normcounts logcounts\n",
      "rownames(23730): A1BG A1BG-AS1 ... ZZEF1 ZZZ3\n",
      "rowData names(1): feature_symbol\n",
      "colnames(301): Hi_2338_1 Hi_2338_2 ... Hi_GW16_25 Hi_GW16_26\n",
      "colData names(2): cell_type1 cell_type2\n",
      "reducedDimNames(0):\n",
      "spikeNames(1): ERCC\n",
      "altExpNames(0):\n"
     ]
    },
    {
     "name": "stderr",
     "output_type": "stream",
     "text": [
      "Setting SC3 parameters...\n",
      "Warning message:\n",
      "“'isSpike' is deprecated.\n",
      "See help(\"Deprecated\")”Warning message:\n",
      "“'isSpike' is deprecated.\n",
      "See help(\"Deprecated\")”Calculating distances between the cells...\n",
      "Performing transformations and calculating eigenvectors...\n",
      "Performing k-means clustering...\n"
     ]
    },
    {
     "name": "stdout",
     "output_type": "stream",
     "text": [
      "\n"
     ]
    },
    {
     "name": "stderr",
     "output_type": "stream",
     "text": [
      "Calculating consensus matrix...\n"
     ]
    },
    {
     "name": "stdout",
     "output_type": "stream",
     "text": [
      "class: SingleCellExperiment \n",
      "dim: 23730 301 \n",
      "metadata(0):\n",
      "assays(2): normcounts logcounts\n",
      "rownames(23730): A1BG A1BG-AS1 ... ZZEF1 ZZZ3\n",
      "rowData names(1): feature_symbol\n",
      "colnames(301): Hi_2338_1 Hi_2338_2 ... Hi_GW16_25 Hi_GW16_26\n",
      "colData names(2): cell_type1 cell_type2\n",
      "reducedDimNames(0):\n",
      "spikeNames(1): ERCC\n",
      "altExpNames(0):\n"
     ]
    },
    {
     "name": "stderr",
     "output_type": "stream",
     "text": [
      "Setting SC3 parameters...\n",
      "Warning message:\n",
      "“'isSpike' is deprecated.\n",
      "See help(\"Deprecated\")”Warning message:\n",
      "“'isSpike' is deprecated.\n",
      "See help(\"Deprecated\")”Calculating distances between the cells...\n",
      "Performing transformations and calculating eigenvectors...\n",
      "Performing k-means clustering...\n"
     ]
    },
    {
     "name": "stdout",
     "output_type": "stream",
     "text": [
      "\n"
     ]
    },
    {
     "name": "stderr",
     "output_type": "stream",
     "text": [
      "Calculating consensus matrix...\n"
     ]
    },
    {
     "name": "stdout",
     "output_type": "stream",
     "text": [
      "class: SingleCellExperiment \n",
      "dim: 23730 301 \n",
      "metadata(0):\n",
      "assays(2): normcounts logcounts\n",
      "rownames(23730): A1BG A1BG-AS1 ... ZZEF1 ZZZ3\n",
      "rowData names(1): feature_symbol\n",
      "colnames(301): Hi_2338_1 Hi_2338_2 ... Hi_GW16_25 Hi_GW16_26\n",
      "colData names(2): cell_type1 cell_type2\n",
      "reducedDimNames(0):\n",
      "spikeNames(1): ERCC\n",
      "altExpNames(0):\n"
     ]
    },
    {
     "name": "stderr",
     "output_type": "stream",
     "text": [
      "Setting SC3 parameters...\n",
      "Warning message:\n",
      "“'isSpike' is deprecated.\n",
      "See help(\"Deprecated\")”Warning message:\n",
      "“'isSpike' is deprecated.\n",
      "See help(\"Deprecated\")”Calculating distances between the cells...\n",
      "Performing transformations and calculating eigenvectors...\n",
      "Performing k-means clustering...\n"
     ]
    },
    {
     "name": "stdout",
     "output_type": "stream",
     "text": [
      "\n"
     ]
    },
    {
     "name": "stderr",
     "output_type": "stream",
     "text": [
      "Calculating consensus matrix...\n"
     ]
    },
    {
     "name": "stdout",
     "output_type": "stream",
     "text": [
      "class: SingleCellExperiment \n",
      "dim: 23730 301 \n",
      "metadata(0):\n",
      "assays(2): normcounts logcounts\n",
      "rownames(23730): A1BG A1BG-AS1 ... ZZEF1 ZZZ3\n",
      "rowData names(1): feature_symbol\n",
      "colnames(301): Hi_2338_1 Hi_2338_2 ... Hi_GW16_25 Hi_GW16_26\n",
      "colData names(2): cell_type1 cell_type2\n",
      "reducedDimNames(0):\n",
      "spikeNames(1): ERCC\n",
      "altExpNames(0):\n"
     ]
    },
    {
     "name": "stderr",
     "output_type": "stream",
     "text": [
      "Setting SC3 parameters...\n",
      "Warning message:\n",
      "“'isSpike' is deprecated.\n",
      "See help(\"Deprecated\")”Warning message:\n",
      "“'isSpike' is deprecated.\n",
      "See help(\"Deprecated\")”Calculating distances between the cells...\n",
      "Performing transformations and calculating eigenvectors...\n",
      "Performing k-means clustering...\n"
     ]
    },
    {
     "name": "stdout",
     "output_type": "stream",
     "text": [
      "\n"
     ]
    },
    {
     "name": "stderr",
     "output_type": "stream",
     "text": [
      "Calculating consensus matrix...\n"
     ]
    },
    {
     "name": "stdout",
     "output_type": "stream",
     "text": [
      "class: SingleCellExperiment \n",
      "dim: 23730 301 \n",
      "metadata(0):\n",
      "assays(2): normcounts logcounts\n",
      "rownames(23730): A1BG A1BG-AS1 ... ZZEF1 ZZZ3\n",
      "rowData names(1): feature_symbol\n",
      "colnames(301): Hi_2338_1 Hi_2338_2 ... Hi_GW16_25 Hi_GW16_26\n",
      "colData names(2): cell_type1 cell_type2\n",
      "reducedDimNames(0):\n",
      "spikeNames(1): ERCC\n",
      "altExpNames(0):\n"
     ]
    },
    {
     "name": "stderr",
     "output_type": "stream",
     "text": [
      "Setting SC3 parameters...\n",
      "Warning message:\n",
      "“'isSpike' is deprecated.\n",
      "See help(\"Deprecated\")”Warning message:\n",
      "“'isSpike' is deprecated.\n",
      "See help(\"Deprecated\")”Calculating distances between the cells...\n",
      "Performing transformations and calculating eigenvectors...\n",
      "Performing k-means clustering...\n"
     ]
    },
    {
     "name": "stdout",
     "output_type": "stream",
     "text": [
      "\n"
     ]
    },
    {
     "name": "stderr",
     "output_type": "stream",
     "text": [
      "Calculating consensus matrix...\n"
     ]
    },
    {
     "name": "stdout",
     "output_type": "stream",
     "text": [
      "class: SingleCellExperiment \n",
      "dim: 23730 301 \n",
      "metadata(0):\n",
      "assays(2): normcounts logcounts\n",
      "rownames(23730): A1BG A1BG-AS1 ... ZZEF1 ZZZ3\n",
      "rowData names(1): feature_symbol\n",
      "colnames(301): Hi_2338_1 Hi_2338_2 ... Hi_GW16_25 Hi_GW16_26\n",
      "colData names(2): cell_type1 cell_type2\n",
      "reducedDimNames(0):\n",
      "spikeNames(1): ERCC\n",
      "altExpNames(0):\n"
     ]
    },
    {
     "name": "stderr",
     "output_type": "stream",
     "text": [
      "Setting SC3 parameters...\n",
      "Warning message:\n",
      "“'isSpike' is deprecated.\n",
      "See help(\"Deprecated\")”Warning message:\n",
      "“'isSpike' is deprecated.\n",
      "See help(\"Deprecated\")”Calculating distances between the cells...\n",
      "Performing transformations and calculating eigenvectors...\n",
      "Performing k-means clustering...\n"
     ]
    },
    {
     "name": "stdout",
     "output_type": "stream",
     "text": [
      "\n"
     ]
    },
    {
     "name": "stderr",
     "output_type": "stream",
     "text": [
      "Calculating consensus matrix...\n"
     ]
    },
    {
     "name": "stdout",
     "output_type": "stream",
     "text": [
      "class: SingleCellExperiment \n",
      "dim: 23730 301 \n",
      "metadata(0):\n",
      "assays(2): normcounts logcounts\n",
      "rownames(23730): A1BG A1BG-AS1 ... ZZEF1 ZZZ3\n",
      "rowData names(1): feature_symbol\n",
      "colnames(301): Hi_2338_1 Hi_2338_2 ... Hi_GW16_25 Hi_GW16_26\n",
      "colData names(2): cell_type1 cell_type2\n",
      "reducedDimNames(0):\n",
      "spikeNames(1): ERCC\n",
      "altExpNames(0):\n"
     ]
    },
    {
     "name": "stderr",
     "output_type": "stream",
     "text": [
      "Setting SC3 parameters...\n",
      "Warning message:\n",
      "“'isSpike' is deprecated.\n",
      "See help(\"Deprecated\")”Warning message:\n",
      "“'isSpike' is deprecated.\n",
      "See help(\"Deprecated\")”Calculating distances between the cells...\n",
      "Performing transformations and calculating eigenvectors...\n",
      "Performing k-means clustering...\n"
     ]
    },
    {
     "name": "stdout",
     "output_type": "stream",
     "text": [
      "\n"
     ]
    },
    {
     "name": "stderr",
     "output_type": "stream",
     "text": [
      "Calculating consensus matrix...\n"
     ]
    },
    {
     "name": "stdout",
     "output_type": "stream",
     "text": [
      "class: SingleCellExperiment \n",
      "dim: 23730 301 \n",
      "metadata(0):\n",
      "assays(2): normcounts logcounts\n",
      "rownames(23730): A1BG A1BG-AS1 ... ZZEF1 ZZZ3\n",
      "rowData names(1): feature_symbol\n",
      "colnames(301): Hi_2338_1 Hi_2338_2 ... Hi_GW16_25 Hi_GW16_26\n",
      "colData names(2): cell_type1 cell_type2\n",
      "reducedDimNames(0):\n",
      "spikeNames(1): ERCC\n",
      "altExpNames(0):\n"
     ]
    },
    {
     "name": "stderr",
     "output_type": "stream",
     "text": [
      "Setting SC3 parameters...\n",
      "Warning message:\n",
      "“'isSpike' is deprecated.\n",
      "See help(\"Deprecated\")”Warning message:\n",
      "“'isSpike' is deprecated.\n",
      "See help(\"Deprecated\")”Calculating distances between the cells...\n",
      "Performing transformations and calculating eigenvectors...\n",
      "Performing k-means clustering...\n"
     ]
    },
    {
     "name": "stdout",
     "output_type": "stream",
     "text": [
      "\n"
     ]
    },
    {
     "name": "stderr",
     "output_type": "stream",
     "text": [
      "Calculating consensus matrix...\n"
     ]
    },
    {
     "name": "stdout",
     "output_type": "stream",
     "text": [
      "class: SingleCellExperiment \n",
      "dim: 23730 301 \n",
      "metadata(0):\n",
      "assays(2): normcounts logcounts\n",
      "rownames(23730): A1BG A1BG-AS1 ... ZZEF1 ZZZ3\n",
      "rowData names(1): feature_symbol\n",
      "colnames(301): Hi_2338_1 Hi_2338_2 ... Hi_GW16_25 Hi_GW16_26\n",
      "colData names(2): cell_type1 cell_type2\n",
      "reducedDimNames(0):\n",
      "spikeNames(1): ERCC\n",
      "altExpNames(0):\n"
     ]
    },
    {
     "name": "stderr",
     "output_type": "stream",
     "text": [
      "Setting SC3 parameters...\n",
      "Warning message:\n",
      "“'isSpike' is deprecated.\n",
      "See help(\"Deprecated\")”Warning message:\n",
      "“'isSpike' is deprecated.\n",
      "See help(\"Deprecated\")”Calculating distances between the cells...\n",
      "Performing transformations and calculating eigenvectors...\n",
      "Performing k-means clustering...\n"
     ]
    },
    {
     "name": "stdout",
     "output_type": "stream",
     "text": [
      "\n"
     ]
    },
    {
     "name": "stderr",
     "output_type": "stream",
     "text": [
      "Calculating consensus matrix...\n"
     ]
    },
    {
     "name": "stdout",
     "output_type": "stream",
     "text": [
      "class: SingleCellExperiment \n",
      "dim: 23730 301 \n",
      "metadata(0):\n",
      "assays(2): normcounts logcounts\n",
      "rownames(23730): A1BG A1BG-AS1 ... ZZEF1 ZZZ3\n",
      "rowData names(1): feature_symbol\n",
      "colnames(301): Hi_2338_1 Hi_2338_2 ... Hi_GW16_25 Hi_GW16_26\n",
      "colData names(2): cell_type1 cell_type2\n",
      "reducedDimNames(0):\n",
      "spikeNames(1): ERCC\n",
      "altExpNames(0):\n"
     ]
    },
    {
     "name": "stderr",
     "output_type": "stream",
     "text": [
      "Setting SC3 parameters...\n",
      "Warning message:\n",
      "“'isSpike' is deprecated.\n",
      "See help(\"Deprecated\")”Warning message:\n",
      "“'isSpike' is deprecated.\n",
      "See help(\"Deprecated\")”Calculating distances between the cells...\n",
      "Performing transformations and calculating eigenvectors...\n",
      "Performing k-means clustering...\n"
     ]
    },
    {
     "name": "stdout",
     "output_type": "stream",
     "text": [
      "\n"
     ]
    },
    {
     "name": "stderr",
     "output_type": "stream",
     "text": [
      "Calculating consensus matrix...\n"
     ]
    },
    {
     "name": "stdout",
     "output_type": "stream",
     "text": [
      "class: SingleCellExperiment \n",
      "dim: 23730 301 \n",
      "metadata(0):\n",
      "assays(2): normcounts logcounts\n",
      "rownames(23730): A1BG A1BG-AS1 ... ZZEF1 ZZZ3\n",
      "rowData names(1): feature_symbol\n",
      "colnames(301): Hi_2338_1 Hi_2338_2 ... Hi_GW16_25 Hi_GW16_26\n",
      "colData names(2): cell_type1 cell_type2\n",
      "reducedDimNames(0):\n",
      "spikeNames(1): ERCC\n",
      "altExpNames(0):\n"
     ]
    },
    {
     "name": "stderr",
     "output_type": "stream",
     "text": [
      "Setting SC3 parameters...\n",
      "Warning message:\n",
      "“'isSpike' is deprecated.\n",
      "See help(\"Deprecated\")”Warning message:\n",
      "“'isSpike' is deprecated.\n",
      "See help(\"Deprecated\")”Calculating distances between the cells...\n",
      "Performing transformations and calculating eigenvectors...\n",
      "Performing k-means clustering...\n"
     ]
    },
    {
     "name": "stdout",
     "output_type": "stream",
     "text": [
      "\n"
     ]
    },
    {
     "name": "stderr",
     "output_type": "stream",
     "text": [
      "Calculating consensus matrix...\n"
     ]
    },
    {
     "name": "stdout",
     "output_type": "stream",
     "text": [
      "class: SingleCellExperiment \n",
      "dim: 23730 301 \n",
      "metadata(0):\n",
      "assays(2): normcounts logcounts\n",
      "rownames(23730): A1BG A1BG-AS1 ... ZZEF1 ZZZ3\n",
      "rowData names(1): feature_symbol\n",
      "colnames(301): Hi_2338_1 Hi_2338_2 ... Hi_GW16_25 Hi_GW16_26\n",
      "colData names(2): cell_type1 cell_type2\n",
      "reducedDimNames(0):\n",
      "spikeNames(1): ERCC\n",
      "altExpNames(0):\n"
     ]
    },
    {
     "name": "stderr",
     "output_type": "stream",
     "text": [
      "Setting SC3 parameters...\n",
      "Warning message:\n",
      "“'isSpike' is deprecated.\n",
      "See help(\"Deprecated\")”Warning message:\n",
      "“'isSpike' is deprecated.\n",
      "See help(\"Deprecated\")”Calculating distances between the cells...\n",
      "Performing transformations and calculating eigenvectors...\n",
      "Performing k-means clustering...\n"
     ]
    },
    {
     "name": "stdout",
     "output_type": "stream",
     "text": [
      "\n"
     ]
    },
    {
     "name": "stderr",
     "output_type": "stream",
     "text": [
      "Calculating consensus matrix...\n"
     ]
    },
    {
     "name": "stdout",
     "output_type": "stream",
     "text": [
      "class: SingleCellExperiment \n",
      "dim: 23730 301 \n",
      "metadata(0):\n",
      "assays(2): normcounts logcounts\n",
      "rownames(23730): A1BG A1BG-AS1 ... ZZEF1 ZZZ3\n",
      "rowData names(1): feature_symbol\n",
      "colnames(301): Hi_2338_1 Hi_2338_2 ... Hi_GW16_25 Hi_GW16_26\n",
      "colData names(2): cell_type1 cell_type2\n",
      "reducedDimNames(0):\n",
      "spikeNames(1): ERCC\n",
      "altExpNames(0):\n"
     ]
    },
    {
     "name": "stderr",
     "output_type": "stream",
     "text": [
      "Setting SC3 parameters...\n",
      "Warning message:\n",
      "“'isSpike' is deprecated.\n",
      "See help(\"Deprecated\")”Warning message:\n",
      "“'isSpike' is deprecated.\n",
      "See help(\"Deprecated\")”Calculating distances between the cells...\n",
      "Performing transformations and calculating eigenvectors...\n",
      "Performing k-means clustering...\n"
     ]
    },
    {
     "name": "stdout",
     "output_type": "stream",
     "text": [
      "\n"
     ]
    },
    {
     "name": "stderr",
     "output_type": "stream",
     "text": [
      "Calculating consensus matrix...\n"
     ]
    },
    {
     "name": "stdout",
     "output_type": "stream",
     "text": [
      "class: SingleCellExperiment \n",
      "dim: 23730 301 \n",
      "metadata(0):\n",
      "assays(2): normcounts logcounts\n",
      "rownames(23730): A1BG A1BG-AS1 ... ZZEF1 ZZZ3\n",
      "rowData names(1): feature_symbol\n",
      "colnames(301): Hi_2338_1 Hi_2338_2 ... Hi_GW16_25 Hi_GW16_26\n",
      "colData names(2): cell_type1 cell_type2\n",
      "reducedDimNames(0):\n",
      "spikeNames(1): ERCC\n",
      "altExpNames(0):\n"
     ]
    },
    {
     "name": "stderr",
     "output_type": "stream",
     "text": [
      "Setting SC3 parameters...\n",
      "Warning message:\n",
      "“'isSpike' is deprecated.\n",
      "See help(\"Deprecated\")”Warning message:\n",
      "“'isSpike' is deprecated.\n",
      "See help(\"Deprecated\")”Calculating distances between the cells...\n",
      "Performing transformations and calculating eigenvectors...\n",
      "Performing k-means clustering...\n"
     ]
    },
    {
     "name": "stdout",
     "output_type": "stream",
     "text": [
      "\n"
     ]
    },
    {
     "name": "stderr",
     "output_type": "stream",
     "text": [
      "Calculating consensus matrix...\n"
     ]
    },
    {
     "name": "stdout",
     "output_type": "stream",
     "text": [
      "class: SingleCellExperiment \n",
      "dim: 23730 301 \n",
      "metadata(0):\n",
      "assays(2): normcounts logcounts\n",
      "rownames(23730): A1BG A1BG-AS1 ... ZZEF1 ZZZ3\n",
      "rowData names(1): feature_symbol\n",
      "colnames(301): Hi_2338_1 Hi_2338_2 ... Hi_GW16_25 Hi_GW16_26\n",
      "colData names(2): cell_type1 cell_type2\n",
      "reducedDimNames(0):\n",
      "spikeNames(1): ERCC\n",
      "altExpNames(0):\n"
     ]
    },
    {
     "name": "stderr",
     "output_type": "stream",
     "text": [
      "Setting SC3 parameters...\n",
      "Warning message:\n",
      "“'isSpike' is deprecated.\n",
      "See help(\"Deprecated\")”Warning message:\n",
      "“'isSpike' is deprecated.\n",
      "See help(\"Deprecated\")”Calculating distances between the cells...\n",
      "Performing transformations and calculating eigenvectors...\n",
      "Performing k-means clustering...\n"
     ]
    },
    {
     "name": "stdout",
     "output_type": "stream",
     "text": [
      "\n"
     ]
    },
    {
     "name": "stderr",
     "output_type": "stream",
     "text": [
      "Calculating consensus matrix...\n"
     ]
    },
    {
     "name": "stdout",
     "output_type": "stream",
     "text": [
      "class: SingleCellExperiment \n",
      "dim: 23730 301 \n",
      "metadata(0):\n",
      "assays(2): normcounts logcounts\n",
      "rownames(23730): A1BG A1BG-AS1 ... ZZEF1 ZZZ3\n",
      "rowData names(1): feature_symbol\n",
      "colnames(301): Hi_2338_1 Hi_2338_2 ... Hi_GW16_25 Hi_GW16_26\n",
      "colData names(2): cell_type1 cell_type2\n",
      "reducedDimNames(0):\n",
      "spikeNames(1): ERCC\n",
      "altExpNames(0):\n"
     ]
    },
    {
     "name": "stderr",
     "output_type": "stream",
     "text": [
      "Setting SC3 parameters...\n",
      "Warning message:\n",
      "“'isSpike' is deprecated.\n",
      "See help(\"Deprecated\")”Warning message:\n",
      "“'isSpike' is deprecated.\n",
      "See help(\"Deprecated\")”Calculating distances between the cells...\n",
      "Performing transformations and calculating eigenvectors...\n",
      "Performing k-means clustering...\n"
     ]
    },
    {
     "name": "stdout",
     "output_type": "stream",
     "text": [
      "\n"
     ]
    },
    {
     "name": "stderr",
     "output_type": "stream",
     "text": [
      "Calculating consensus matrix...\n"
     ]
    },
    {
     "name": "stdout",
     "output_type": "stream",
     "text": [
      "class: SingleCellExperiment \n",
      "dim: 23730 301 \n",
      "metadata(0):\n",
      "assays(2): normcounts logcounts\n",
      "rownames(23730): A1BG A1BG-AS1 ... ZZEF1 ZZZ3\n",
      "rowData names(1): feature_symbol\n",
      "colnames(301): Hi_2338_1 Hi_2338_2 ... Hi_GW16_25 Hi_GW16_26\n",
      "colData names(2): cell_type1 cell_type2\n",
      "reducedDimNames(0):\n",
      "spikeNames(1): ERCC\n",
      "altExpNames(0):\n"
     ]
    },
    {
     "name": "stderr",
     "output_type": "stream",
     "text": [
      "Setting SC3 parameters...\n",
      "Warning message:\n",
      "“'isSpike' is deprecated.\n",
      "See help(\"Deprecated\")”Warning message:\n",
      "“'isSpike' is deprecated.\n",
      "See help(\"Deprecated\")”Calculating distances between the cells...\n",
      "Performing transformations and calculating eigenvectors...\n",
      "Performing k-means clustering...\n"
     ]
    },
    {
     "name": "stdout",
     "output_type": "stream",
     "text": [
      "\n"
     ]
    },
    {
     "name": "stderr",
     "output_type": "stream",
     "text": [
      "Calculating consensus matrix...\n"
     ]
    },
    {
     "name": "stdout",
     "output_type": "stream",
     "text": [
      "class: SingleCellExperiment \n",
      "dim: 23730 301 \n",
      "metadata(0):\n",
      "assays(2): normcounts logcounts\n",
      "rownames(23730): A1BG A1BG-AS1 ... ZZEF1 ZZZ3\n",
      "rowData names(1): feature_symbol\n",
      "colnames(301): Hi_2338_1 Hi_2338_2 ... Hi_GW16_25 Hi_GW16_26\n",
      "colData names(2): cell_type1 cell_type2\n",
      "reducedDimNames(0):\n",
      "spikeNames(1): ERCC\n",
      "altExpNames(0):\n"
     ]
    },
    {
     "name": "stderr",
     "output_type": "stream",
     "text": [
      "Setting SC3 parameters...\n",
      "Warning message:\n",
      "“'isSpike' is deprecated.\n",
      "See help(\"Deprecated\")”Warning message:\n",
      "“'isSpike' is deprecated.\n",
      "See help(\"Deprecated\")”Calculating distances between the cells...\n",
      "Performing transformations and calculating eigenvectors...\n",
      "Performing k-means clustering...\n"
     ]
    },
    {
     "name": "stdout",
     "output_type": "stream",
     "text": [
      "\n"
     ]
    },
    {
     "name": "stderr",
     "output_type": "stream",
     "text": [
      "Calculating consensus matrix...\n"
     ]
    },
    {
     "name": "stdout",
     "output_type": "stream",
     "text": [
      "class: SingleCellExperiment \n",
      "dim: 23730 301 \n",
      "metadata(0):\n",
      "assays(2): normcounts logcounts\n",
      "rownames(23730): A1BG A1BG-AS1 ... ZZEF1 ZZZ3\n",
      "rowData names(1): feature_symbol\n",
      "colnames(301): Hi_2338_1 Hi_2338_2 ... Hi_GW16_25 Hi_GW16_26\n",
      "colData names(2): cell_type1 cell_type2\n",
      "reducedDimNames(0):\n",
      "spikeNames(1): ERCC\n",
      "altExpNames(0):\n"
     ]
    },
    {
     "name": "stderr",
     "output_type": "stream",
     "text": [
      "Setting SC3 parameters...\n",
      "Warning message:\n",
      "“'isSpike' is deprecated.\n",
      "See help(\"Deprecated\")”Warning message:\n",
      "“'isSpike' is deprecated.\n",
      "See help(\"Deprecated\")”Calculating distances between the cells...\n",
      "Performing transformations and calculating eigenvectors...\n",
      "Performing k-means clustering...\n"
     ]
    },
    {
     "name": "stdout",
     "output_type": "stream",
     "text": [
      "\n"
     ]
    },
    {
     "name": "stderr",
     "output_type": "stream",
     "text": [
      "Calculating consensus matrix...\n"
     ]
    },
    {
     "name": "stdout",
     "output_type": "stream",
     "text": [
      "class: SingleCellExperiment \n",
      "dim: 23730 301 \n",
      "metadata(0):\n",
      "assays(2): normcounts logcounts\n",
      "rownames(23730): A1BG A1BG-AS1 ... ZZEF1 ZZZ3\n",
      "rowData names(1): feature_symbol\n",
      "colnames(301): Hi_2338_1 Hi_2338_2 ... Hi_GW16_25 Hi_GW16_26\n",
      "colData names(2): cell_type1 cell_type2\n",
      "reducedDimNames(0):\n",
      "spikeNames(1): ERCC\n",
      "altExpNames(0):\n"
     ]
    },
    {
     "name": "stderr",
     "output_type": "stream",
     "text": [
      "Setting SC3 parameters...\n",
      "Warning message:\n",
      "“'isSpike' is deprecated.\n",
      "See help(\"Deprecated\")”Warning message:\n",
      "“'isSpike' is deprecated.\n",
      "See help(\"Deprecated\")”Calculating distances between the cells...\n",
      "Performing transformations and calculating eigenvectors...\n",
      "Performing k-means clustering...\n"
     ]
    },
    {
     "name": "stdout",
     "output_type": "stream",
     "text": [
      "\n"
     ]
    },
    {
     "name": "stderr",
     "output_type": "stream",
     "text": [
      "Calculating consensus matrix...\n"
     ]
    },
    {
     "name": "stdout",
     "output_type": "stream",
     "text": [
      "class: SingleCellExperiment \n",
      "dim: 23730 301 \n",
      "metadata(0):\n",
      "assays(2): normcounts logcounts\n",
      "rownames(23730): A1BG A1BG-AS1 ... ZZEF1 ZZZ3\n",
      "rowData names(1): feature_symbol\n",
      "colnames(301): Hi_2338_1 Hi_2338_2 ... Hi_GW16_25 Hi_GW16_26\n",
      "colData names(2): cell_type1 cell_type2\n",
      "reducedDimNames(0):\n",
      "spikeNames(1): ERCC\n",
      "altExpNames(0):\n"
     ]
    },
    {
     "name": "stderr",
     "output_type": "stream",
     "text": [
      "Setting SC3 parameters...\n",
      "Warning message:\n",
      "“'isSpike' is deprecated.\n",
      "See help(\"Deprecated\")”Warning message:\n",
      "“'isSpike' is deprecated.\n",
      "See help(\"Deprecated\")”Calculating distances between the cells...\n",
      "Performing transformations and calculating eigenvectors...\n",
      "Performing k-means clustering...\n"
     ]
    },
    {
     "name": "stdout",
     "output_type": "stream",
     "text": [
      "\n"
     ]
    },
    {
     "name": "stderr",
     "output_type": "stream",
     "text": [
      "Calculating consensus matrix...\n"
     ]
    },
    {
     "name": "stdout",
     "output_type": "stream",
     "text": [
      "class: SingleCellExperiment \n",
      "dim: 23730 301 \n",
      "metadata(0):\n",
      "assays(2): normcounts logcounts\n",
      "rownames(23730): A1BG A1BG-AS1 ... ZZEF1 ZZZ3\n",
      "rowData names(1): feature_symbol\n",
      "colnames(301): Hi_2338_1 Hi_2338_2 ... Hi_GW16_25 Hi_GW16_26\n",
      "colData names(2): cell_type1 cell_type2\n",
      "reducedDimNames(0):\n",
      "spikeNames(1): ERCC\n",
      "altExpNames(0):\n"
     ]
    },
    {
     "name": "stderr",
     "output_type": "stream",
     "text": [
      "Setting SC3 parameters...\n",
      "Warning message:\n",
      "“'isSpike' is deprecated.\n",
      "See help(\"Deprecated\")”Warning message:\n",
      "“'isSpike' is deprecated.\n",
      "See help(\"Deprecated\")”Calculating distances between the cells...\n",
      "Performing transformations and calculating eigenvectors...\n",
      "Performing k-means clustering...\n"
     ]
    },
    {
     "name": "stdout",
     "output_type": "stream",
     "text": [
      "\n"
     ]
    },
    {
     "name": "stderr",
     "output_type": "stream",
     "text": [
      "Calculating consensus matrix...\n"
     ]
    },
    {
     "name": "stdout",
     "output_type": "stream",
     "text": [
      "class: SingleCellExperiment \n",
      "dim: 23730 301 \n",
      "metadata(0):\n",
      "assays(2): normcounts logcounts\n",
      "rownames(23730): A1BG A1BG-AS1 ... ZZEF1 ZZZ3\n",
      "rowData names(1): feature_symbol\n",
      "colnames(301): Hi_2338_1 Hi_2338_2 ... Hi_GW16_25 Hi_GW16_26\n",
      "colData names(2): cell_type1 cell_type2\n",
      "reducedDimNames(0):\n",
      "spikeNames(1): ERCC\n",
      "altExpNames(0):\n"
     ]
    },
    {
     "name": "stderr",
     "output_type": "stream",
     "text": [
      "Setting SC3 parameters...\n",
      "Warning message:\n",
      "“'isSpike' is deprecated.\n",
      "See help(\"Deprecated\")”Warning message:\n",
      "“'isSpike' is deprecated.\n",
      "See help(\"Deprecated\")”Calculating distances between the cells...\n",
      "Performing transformations and calculating eigenvectors...\n",
      "Performing k-means clustering...\n"
     ]
    },
    {
     "name": "stdout",
     "output_type": "stream",
     "text": [
      "\n"
     ]
    },
    {
     "name": "stderr",
     "output_type": "stream",
     "text": [
      "Calculating consensus matrix...\n"
     ]
    },
    {
     "name": "stdout",
     "output_type": "stream",
     "text": [
      "class: SingleCellExperiment \n",
      "dim: 23730 301 \n",
      "metadata(0):\n",
      "assays(2): normcounts logcounts\n",
      "rownames(23730): A1BG A1BG-AS1 ... ZZEF1 ZZZ3\n",
      "rowData names(1): feature_symbol\n",
      "colnames(301): Hi_2338_1 Hi_2338_2 ... Hi_GW16_25 Hi_GW16_26\n",
      "colData names(2): cell_type1 cell_type2\n",
      "reducedDimNames(0):\n",
      "spikeNames(1): ERCC\n",
      "altExpNames(0):\n"
     ]
    },
    {
     "name": "stderr",
     "output_type": "stream",
     "text": [
      "Setting SC3 parameters...\n",
      "Warning message:\n",
      "“'isSpike' is deprecated.\n",
      "See help(\"Deprecated\")”Warning message:\n",
      "“'isSpike' is deprecated.\n",
      "See help(\"Deprecated\")”Calculating distances between the cells...\n",
      "Performing transformations and calculating eigenvectors...\n",
      "Performing k-means clustering...\n"
     ]
    },
    {
     "name": "stdout",
     "output_type": "stream",
     "text": [
      "\n"
     ]
    },
    {
     "name": "stderr",
     "output_type": "stream",
     "text": [
      "Calculating consensus matrix...\n"
     ]
    },
    {
     "name": "stdout",
     "output_type": "stream",
     "text": [
      "class: SingleCellExperiment \n",
      "dim: 23730 301 \n",
      "metadata(0):\n",
      "assays(2): normcounts logcounts\n",
      "rownames(23730): A1BG A1BG-AS1 ... ZZEF1 ZZZ3\n",
      "rowData names(1): feature_symbol\n",
      "colnames(301): Hi_2338_1 Hi_2338_2 ... Hi_GW16_25 Hi_GW16_26\n",
      "colData names(2): cell_type1 cell_type2\n",
      "reducedDimNames(0):\n",
      "spikeNames(1): ERCC\n",
      "altExpNames(0):\n"
     ]
    },
    {
     "name": "stderr",
     "output_type": "stream",
     "text": [
      "Setting SC3 parameters...\n",
      "Warning message:\n",
      "“'isSpike' is deprecated.\n",
      "See help(\"Deprecated\")”Warning message:\n",
      "“'isSpike' is deprecated.\n",
      "See help(\"Deprecated\")”Calculating distances between the cells...\n",
      "Performing transformations and calculating eigenvectors...\n",
      "Performing k-means clustering...\n"
     ]
    },
    {
     "name": "stdout",
     "output_type": "stream",
     "text": [
      "\n"
     ]
    },
    {
     "name": "stderr",
     "output_type": "stream",
     "text": [
      "Calculating consensus matrix...\n"
     ]
    },
    {
     "name": "stdout",
     "output_type": "stream",
     "text": [
      "class: SingleCellExperiment \n",
      "dim: 23730 301 \n",
      "metadata(0):\n",
      "assays(2): normcounts logcounts\n",
      "rownames(23730): A1BG A1BG-AS1 ... ZZEF1 ZZZ3\n",
      "rowData names(1): feature_symbol\n",
      "colnames(301): Hi_2338_1 Hi_2338_2 ... Hi_GW16_25 Hi_GW16_26\n",
      "colData names(2): cell_type1 cell_type2\n",
      "reducedDimNames(0):\n",
      "spikeNames(1): ERCC\n",
      "altExpNames(0):\n"
     ]
    },
    {
     "name": "stderr",
     "output_type": "stream",
     "text": [
      "Setting SC3 parameters...\n",
      "Warning message:\n",
      "“'isSpike' is deprecated.\n",
      "See help(\"Deprecated\")”Warning message:\n",
      "“'isSpike' is deprecated.\n",
      "See help(\"Deprecated\")”Calculating distances between the cells...\n",
      "Performing transformations and calculating eigenvectors...\n",
      "Performing k-means clustering...\n"
     ]
    },
    {
     "name": "stdout",
     "output_type": "stream",
     "text": [
      "\n"
     ]
    },
    {
     "name": "stderr",
     "output_type": "stream",
     "text": [
      "Calculating consensus matrix...\n"
     ]
    },
    {
     "name": "stdout",
     "output_type": "stream",
     "text": [
      "class: SingleCellExperiment \n",
      "dim: 23730 301 \n",
      "metadata(0):\n",
      "assays(2): normcounts logcounts\n",
      "rownames(23730): A1BG A1BG-AS1 ... ZZEF1 ZZZ3\n",
      "rowData names(1): feature_symbol\n",
      "colnames(301): Hi_2338_1 Hi_2338_2 ... Hi_GW16_25 Hi_GW16_26\n",
      "colData names(2): cell_type1 cell_type2\n",
      "reducedDimNames(0):\n",
      "spikeNames(1): ERCC\n",
      "altExpNames(0):\n"
     ]
    },
    {
     "name": "stderr",
     "output_type": "stream",
     "text": [
      "Setting SC3 parameters...\n",
      "Warning message:\n",
      "“'isSpike' is deprecated.\n",
      "See help(\"Deprecated\")”Warning message:\n",
      "“'isSpike' is deprecated.\n",
      "See help(\"Deprecated\")”Calculating distances between the cells...\n",
      "Performing transformations and calculating eigenvectors...\n",
      "Performing k-means clustering...\n"
     ]
    },
    {
     "name": "stdout",
     "output_type": "stream",
     "text": [
      "\n"
     ]
    },
    {
     "name": "stderr",
     "output_type": "stream",
     "text": [
      "Calculating consensus matrix...\n"
     ]
    },
    {
     "name": "stdout",
     "output_type": "stream",
     "text": [
      "class: SingleCellExperiment \n",
      "dim: 23730 301 \n",
      "metadata(0):\n",
      "assays(2): normcounts logcounts\n",
      "rownames(23730): A1BG A1BG-AS1 ... ZZEF1 ZZZ3\n",
      "rowData names(1): feature_symbol\n",
      "colnames(301): Hi_2338_1 Hi_2338_2 ... Hi_GW16_25 Hi_GW16_26\n",
      "colData names(2): cell_type1 cell_type2\n",
      "reducedDimNames(0):\n",
      "spikeNames(1): ERCC\n",
      "altExpNames(0):\n"
     ]
    },
    {
     "name": "stderr",
     "output_type": "stream",
     "text": [
      "Setting SC3 parameters...\n",
      "Warning message:\n",
      "“'isSpike' is deprecated.\n",
      "See help(\"Deprecated\")”Warning message:\n",
      "“'isSpike' is deprecated.\n",
      "See help(\"Deprecated\")”Calculating distances between the cells...\n",
      "Performing transformations and calculating eigenvectors...\n",
      "Performing k-means clustering...\n"
     ]
    },
    {
     "name": "stdout",
     "output_type": "stream",
     "text": [
      "\n"
     ]
    },
    {
     "name": "stderr",
     "output_type": "stream",
     "text": [
      "Calculating consensus matrix...\n"
     ]
    },
    {
     "name": "stdout",
     "output_type": "stream",
     "text": [
      "class: SingleCellExperiment \n",
      "dim: 23730 301 \n",
      "metadata(0):\n",
      "assays(2): normcounts logcounts\n",
      "rownames(23730): A1BG A1BG-AS1 ... ZZEF1 ZZZ3\n",
      "rowData names(1): feature_symbol\n",
      "colnames(301): Hi_2338_1 Hi_2338_2 ... Hi_GW16_25 Hi_GW16_26\n",
      "colData names(2): cell_type1 cell_type2\n",
      "reducedDimNames(0):\n",
      "spikeNames(1): ERCC\n",
      "altExpNames(0):\n"
     ]
    },
    {
     "name": "stderr",
     "output_type": "stream",
     "text": [
      "Setting SC3 parameters...\n",
      "Warning message:\n",
      "“'isSpike' is deprecated.\n",
      "See help(\"Deprecated\")”Warning message:\n",
      "“'isSpike' is deprecated.\n",
      "See help(\"Deprecated\")”Calculating distances between the cells...\n",
      "Performing transformations and calculating eigenvectors...\n",
      "Performing k-means clustering...\n"
     ]
    },
    {
     "name": "stdout",
     "output_type": "stream",
     "text": [
      "\n"
     ]
    },
    {
     "name": "stderr",
     "output_type": "stream",
     "text": [
      "Calculating consensus matrix...\n"
     ]
    },
    {
     "name": "stdout",
     "output_type": "stream",
     "text": [
      "class: SingleCellExperiment \n",
      "dim: 23730 301 \n",
      "metadata(0):\n",
      "assays(2): normcounts logcounts\n",
      "rownames(23730): A1BG A1BG-AS1 ... ZZEF1 ZZZ3\n",
      "rowData names(1): feature_symbol\n",
      "colnames(301): Hi_2338_1 Hi_2338_2 ... Hi_GW16_25 Hi_GW16_26\n",
      "colData names(2): cell_type1 cell_type2\n",
      "reducedDimNames(0):\n",
      "spikeNames(1): ERCC\n",
      "altExpNames(0):\n"
     ]
    },
    {
     "name": "stderr",
     "output_type": "stream",
     "text": [
      "Setting SC3 parameters...\n",
      "Warning message:\n",
      "“'isSpike' is deprecated.\n",
      "See help(\"Deprecated\")”Warning message:\n",
      "“'isSpike' is deprecated.\n",
      "See help(\"Deprecated\")”Calculating distances between the cells...\n",
      "Performing transformations and calculating eigenvectors...\n",
      "Performing k-means clustering...\n"
     ]
    },
    {
     "name": "stdout",
     "output_type": "stream",
     "text": [
      "\n"
     ]
    },
    {
     "name": "stderr",
     "output_type": "stream",
     "text": [
      "Calculating consensus matrix...\n"
     ]
    },
    {
     "name": "stdout",
     "output_type": "stream",
     "text": [
      "class: SingleCellExperiment \n",
      "dim: 23730 301 \n",
      "metadata(0):\n",
      "assays(2): normcounts logcounts\n",
      "rownames(23730): A1BG A1BG-AS1 ... ZZEF1 ZZZ3\n",
      "rowData names(1): feature_symbol\n",
      "colnames(301): Hi_2338_1 Hi_2338_2 ... Hi_GW16_25 Hi_GW16_26\n",
      "colData names(2): cell_type1 cell_type2\n",
      "reducedDimNames(0):\n",
      "spikeNames(1): ERCC\n",
      "altExpNames(0):\n"
     ]
    },
    {
     "name": "stderr",
     "output_type": "stream",
     "text": [
      "Setting SC3 parameters...\n",
      "Warning message:\n",
      "“'isSpike' is deprecated.\n",
      "See help(\"Deprecated\")”Warning message:\n",
      "“'isSpike' is deprecated.\n",
      "See help(\"Deprecated\")”Calculating distances between the cells...\n",
      "Performing transformations and calculating eigenvectors...\n",
      "Performing k-means clustering...\n"
     ]
    },
    {
     "name": "stdout",
     "output_type": "stream",
     "text": [
      "\n"
     ]
    },
    {
     "name": "stderr",
     "output_type": "stream",
     "text": [
      "Calculating consensus matrix...\n"
     ]
    },
    {
     "name": "stdout",
     "output_type": "stream",
     "text": [
      "class: SingleCellExperiment \n",
      "dim: 23730 301 \n",
      "metadata(0):\n",
      "assays(2): normcounts logcounts\n",
      "rownames(23730): A1BG A1BG-AS1 ... ZZEF1 ZZZ3\n",
      "rowData names(1): feature_symbol\n",
      "colnames(301): Hi_2338_1 Hi_2338_2 ... Hi_GW16_25 Hi_GW16_26\n",
      "colData names(2): cell_type1 cell_type2\n",
      "reducedDimNames(0):\n",
      "spikeNames(1): ERCC\n",
      "altExpNames(0):\n"
     ]
    },
    {
     "name": "stderr",
     "output_type": "stream",
     "text": [
      "Setting SC3 parameters...\n",
      "Warning message:\n",
      "“'isSpike' is deprecated.\n",
      "See help(\"Deprecated\")”Warning message:\n",
      "“'isSpike' is deprecated.\n",
      "See help(\"Deprecated\")”Calculating distances between the cells...\n",
      "Performing transformations and calculating eigenvectors...\n",
      "Performing k-means clustering...\n"
     ]
    },
    {
     "name": "stdout",
     "output_type": "stream",
     "text": [
      "\n"
     ]
    },
    {
     "name": "stderr",
     "output_type": "stream",
     "text": [
      "Calculating consensus matrix...\n"
     ]
    },
    {
     "name": "stdout",
     "output_type": "stream",
     "text": [
      "class: SingleCellExperiment \n",
      "dim: 23730 301 \n",
      "metadata(0):\n",
      "assays(2): normcounts logcounts\n",
      "rownames(23730): A1BG A1BG-AS1 ... ZZEF1 ZZZ3\n",
      "rowData names(1): feature_symbol\n",
      "colnames(301): Hi_2338_1 Hi_2338_2 ... Hi_GW16_25 Hi_GW16_26\n",
      "colData names(2): cell_type1 cell_type2\n",
      "reducedDimNames(0):\n",
      "spikeNames(1): ERCC\n",
      "altExpNames(0):\n"
     ]
    },
    {
     "name": "stderr",
     "output_type": "stream",
     "text": [
      "Setting SC3 parameters...\n",
      "Warning message:\n",
      "“'isSpike' is deprecated.\n",
      "See help(\"Deprecated\")”Warning message:\n",
      "“'isSpike' is deprecated.\n",
      "See help(\"Deprecated\")”Calculating distances between the cells...\n",
      "Performing transformations and calculating eigenvectors...\n",
      "Performing k-means clustering...\n"
     ]
    },
    {
     "name": "stdout",
     "output_type": "stream",
     "text": [
      "\n"
     ]
    },
    {
     "name": "stderr",
     "output_type": "stream",
     "text": [
      "Calculating consensus matrix...\n"
     ]
    },
    {
     "name": "stdout",
     "output_type": "stream",
     "text": [
      "class: SingleCellExperiment \n",
      "dim: 23730 301 \n",
      "metadata(0):\n",
      "assays(2): normcounts logcounts\n",
      "rownames(23730): A1BG A1BG-AS1 ... ZZEF1 ZZZ3\n",
      "rowData names(1): feature_symbol\n",
      "colnames(301): Hi_2338_1 Hi_2338_2 ... Hi_GW16_25 Hi_GW16_26\n",
      "colData names(2): cell_type1 cell_type2\n",
      "reducedDimNames(0):\n",
      "spikeNames(1): ERCC\n",
      "altExpNames(0):\n"
     ]
    },
    {
     "name": "stderr",
     "output_type": "stream",
     "text": [
      "Setting SC3 parameters...\n",
      "Warning message:\n",
      "“'isSpike' is deprecated.\n",
      "See help(\"Deprecated\")”Warning message:\n",
      "“'isSpike' is deprecated.\n",
      "See help(\"Deprecated\")”Calculating distances between the cells...\n",
      "Performing transformations and calculating eigenvectors...\n",
      "Performing k-means clustering...\n"
     ]
    },
    {
     "name": "stdout",
     "output_type": "stream",
     "text": [
      "\n"
     ]
    },
    {
     "name": "stderr",
     "output_type": "stream",
     "text": [
      "Calculating consensus matrix...\n"
     ]
    },
    {
     "name": "stdout",
     "output_type": "stream",
     "text": [
      "class: SingleCellExperiment \n",
      "dim: 23730 301 \n",
      "metadata(0):\n",
      "assays(2): normcounts logcounts\n",
      "rownames(23730): A1BG A1BG-AS1 ... ZZEF1 ZZZ3\n",
      "rowData names(1): feature_symbol\n",
      "colnames(301): Hi_2338_1 Hi_2338_2 ... Hi_GW16_25 Hi_GW16_26\n",
      "colData names(2): cell_type1 cell_type2\n",
      "reducedDimNames(0):\n",
      "spikeNames(1): ERCC\n",
      "altExpNames(0):\n"
     ]
    },
    {
     "name": "stderr",
     "output_type": "stream",
     "text": [
      "Setting SC3 parameters...\n",
      "Warning message:\n",
      "“'isSpike' is deprecated.\n",
      "See help(\"Deprecated\")”Warning message:\n",
      "“'isSpike' is deprecated.\n",
      "See help(\"Deprecated\")”Calculating distances between the cells...\n",
      "Performing transformations and calculating eigenvectors...\n",
      "Performing k-means clustering...\n"
     ]
    },
    {
     "name": "stdout",
     "output_type": "stream",
     "text": [
      "\n"
     ]
    },
    {
     "name": "stderr",
     "output_type": "stream",
     "text": [
      "Calculating consensus matrix...\n"
     ]
    },
    {
     "name": "stdout",
     "output_type": "stream",
     "text": [
      "class: SingleCellExperiment \n",
      "dim: 23730 301 \n",
      "metadata(0):\n",
      "assays(2): normcounts logcounts\n",
      "rownames(23730): A1BG A1BG-AS1 ... ZZEF1 ZZZ3\n",
      "rowData names(1): feature_symbol\n",
      "colnames(301): Hi_2338_1 Hi_2338_2 ... Hi_GW16_25 Hi_GW16_26\n",
      "colData names(2): cell_type1 cell_type2\n",
      "reducedDimNames(0):\n",
      "spikeNames(1): ERCC\n",
      "altExpNames(0):\n"
     ]
    },
    {
     "name": "stderr",
     "output_type": "stream",
     "text": [
      "Setting SC3 parameters...\n",
      "Warning message:\n",
      "“'isSpike' is deprecated.\n",
      "See help(\"Deprecated\")”Warning message:\n",
      "“'isSpike' is deprecated.\n",
      "See help(\"Deprecated\")”Calculating distances between the cells...\n",
      "Performing transformations and calculating eigenvectors...\n",
      "Performing k-means clustering...\n"
     ]
    },
    {
     "name": "stdout",
     "output_type": "stream",
     "text": [
      "\n"
     ]
    },
    {
     "name": "stderr",
     "output_type": "stream",
     "text": [
      "Calculating consensus matrix...\n"
     ]
    },
    {
     "name": "stdout",
     "output_type": "stream",
     "text": [
      "class: SingleCellExperiment \n",
      "dim: 23730 301 \n",
      "metadata(0):\n",
      "assays(2): normcounts logcounts\n",
      "rownames(23730): A1BG A1BG-AS1 ... ZZEF1 ZZZ3\n",
      "rowData names(1): feature_symbol\n",
      "colnames(301): Hi_2338_1 Hi_2338_2 ... Hi_GW16_25 Hi_GW16_26\n",
      "colData names(2): cell_type1 cell_type2\n",
      "reducedDimNames(0):\n",
      "spikeNames(1): ERCC\n",
      "altExpNames(0):\n"
     ]
    },
    {
     "name": "stderr",
     "output_type": "stream",
     "text": [
      "Setting SC3 parameters...\n",
      "Warning message:\n",
      "“'isSpike' is deprecated.\n",
      "See help(\"Deprecated\")”Warning message:\n",
      "“'isSpike' is deprecated.\n",
      "See help(\"Deprecated\")”Calculating distances between the cells...\n",
      "Performing transformations and calculating eigenvectors...\n",
      "Performing k-means clustering...\n"
     ]
    },
    {
     "name": "stdout",
     "output_type": "stream",
     "text": [
      "\n"
     ]
    },
    {
     "name": "stderr",
     "output_type": "stream",
     "text": [
      "Calculating consensus matrix...\n"
     ]
    },
    {
     "name": "stdout",
     "output_type": "stream",
     "text": [
      "class: SingleCellExperiment \n",
      "dim: 23730 301 \n",
      "metadata(0):\n",
      "assays(2): normcounts logcounts\n",
      "rownames(23730): A1BG A1BG-AS1 ... ZZEF1 ZZZ3\n",
      "rowData names(1): feature_symbol\n",
      "colnames(301): Hi_2338_1 Hi_2338_2 ... Hi_GW16_25 Hi_GW16_26\n",
      "colData names(2): cell_type1 cell_type2\n",
      "reducedDimNames(0):\n",
      "spikeNames(1): ERCC\n",
      "altExpNames(0):\n"
     ]
    },
    {
     "name": "stderr",
     "output_type": "stream",
     "text": [
      "Setting SC3 parameters...\n",
      "Warning message:\n",
      "“'isSpike' is deprecated.\n",
      "See help(\"Deprecated\")”Warning message:\n",
      "“'isSpike' is deprecated.\n",
      "See help(\"Deprecated\")”Calculating distances between the cells...\n",
      "Performing transformations and calculating eigenvectors...\n",
      "Performing k-means clustering...\n"
     ]
    },
    {
     "name": "stdout",
     "output_type": "stream",
     "text": [
      "\n"
     ]
    },
    {
     "name": "stderr",
     "output_type": "stream",
     "text": [
      "Calculating consensus matrix...\n"
     ]
    },
    {
     "name": "stdout",
     "output_type": "stream",
     "text": [
      "class: SingleCellExperiment \n",
      "dim: 23730 301 \n",
      "metadata(0):\n",
      "assays(2): normcounts logcounts\n",
      "rownames(23730): A1BG A1BG-AS1 ... ZZEF1 ZZZ3\n",
      "rowData names(1): feature_symbol\n",
      "colnames(301): Hi_2338_1 Hi_2338_2 ... Hi_GW16_25 Hi_GW16_26\n",
      "colData names(2): cell_type1 cell_type2\n",
      "reducedDimNames(0):\n",
      "spikeNames(1): ERCC\n",
      "altExpNames(0):\n"
     ]
    },
    {
     "name": "stderr",
     "output_type": "stream",
     "text": [
      "Setting SC3 parameters...\n",
      "Warning message:\n",
      "“'isSpike' is deprecated.\n",
      "See help(\"Deprecated\")”Warning message:\n",
      "“'isSpike' is deprecated.\n",
      "See help(\"Deprecated\")”Calculating distances between the cells...\n",
      "Performing transformations and calculating eigenvectors...\n",
      "Performing k-means clustering...\n"
     ]
    },
    {
     "name": "stdout",
     "output_type": "stream",
     "text": [
      "\n"
     ]
    },
    {
     "name": "stderr",
     "output_type": "stream",
     "text": [
      "Calculating consensus matrix...\n"
     ]
    },
    {
     "name": "stdout",
     "output_type": "stream",
     "text": [
      "class: SingleCellExperiment \n",
      "dim: 23730 301 \n",
      "metadata(0):\n",
      "assays(2): normcounts logcounts\n",
      "rownames(23730): A1BG A1BG-AS1 ... ZZEF1 ZZZ3\n",
      "rowData names(1): feature_symbol\n",
      "colnames(301): Hi_2338_1 Hi_2338_2 ... Hi_GW16_25 Hi_GW16_26\n",
      "colData names(2): cell_type1 cell_type2\n",
      "reducedDimNames(0):\n",
      "spikeNames(1): ERCC\n",
      "altExpNames(0):\n"
     ]
    },
    {
     "name": "stderr",
     "output_type": "stream",
     "text": [
      "Setting SC3 parameters...\n",
      "Warning message:\n",
      "“'isSpike' is deprecated.\n",
      "See help(\"Deprecated\")”Warning message:\n",
      "“'isSpike' is deprecated.\n",
      "See help(\"Deprecated\")”Calculating distances between the cells...\n",
      "Performing transformations and calculating eigenvectors...\n",
      "Performing k-means clustering...\n"
     ]
    },
    {
     "name": "stdout",
     "output_type": "stream",
     "text": [
      "\n"
     ]
    },
    {
     "name": "stderr",
     "output_type": "stream",
     "text": [
      "Calculating consensus matrix...\n"
     ]
    },
    {
     "name": "stdout",
     "output_type": "stream",
     "text": [
      "class: SingleCellExperiment \n",
      "dim: 23730 301 \n",
      "metadata(0):\n",
      "assays(2): normcounts logcounts\n",
      "rownames(23730): A1BG A1BG-AS1 ... ZZEF1 ZZZ3\n",
      "rowData names(1): feature_symbol\n",
      "colnames(301): Hi_2338_1 Hi_2338_2 ... Hi_GW16_25 Hi_GW16_26\n",
      "colData names(2): cell_type1 cell_type2\n",
      "reducedDimNames(0):\n",
      "spikeNames(1): ERCC\n",
      "altExpNames(0):\n"
     ]
    },
    {
     "name": "stderr",
     "output_type": "stream",
     "text": [
      "Setting SC3 parameters...\n",
      "Warning message:\n",
      "“'isSpike' is deprecated.\n",
      "See help(\"Deprecated\")”Warning message:\n",
      "“'isSpike' is deprecated.\n",
      "See help(\"Deprecated\")”Calculating distances between the cells...\n",
      "Performing transformations and calculating eigenvectors...\n",
      "Performing k-means clustering...\n"
     ]
    },
    {
     "name": "stdout",
     "output_type": "stream",
     "text": [
      "\n"
     ]
    },
    {
     "name": "stderr",
     "output_type": "stream",
     "text": [
      "Calculating consensus matrix...\n"
     ]
    },
    {
     "name": "stdout",
     "output_type": "stream",
     "text": [
      "class: SingleCellExperiment \n",
      "dim: 23730 301 \n",
      "metadata(0):\n",
      "assays(2): normcounts logcounts\n",
      "rownames(23730): A1BG A1BG-AS1 ... ZZEF1 ZZZ3\n",
      "rowData names(1): feature_symbol\n",
      "colnames(301): Hi_2338_1 Hi_2338_2 ... Hi_GW16_25 Hi_GW16_26\n",
      "colData names(2): cell_type1 cell_type2\n",
      "reducedDimNames(0):\n",
      "spikeNames(1): ERCC\n",
      "altExpNames(0):\n"
     ]
    },
    {
     "name": "stderr",
     "output_type": "stream",
     "text": [
      "Setting SC3 parameters...\n",
      "Warning message:\n",
      "“'isSpike' is deprecated.\n",
      "See help(\"Deprecated\")”Warning message:\n",
      "“'isSpike' is deprecated.\n",
      "See help(\"Deprecated\")”Calculating distances between the cells...\n",
      "Performing transformations and calculating eigenvectors...\n",
      "Performing k-means clustering...\n"
     ]
    },
    {
     "name": "stdout",
     "output_type": "stream",
     "text": [
      "\n"
     ]
    },
    {
     "name": "stderr",
     "output_type": "stream",
     "text": [
      "Calculating consensus matrix...\n"
     ]
    },
    {
     "name": "stdout",
     "output_type": "stream",
     "text": [
      "class: SingleCellExperiment \n",
      "dim: 23730 301 \n",
      "metadata(0):\n",
      "assays(2): normcounts logcounts\n",
      "rownames(23730): A1BG A1BG-AS1 ... ZZEF1 ZZZ3\n",
      "rowData names(1): feature_symbol\n",
      "colnames(301): Hi_2338_1 Hi_2338_2 ... Hi_GW16_25 Hi_GW16_26\n",
      "colData names(2): cell_type1 cell_type2\n",
      "reducedDimNames(0):\n",
      "spikeNames(1): ERCC\n",
      "altExpNames(0):\n"
     ]
    },
    {
     "name": "stderr",
     "output_type": "stream",
     "text": [
      "Setting SC3 parameters...\n",
      "Warning message:\n",
      "“'isSpike' is deprecated.\n",
      "See help(\"Deprecated\")”Warning message:\n",
      "“'isSpike' is deprecated.\n",
      "See help(\"Deprecated\")”Calculating distances between the cells...\n",
      "Performing transformations and calculating eigenvectors...\n",
      "Performing k-means clustering...\n"
     ]
    },
    {
     "name": "stdout",
     "output_type": "stream",
     "text": [
      "\n"
     ]
    },
    {
     "name": "stderr",
     "output_type": "stream",
     "text": [
      "Calculating consensus matrix...\n"
     ]
    },
    {
     "name": "stdout",
     "output_type": "stream",
     "text": [
      "class: SingleCellExperiment \n",
      "dim: 23730 301 \n",
      "metadata(0):\n",
      "assays(2): normcounts logcounts\n",
      "rownames(23730): A1BG A1BG-AS1 ... ZZEF1 ZZZ3\n",
      "rowData names(1): feature_symbol\n",
      "colnames(301): Hi_2338_1 Hi_2338_2 ... Hi_GW16_25 Hi_GW16_26\n",
      "colData names(2): cell_type1 cell_type2\n",
      "reducedDimNames(0):\n",
      "spikeNames(1): ERCC\n",
      "altExpNames(0):\n"
     ]
    },
    {
     "name": "stderr",
     "output_type": "stream",
     "text": [
      "Setting SC3 parameters...\n",
      "Warning message:\n",
      "“'isSpike' is deprecated.\n",
      "See help(\"Deprecated\")”Warning message:\n",
      "“'isSpike' is deprecated.\n",
      "See help(\"Deprecated\")”Calculating distances between the cells...\n",
      "Performing transformations and calculating eigenvectors...\n",
      "Performing k-means clustering...\n"
     ]
    },
    {
     "name": "stdout",
     "output_type": "stream",
     "text": [
      "\n"
     ]
    },
    {
     "name": "stderr",
     "output_type": "stream",
     "text": [
      "Calculating consensus matrix...\n"
     ]
    },
    {
     "name": "stdout",
     "output_type": "stream",
     "text": [
      "class: SingleCellExperiment \n",
      "dim: 23730 301 \n",
      "metadata(0):\n",
      "assays(2): normcounts logcounts\n",
      "rownames(23730): A1BG A1BG-AS1 ... ZZEF1 ZZZ3\n",
      "rowData names(1): feature_symbol\n",
      "colnames(301): Hi_2338_1 Hi_2338_2 ... Hi_GW16_25 Hi_GW16_26\n",
      "colData names(2): cell_type1 cell_type2\n",
      "reducedDimNames(0):\n",
      "spikeNames(1): ERCC\n",
      "altExpNames(0):\n"
     ]
    },
    {
     "name": "stderr",
     "output_type": "stream",
     "text": [
      "Setting SC3 parameters...\n",
      "Warning message:\n",
      "“'isSpike' is deprecated.\n",
      "See help(\"Deprecated\")”Warning message:\n",
      "“'isSpike' is deprecated.\n",
      "See help(\"Deprecated\")”Calculating distances between the cells...\n",
      "Performing transformations and calculating eigenvectors...\n",
      "Performing k-means clustering...\n"
     ]
    },
    {
     "name": "stdout",
     "output_type": "stream",
     "text": [
      "\n"
     ]
    },
    {
     "name": "stderr",
     "output_type": "stream",
     "text": [
      "Calculating consensus matrix...\n"
     ]
    },
    {
     "name": "stdout",
     "output_type": "stream",
     "text": [
      "class: SingleCellExperiment \n",
      "dim: 23730 301 \n",
      "metadata(0):\n",
      "assays(2): normcounts logcounts\n",
      "rownames(23730): A1BG A1BG-AS1 ... ZZEF1 ZZZ3\n",
      "rowData names(1): feature_symbol\n",
      "colnames(301): Hi_2338_1 Hi_2338_2 ... Hi_GW16_25 Hi_GW16_26\n",
      "colData names(2): cell_type1 cell_type2\n",
      "reducedDimNames(0):\n",
      "spikeNames(1): ERCC\n",
      "altExpNames(0):\n"
     ]
    },
    {
     "name": "stderr",
     "output_type": "stream",
     "text": [
      "Setting SC3 parameters...\n",
      "Warning message:\n",
      "“'isSpike' is deprecated.\n",
      "See help(\"Deprecated\")”Warning message:\n",
      "“'isSpike' is deprecated.\n",
      "See help(\"Deprecated\")”Calculating distances between the cells...\n",
      "Performing transformations and calculating eigenvectors...\n",
      "Performing k-means clustering...\n"
     ]
    },
    {
     "name": "stdout",
     "output_type": "stream",
     "text": [
      "\n"
     ]
    },
    {
     "name": "stderr",
     "output_type": "stream",
     "text": [
      "Calculating consensus matrix...\n"
     ]
    },
    {
     "name": "stdout",
     "output_type": "stream",
     "text": [
      "class: SingleCellExperiment \n",
      "dim: 23730 301 \n",
      "metadata(0):\n",
      "assays(2): normcounts logcounts\n",
      "rownames(23730): A1BG A1BG-AS1 ... ZZEF1 ZZZ3\n",
      "rowData names(1): feature_symbol\n",
      "colnames(301): Hi_2338_1 Hi_2338_2 ... Hi_GW16_25 Hi_GW16_26\n",
      "colData names(2): cell_type1 cell_type2\n",
      "reducedDimNames(0):\n",
      "spikeNames(1): ERCC\n",
      "altExpNames(0):\n"
     ]
    },
    {
     "name": "stderr",
     "output_type": "stream",
     "text": [
      "Setting SC3 parameters...\n",
      "Warning message:\n",
      "“'isSpike' is deprecated.\n",
      "See help(\"Deprecated\")”Warning message:\n",
      "“'isSpike' is deprecated.\n",
      "See help(\"Deprecated\")”Calculating distances between the cells...\n",
      "Performing transformations and calculating eigenvectors...\n",
      "Performing k-means clustering...\n"
     ]
    },
    {
     "name": "stdout",
     "output_type": "stream",
     "text": [
      "\n"
     ]
    },
    {
     "name": "stderr",
     "output_type": "stream",
     "text": [
      "Calculating consensus matrix...\n"
     ]
    },
    {
     "name": "stdout",
     "output_type": "stream",
     "text": [
      "class: SingleCellExperiment \n",
      "dim: 23730 301 \n",
      "metadata(0):\n",
      "assays(2): normcounts logcounts\n",
      "rownames(23730): A1BG A1BG-AS1 ... ZZEF1 ZZZ3\n",
      "rowData names(1): feature_symbol\n",
      "colnames(301): Hi_2338_1 Hi_2338_2 ... Hi_GW16_25 Hi_GW16_26\n",
      "colData names(2): cell_type1 cell_type2\n",
      "reducedDimNames(0):\n",
      "spikeNames(1): ERCC\n",
      "altExpNames(0):\n"
     ]
    },
    {
     "name": "stderr",
     "output_type": "stream",
     "text": [
      "Setting SC3 parameters...\n",
      "Warning message:\n",
      "“'isSpike' is deprecated.\n",
      "See help(\"Deprecated\")”Warning message:\n",
      "“'isSpike' is deprecated.\n",
      "See help(\"Deprecated\")”Calculating distances between the cells...\n",
      "Performing transformations and calculating eigenvectors...\n",
      "Performing k-means clustering...\n"
     ]
    },
    {
     "name": "stdout",
     "output_type": "stream",
     "text": [
      "\n"
     ]
    },
    {
     "name": "stderr",
     "output_type": "stream",
     "text": [
      "Calculating consensus matrix...\n"
     ]
    },
    {
     "name": "stdout",
     "output_type": "stream",
     "text": [
      "class: SingleCellExperiment \n",
      "dim: 23730 301 \n",
      "metadata(0):\n",
      "assays(2): normcounts logcounts\n",
      "rownames(23730): A1BG A1BG-AS1 ... ZZEF1 ZZZ3\n",
      "rowData names(1): feature_symbol\n",
      "colnames(301): Hi_2338_1 Hi_2338_2 ... Hi_GW16_25 Hi_GW16_26\n",
      "colData names(2): cell_type1 cell_type2\n",
      "reducedDimNames(0):\n",
      "spikeNames(1): ERCC\n",
      "altExpNames(0):\n"
     ]
    },
    {
     "name": "stderr",
     "output_type": "stream",
     "text": [
      "Setting SC3 parameters...\n",
      "Warning message:\n",
      "“'isSpike' is deprecated.\n",
      "See help(\"Deprecated\")”Warning message:\n",
      "“'isSpike' is deprecated.\n",
      "See help(\"Deprecated\")”Calculating distances between the cells...\n",
      "Performing transformations and calculating eigenvectors...\n",
      "Performing k-means clustering...\n"
     ]
    },
    {
     "name": "stdout",
     "output_type": "stream",
     "text": [
      "\n"
     ]
    },
    {
     "name": "stderr",
     "output_type": "stream",
     "text": [
      "Calculating consensus matrix...\n"
     ]
    },
    {
     "name": "stdout",
     "output_type": "stream",
     "text": [
      "class: SingleCellExperiment \n",
      "dim: 23730 301 \n",
      "metadata(0):\n",
      "assays(2): normcounts logcounts\n",
      "rownames(23730): A1BG A1BG-AS1 ... ZZEF1 ZZZ3\n",
      "rowData names(1): feature_symbol\n",
      "colnames(301): Hi_2338_1 Hi_2338_2 ... Hi_GW16_25 Hi_GW16_26\n",
      "colData names(2): cell_type1 cell_type2\n",
      "reducedDimNames(0):\n",
      "spikeNames(1): ERCC\n",
      "altExpNames(0):\n"
     ]
    },
    {
     "name": "stderr",
     "output_type": "stream",
     "text": [
      "Setting SC3 parameters...\n",
      "Warning message:\n",
      "“'isSpike' is deprecated.\n",
      "See help(\"Deprecated\")”Warning message:\n",
      "“'isSpike' is deprecated.\n",
      "See help(\"Deprecated\")”Calculating distances between the cells...\n",
      "Performing transformations and calculating eigenvectors...\n",
      "Performing k-means clustering...\n"
     ]
    },
    {
     "name": "stdout",
     "output_type": "stream",
     "text": [
      "\n"
     ]
    },
    {
     "name": "stderr",
     "output_type": "stream",
     "text": [
      "Calculating consensus matrix...\n"
     ]
    },
    {
     "name": "stdout",
     "output_type": "stream",
     "text": [
      "class: SingleCellExperiment \n",
      "dim: 23730 301 \n",
      "metadata(0):\n",
      "assays(2): normcounts logcounts\n",
      "rownames(23730): A1BG A1BG-AS1 ... ZZEF1 ZZZ3\n",
      "rowData names(1): feature_symbol\n",
      "colnames(301): Hi_2338_1 Hi_2338_2 ... Hi_GW16_25 Hi_GW16_26\n",
      "colData names(2): cell_type1 cell_type2\n",
      "reducedDimNames(0):\n",
      "spikeNames(1): ERCC\n",
      "altExpNames(0):\n"
     ]
    },
    {
     "name": "stderr",
     "output_type": "stream",
     "text": [
      "Setting SC3 parameters...\n",
      "Warning message:\n",
      "“'isSpike' is deprecated.\n",
      "See help(\"Deprecated\")”Warning message:\n",
      "“'isSpike' is deprecated.\n",
      "See help(\"Deprecated\")”Calculating distances between the cells...\n",
      "Performing transformations and calculating eigenvectors...\n",
      "Performing k-means clustering...\n"
     ]
    },
    {
     "name": "stdout",
     "output_type": "stream",
     "text": [
      "\n"
     ]
    },
    {
     "name": "stderr",
     "output_type": "stream",
     "text": [
      "Calculating consensus matrix...\n"
     ]
    },
    {
     "name": "stdout",
     "output_type": "stream",
     "text": [
      "class: SingleCellExperiment \n",
      "dim: 23730 301 \n",
      "metadata(0):\n",
      "assays(2): normcounts logcounts\n",
      "rownames(23730): A1BG A1BG-AS1 ... ZZEF1 ZZZ3\n",
      "rowData names(1): feature_symbol\n",
      "colnames(301): Hi_2338_1 Hi_2338_2 ... Hi_GW16_25 Hi_GW16_26\n",
      "colData names(2): cell_type1 cell_type2\n",
      "reducedDimNames(0):\n",
      "spikeNames(1): ERCC\n",
      "altExpNames(0):\n"
     ]
    },
    {
     "name": "stderr",
     "output_type": "stream",
     "text": [
      "Setting SC3 parameters...\n",
      "Warning message:\n",
      "“'isSpike' is deprecated.\n",
      "See help(\"Deprecated\")”Warning message:\n",
      "“'isSpike' is deprecated.\n",
      "See help(\"Deprecated\")”Calculating distances between the cells...\n",
      "Performing transformations and calculating eigenvectors...\n",
      "Performing k-means clustering...\n"
     ]
    },
    {
     "name": "stdout",
     "output_type": "stream",
     "text": [
      "\n"
     ]
    },
    {
     "name": "stderr",
     "output_type": "stream",
     "text": [
      "Calculating consensus matrix...\n"
     ]
    }
   ],
   "source": [
    "for(tot in 1:100)\n",
    "{\n",
    "    library('tidyverse')\n",
    "    a<-read_rds('pollen.rds')\n",
    "    print(a)\n",
    "    tryCatch({\n",
    "            counts(a) <-assay(a, \"normcounts\")\n",
    "    }, warning = function(w) {\n",
    "    }, error = function(e) {\n",
    "    }, finally = {\n",
    "    })\n",
    "    library(SC3)\n",
    "    t <- sc3_prepare(a)\n",
    "    t<-sc3_calc_dists(t)\n",
    "    t<-sc3_calc_transfs(t)\n",
    "    t <- sc3_kmeans(t,ks=11:11)\n",
    "    t <- sc3_calc_consens(t)\n",
    "    scc<-colData(t)$sc3_11_clusters\n",
    "    cat(scc,file=\"SC3_Pollen.txt\",append=TRUE)\n",
    "    cat(\"\\n\",file=\"SC3_Pollen.txt\",append=TRUE)\n",
    "}"
   ]
  }
 ],
 "metadata": {
  "kernelspec": {
   "display_name": "R",
   "language": "R",
   "name": "ir"
  },
  "language_info": {
   "codemirror_mode": "r",
   "file_extension": ".r",
   "mimetype": "text/x-r-source",
   "name": "R",
   "pygments_lexer": "r",
   "version": "3.6.1"
  }
 },
 "nbformat": 4,
 "nbformat_minor": 4
}
